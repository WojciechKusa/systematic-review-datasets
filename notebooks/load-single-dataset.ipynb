{
 "cells": [
  {
   "cell_type": "markdown",
   "source": [
    "# How to use CSMeD to load single dataset"
   ],
   "metadata": {
    "collapsed": false
   },
   "id": "8872a2f7344cb5c8"
  },
  {
   "cell_type": "code",
   "outputs": [],
   "source": [
    "# install required dependencies\n",
    "! pip install datasets\n",
    "! pip install -e ../"
   ],
   "metadata": {
    "collapsed": false
   },
   "id": "6020a5226fc76520",
   "execution_count": null
  },
  {
   "cell_type": "code",
   "execution_count": 22,
   "id": "initial_id",
   "metadata": {
    "collapsed": true,
    "ExecuteTime": {
     "end_time": "2024-03-07T18:29:33.303640Z",
     "start_time": "2024-03-07T18:29:33.297978Z"
    }
   },
   "outputs": [],
   "source": [
    "from csmed.datasets.cohen.cohen import REVIEWS\n",
    "import datasets"
   ]
  },
  {
   "cell_type": "markdown",
   "source": [
    "## load single systematic review from a dataset using its specific name"
   ],
   "metadata": {
    "collapsed": false
   },
   "id": "1cfbc4419c5e120e"
  },
  {
   "cell_type": "code",
   "outputs": [
    {
     "name": "stderr",
     "output_type": "stream",
     "text": [
      "Found cached dataset cohen (/Users/wojciechkusa/.cache/huggingface/datasets/cohen/cohen_ACEInhibitors_source/1.0.0/529c7996a7a919e8de11ca275224390321d552911db8bd41a4eef1638cd016be)\n"
     ]
    },
    {
     "data": {
      "text/plain": "  0%|          | 0/1 [00:00<?, ?it/s]",
      "application/vnd.jupyter.widget-view+json": {
       "version_major": 2,
       "version_minor": 0,
       "model_id": "acd5cebcd0a244668fac66f9cdfe0ef4"
      }
     },
     "metadata": {},
     "output_type": "display_data"
    }
   ],
   "source": [
    "single_sr = datasets.load_dataset(\"../csmed/datasets/cohen/cohen.py\", name=f\"cohen_{REVIEWS[0]}_source\")"
   ],
   "metadata": {
    "collapsed": false,
    "ExecuteTime": {
     "end_time": "2024-03-07T18:29:35.611190Z",
     "start_time": "2024-03-07T18:29:35.535382Z"
    }
   },
   "id": "f820498c071b7c0b",
   "execution_count": 23
  },
  {
   "cell_type": "code",
   "outputs": [
    {
     "data": {
      "text/plain": "2544"
     },
     "execution_count": 24,
     "metadata": {},
     "output_type": "execute_result"
    }
   ],
   "source": [
    "len(single_sr['train'])"
   ],
   "metadata": {
    "collapsed": false,
    "ExecuteTime": {
     "end_time": "2024-03-07T18:29:36.171766Z",
     "start_time": "2024-03-07T18:29:36.166562Z"
    }
   },
   "id": "e57b1b4c422768fa",
   "execution_count": 24
  },
  {
   "cell_type": "code",
   "outputs": [
    {
     "data": {
      "text/plain": "{'review_name': 'ACEInhibitors',\n 'pmid': '10024335',\n 'title': 'Distinct and combined vascular effects of ACE blockade and HMG-CoA reductase inhibition in hypertensive subjects.',\n 'abstract': 'Hypercholesterolemia and hypertension are frequently associated with elevated sympathetic activity. Both are independent cardiovascular risk factors and both affect endothelium-mediated vasodilation. To identify the effects of cholesterol-lowering and antihypertensive treatments on vascular reactivity and vasodilative capacity, we studied 30 hypercholesterolemic hypertensive subjects. They received placebo for 4 weeks, either enalapril or simvastatin for 14 weeks, and, finally, both medications for an additional 14 weeks. Postischemic forearm blood flow (MFBF) and minimal vascular resistance (mFVR) were used as indices of vasodilative capacity and structural vascular damage, respectively. Total (resting-stress-recovery phases) cardiovascular (blood pressure [BP] and heart rate [HR]) and regional hemodynamic (FBF and FVR) reactivity to stressful stimuli were calculated as area-under-the-curve (auc) (valuextime). Compared with baseline levels, simvastatin reduced total (TOT-C) and LDL cholesterol (LDL-C) (1.27 mmol/L, P<0.001 and 1.33 mmol/L, P<0.001, respectively). Enalapril also reduced TOT-C and LDL-C (0.6 mmol/L, P<0.001 and 0.58 mmol/L, P<0.05, respectively). MFBF was increased substantially by both treatments (P<0.001). Enalapril had a greater effect (-1.7 arbitrary units (AU), P<0.001) than simvastatin (-0.6 AU, P<0.05) on mFVR. During stress, FBF increased more with enalapril (4.4 FBFxminutes, P<0.001) than with simvastatin (1.8 FBFxminutes, P<0.01). Conversely, FVR stress response was reduced more with enalapril (9.1 FVRxminutes, P<0.001) than with simvastatin (2.9 FVRxminutes, P<0.01). During combination treatment, a significant (0.001>P<0.05) additive effect on hypercholesterolemia, structural vascular damage, BP, and FVR was shown. The findings suggest that angiotensin-converting enzyme (ACE) inhibition induces a larger reduction than HMG-CoA reductase blockade in vascular reactivity and structural damage in hypercholesterolemic hypertensive subjects.',\n 'label': 0}"
     },
     "execution_count": 25,
     "metadata": {},
     "output_type": "execute_result"
    }
   ],
   "source": [
    "single_sr['train'][0]"
   ],
   "metadata": {
    "collapsed": false,
    "ExecuteTime": {
     "end_time": "2024-03-07T18:29:36.864860Z",
     "start_time": "2024-03-07T18:29:36.860173Z"
    }
   },
   "id": "d2052ef29082c08c",
   "execution_count": 25
  },
  {
   "cell_type": "code",
   "outputs": [
    {
     "name": "stdout",
     "output_type": "stream",
     "text": [
      "10024335\n",
      "Distinct and combined vascular effects of ACE blockade and HMG-CoA reductase inhibition in hypertensive subjects.\n",
      "0\n",
      "10027665\n",
      "Computerized surveillance of adverse drug reactions in hospital: implementation.\n",
      "0\n",
      "10027935\n",
      "Glomerular size-selective dysfunction in NIDDM is not ameliorated by ACE inhibition or by calcium channel blockade.\n",
      "0\n",
      "10028936\n",
      "Total arterial compliance in ambulatory hypertension during selective beta1-adrenergic receptor blockade and angiotensin-converting enzyme inhibition.\n",
      "0\n",
      "10029645\n",
      "Racial differences in the outcome of left ventricular dysfunction.\n",
      "0\n",
      "10029788\n",
      "Exfoliative dermatitis.\n",
      "0\n",
      "10030325\n",
      "Effect of angiotensin-converting-enzyme inhibition compared with conventional therapy on cardiovascular morbidity and mortality in hypertension: the Captopril Prevention Project (CAPPP) randomised trial.\n",
      "0\n",
      "10047639\n",
      "Effects of short-acting and long-acting loop diuretics on heart rate variability in patients with chronic compensated congestive heart failure.\n",
      "0\n",
      "10049657\n",
      "Capillary blood cell velocity in finger nailfold: effect of enalapril and mibefradil in patients with mild to moderate hypertension.\n",
      "0\n",
      "10051289\n",
      "Addition of angiotensin II receptor blockade to maximal angiotensin-converting enzyme inhibition improves exercise capacity in patients with severe congestive heart failure.\n",
      "0\n"
     ]
    }
   ],
   "source": [
    "# print top 10\n",
    "for i in range(10):\n",
    "    print(single_sr['train'][i]['pmid'])\n",
    "    print(single_sr['train'][i]['title'])\n",
    "    print(single_sr['train'][i]['label'])"
   ],
   "metadata": {
    "collapsed": false,
    "ExecuteTime": {
     "end_time": "2024-03-07T18:29:37.164643Z",
     "start_time": "2024-03-07T18:29:37.153881Z"
    }
   },
   "id": "e05d613e9930c7d5",
   "execution_count": 26
  },
  {
   "cell_type": "markdown",
   "source": [
    "## load all SLRs from a given dataset"
   ],
   "metadata": {
    "collapsed": false
   },
   "id": "71c52c45a6b4875a"
  },
  {
   "cell_type": "code",
   "outputs": [
    {
     "name": "stderr",
     "output_type": "stream",
     "text": [
      "Found cached dataset cohen (/Users/wojciechkusa/.cache/huggingface/datasets/cohen/cohen_ACEInhibitors_source/1.0.0/529c7996a7a919e8de11ca275224390321d552911db8bd41a4eef1638cd016be)\n"
     ]
    },
    {
     "data": {
      "text/plain": "  0%|          | 0/1 [00:00<?, ?it/s]",
      "application/vnd.jupyter.widget-view+json": {
       "version_major": 2,
       "version_minor": 0,
       "model_id": "772f0612376742608d851ad114545ecb"
      }
     },
     "metadata": {},
     "output_type": "display_data"
    },
    {
     "name": "stderr",
     "output_type": "stream",
     "text": [
      "Found cached dataset cohen (/Users/wojciechkusa/.cache/huggingface/datasets/cohen/cohen_ADHD_source/1.0.0/529c7996a7a919e8de11ca275224390321d552911db8bd41a4eef1638cd016be)\n"
     ]
    },
    {
     "data": {
      "text/plain": "  0%|          | 0/1 [00:00<?, ?it/s]",
      "application/vnd.jupyter.widget-view+json": {
       "version_major": 2,
       "version_minor": 0,
       "model_id": "67514dbdb904465aaaa4f5f84a317869"
      }
     },
     "metadata": {},
     "output_type": "display_data"
    },
    {
     "name": "stderr",
     "output_type": "stream",
     "text": [
      "Found cached dataset cohen (/Users/wojciechkusa/.cache/huggingface/datasets/cohen/cohen_Antihistamines_source/1.0.0/529c7996a7a919e8de11ca275224390321d552911db8bd41a4eef1638cd016be)\n"
     ]
    },
    {
     "data": {
      "text/plain": "  0%|          | 0/1 [00:00<?, ?it/s]",
      "application/vnd.jupyter.widget-view+json": {
       "version_major": 2,
       "version_minor": 0,
       "model_id": "6641e8dc95f14497af8e934c0efe93bf"
      }
     },
     "metadata": {},
     "output_type": "display_data"
    },
    {
     "name": "stderr",
     "output_type": "stream",
     "text": [
      "Found cached dataset cohen (/Users/wojciechkusa/.cache/huggingface/datasets/cohen/cohen_AtypicalAntipsychotics_source/1.0.0/529c7996a7a919e8de11ca275224390321d552911db8bd41a4eef1638cd016be)\n"
     ]
    },
    {
     "data": {
      "text/plain": "  0%|          | 0/1 [00:00<?, ?it/s]",
      "application/vnd.jupyter.widget-view+json": {
       "version_major": 2,
       "version_minor": 0,
       "model_id": "7bba7587839145bebc63425ecb7d4286"
      }
     },
     "metadata": {},
     "output_type": "display_data"
    },
    {
     "name": "stderr",
     "output_type": "stream",
     "text": [
      "Found cached dataset cohen (/Users/wojciechkusa/.cache/huggingface/datasets/cohen/cohen_BetaBlockers_source/1.0.0/529c7996a7a919e8de11ca275224390321d552911db8bd41a4eef1638cd016be)\n"
     ]
    },
    {
     "data": {
      "text/plain": "  0%|          | 0/1 [00:00<?, ?it/s]",
      "application/vnd.jupyter.widget-view+json": {
       "version_major": 2,
       "version_minor": 0,
       "model_id": "eb20ad447d114d94a20f2dab870045f2"
      }
     },
     "metadata": {},
     "output_type": "display_data"
    },
    {
     "name": "stderr",
     "output_type": "stream",
     "text": [
      "Found cached dataset cohen (/Users/wojciechkusa/.cache/huggingface/datasets/cohen/cohen_CalciumChannelBlockers_source/1.0.0/529c7996a7a919e8de11ca275224390321d552911db8bd41a4eef1638cd016be)\n"
     ]
    },
    {
     "data": {
      "text/plain": "  0%|          | 0/1 [00:00<?, ?it/s]",
      "application/vnd.jupyter.widget-view+json": {
       "version_major": 2,
       "version_minor": 0,
       "model_id": "764e92c1f016458190e12edac95a1afb"
      }
     },
     "metadata": {},
     "output_type": "display_data"
    },
    {
     "name": "stderr",
     "output_type": "stream",
     "text": [
      "Found cached dataset cohen (/Users/wojciechkusa/.cache/huggingface/datasets/cohen/cohen_Estrogens_source/1.0.0/529c7996a7a919e8de11ca275224390321d552911db8bd41a4eef1638cd016be)\n"
     ]
    },
    {
     "data": {
      "text/plain": "  0%|          | 0/1 [00:00<?, ?it/s]",
      "application/vnd.jupyter.widget-view+json": {
       "version_major": 2,
       "version_minor": 0,
       "model_id": "d05216e926ef4041979066f4348113a4"
      }
     },
     "metadata": {},
     "output_type": "display_data"
    },
    {
     "name": "stderr",
     "output_type": "stream",
     "text": [
      "Found cached dataset cohen (/Users/wojciechkusa/.cache/huggingface/datasets/cohen/cohen_NSAIDS_source/1.0.0/529c7996a7a919e8de11ca275224390321d552911db8bd41a4eef1638cd016be)\n"
     ]
    },
    {
     "data": {
      "text/plain": "  0%|          | 0/1 [00:00<?, ?it/s]",
      "application/vnd.jupyter.widget-view+json": {
       "version_major": 2,
       "version_minor": 0,
       "model_id": "802024a1b6da43b5a139948fc0195a47"
      }
     },
     "metadata": {},
     "output_type": "display_data"
    },
    {
     "name": "stderr",
     "output_type": "stream",
     "text": [
      "Found cached dataset cohen (/Users/wojciechkusa/.cache/huggingface/datasets/cohen/cohen_Opiods_source/1.0.0/529c7996a7a919e8de11ca275224390321d552911db8bd41a4eef1638cd016be)\n"
     ]
    },
    {
     "data": {
      "text/plain": "  0%|          | 0/1 [00:00<?, ?it/s]",
      "application/vnd.jupyter.widget-view+json": {
       "version_major": 2,
       "version_minor": 0,
       "model_id": "edabf278017e40c5b78b1abc35fbd9bc"
      }
     },
     "metadata": {},
     "output_type": "display_data"
    },
    {
     "name": "stderr",
     "output_type": "stream",
     "text": [
      "Found cached dataset cohen (/Users/wojciechkusa/.cache/huggingface/datasets/cohen/cohen_OralHypoglycemics_source/1.0.0/529c7996a7a919e8de11ca275224390321d552911db8bd41a4eef1638cd016be)\n"
     ]
    },
    {
     "data": {
      "text/plain": "  0%|          | 0/1 [00:00<?, ?it/s]",
      "application/vnd.jupyter.widget-view+json": {
       "version_major": 2,
       "version_minor": 0,
       "model_id": "018ee51b50f24cd2886f75b48d323754"
      }
     },
     "metadata": {},
     "output_type": "display_data"
    },
    {
     "name": "stderr",
     "output_type": "stream",
     "text": [
      "Found cached dataset cohen (/Users/wojciechkusa/.cache/huggingface/datasets/cohen/cohen_ProtonPumpInhibitors_source/1.0.0/529c7996a7a919e8de11ca275224390321d552911db8bd41a4eef1638cd016be)\n"
     ]
    },
    {
     "data": {
      "text/plain": "  0%|          | 0/1 [00:00<?, ?it/s]",
      "application/vnd.jupyter.widget-view+json": {
       "version_major": 2,
       "version_minor": 0,
       "model_id": "cf50be6184b44bcbbe7ad515bebf915d"
      }
     },
     "metadata": {},
     "output_type": "display_data"
    },
    {
     "name": "stderr",
     "output_type": "stream",
     "text": [
      "Found cached dataset cohen (/Users/wojciechkusa/.cache/huggingface/datasets/cohen/cohen_SkeletalMuscleRelaxants_source/1.0.0/529c7996a7a919e8de11ca275224390321d552911db8bd41a4eef1638cd016be)\n"
     ]
    },
    {
     "data": {
      "text/plain": "  0%|          | 0/1 [00:00<?, ?it/s]",
      "application/vnd.jupyter.widget-view+json": {
       "version_major": 2,
       "version_minor": 0,
       "model_id": "205aabadd690488abf96168127f38134"
      }
     },
     "metadata": {},
     "output_type": "display_data"
    },
    {
     "name": "stderr",
     "output_type": "stream",
     "text": [
      "Found cached dataset cohen (/Users/wojciechkusa/.cache/huggingface/datasets/cohen/cohen_Statins_source/1.0.0/529c7996a7a919e8de11ca275224390321d552911db8bd41a4eef1638cd016be)\n"
     ]
    },
    {
     "data": {
      "text/plain": "  0%|          | 0/1 [00:00<?, ?it/s]",
      "application/vnd.jupyter.widget-view+json": {
       "version_major": 2,
       "version_minor": 0,
       "model_id": "c8f8b280b3da4bb4b2d7c4e28850ec92"
      }
     },
     "metadata": {},
     "output_type": "display_data"
    },
    {
     "name": "stderr",
     "output_type": "stream",
     "text": [
      "Found cached dataset cohen (/Users/wojciechkusa/.cache/huggingface/datasets/cohen/cohen_Triptans_source/1.0.0/529c7996a7a919e8de11ca275224390321d552911db8bd41a4eef1638cd016be)\n"
     ]
    },
    {
     "data": {
      "text/plain": "  0%|          | 0/1 [00:00<?, ?it/s]",
      "application/vnd.jupyter.widget-view+json": {
       "version_major": 2,
       "version_minor": 0,
       "model_id": "2d1f78a150554b8d81b30fabdfcc6e5d"
      }
     },
     "metadata": {},
     "output_type": "display_data"
    },
    {
     "name": "stderr",
     "output_type": "stream",
     "text": [
      "Found cached dataset cohen (/Users/wojciechkusa/.cache/huggingface/datasets/cohen/cohen_UrinaryIncontinence_source/1.0.0/529c7996a7a919e8de11ca275224390321d552911db8bd41a4eef1638cd016be)\n"
     ]
    },
    {
     "data": {
      "text/plain": "  0%|          | 0/1 [00:00<?, ?it/s]",
      "application/vnd.jupyter.widget-view+json": {
       "version_major": 2,
       "version_minor": 0,
       "model_id": "2db02fc6208a43cab1c8db57756a648e"
      }
     },
     "metadata": {},
     "output_type": "display_data"
    }
   ],
   "source": [
    "data = {}\n",
    "for review in REVIEWS:\n",
    "    data[review] = datasets.load_dataset(\"../csmed/datasets/cohen/cohen.py\", name=f\"cohen_{review}_source\")"
   ],
   "metadata": {
    "collapsed": false,
    "ExecuteTime": {
     "end_time": "2024-03-07T18:29:38.404406Z",
     "start_time": "2024-03-07T18:29:37.897738Z"
    }
   },
   "id": "fa009cde52639f21",
   "execution_count": 27
  },
  {
   "cell_type": "code",
   "outputs": [
    {
     "name": "stdout",
     "output_type": "stream",
     "text": [
      "10051933\n"
     ]
    }
   ],
   "source": [
    "print(data[REVIEWS[1]]['train'][0]['pmid'])"
   ],
   "metadata": {
    "collapsed": false,
    "ExecuteTime": {
     "end_time": "2024-03-07T18:29:56.439407Z",
     "start_time": "2024-03-07T18:29:56.435923Z"
    }
   },
   "id": "8486f260a847b67b",
   "execution_count": 29
  },
  {
   "cell_type": "code",
   "outputs": [],
   "source": [],
   "metadata": {
    "collapsed": false
   },
   "id": "16105cbafa318315"
  }
 ],
 "metadata": {
  "kernelspec": {
   "display_name": "Python 3",
   "language": "python",
   "name": "python3"
  },
  "language_info": {
   "codemirror_mode": {
    "name": "ipython",
    "version": 2
   },
   "file_extension": ".py",
   "mimetype": "text/x-python",
   "name": "python",
   "nbconvert_exporter": "python",
   "pygments_lexer": "ipython2",
   "version": "2.7.6"
  }
 },
 "nbformat": 4,
 "nbformat_minor": 5
}
