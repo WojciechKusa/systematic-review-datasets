{
 "cells": [
  {
   "cell_type": "markdown",
   "source": [
    "# How to use CSMeD to load single dataset"
   ],
   "metadata": {
    "collapsed": false
   },
   "id": "8872a2f7344cb5c8"
  },
  {
   "cell_type": "code",
   "outputs": [
    {
     "name": "stdout",
     "output_type": "stream",
     "text": [
      "Requirement already satisfied: datasets in /Users/wojciechkusa/opt/miniconda3/envs/systematic-review-datasets/lib/python3.10/site-packages (2.12.0)\r\n",
      "Requirement already satisfied: numpy>=1.17 in /Users/wojciechkusa/opt/miniconda3/envs/systematic-review-datasets/lib/python3.10/site-packages (from datasets) (1.24.3)\r\n",
      "Requirement already satisfied: pyarrow>=8.0.0 in /Users/wojciechkusa/opt/miniconda3/envs/systematic-review-datasets/lib/python3.10/site-packages (from datasets) (12.0.0)\r\n",
      "Requirement already satisfied: dill<0.3.7,>=0.3.0 in /Users/wojciechkusa/opt/miniconda3/envs/systematic-review-datasets/lib/python3.10/site-packages (from datasets) (0.3.6)\r\n",
      "Requirement already satisfied: pandas in /Users/wojciechkusa/opt/miniconda3/envs/systematic-review-datasets/lib/python3.10/site-packages (from datasets) (1.5.3)\r\n",
      "Requirement already satisfied: requests>=2.19.0 in /Users/wojciechkusa/opt/miniconda3/envs/systematic-review-datasets/lib/python3.10/site-packages (from datasets) (2.31.0)\r\n",
      "Requirement already satisfied: tqdm>=4.62.1 in /Users/wojciechkusa/opt/miniconda3/envs/systematic-review-datasets/lib/python3.10/site-packages (from datasets) (4.65.0)\r\n",
      "Requirement already satisfied: xxhash in /Users/wojciechkusa/opt/miniconda3/envs/systematic-review-datasets/lib/python3.10/site-packages (from datasets) (3.2.0)\r\n",
      "Requirement already satisfied: multiprocess in /Users/wojciechkusa/opt/miniconda3/envs/systematic-review-datasets/lib/python3.10/site-packages (from datasets) (0.70.14)\r\n",
      "Requirement already satisfied: fsspec>=2021.11.1 in /Users/wojciechkusa/opt/miniconda3/envs/systematic-review-datasets/lib/python3.10/site-packages (from fsspec[http]>=2021.11.1->datasets) (2023.5.0)\r\n",
      "Requirement already satisfied: aiohttp in /Users/wojciechkusa/opt/miniconda3/envs/systematic-review-datasets/lib/python3.10/site-packages (from datasets) (3.8.4)\r\n",
      "Requirement already satisfied: huggingface-hub<1.0.0,>=0.11.0 in /Users/wojciechkusa/opt/miniconda3/envs/systematic-review-datasets/lib/python3.10/site-packages (from datasets) (0.16.4)\r\n",
      "Requirement already satisfied: packaging in /Users/wojciechkusa/opt/miniconda3/envs/systematic-review-datasets/lib/python3.10/site-packages (from datasets) (23.1)\r\n",
      "Requirement already satisfied: responses<0.19 in /Users/wojciechkusa/opt/miniconda3/envs/systematic-review-datasets/lib/python3.10/site-packages (from datasets) (0.18.0)\r\n",
      "Requirement already satisfied: pyyaml>=5.1 in /Users/wojciechkusa/opt/miniconda3/envs/systematic-review-datasets/lib/python3.10/site-packages (from datasets) (6.0)\r\n",
      "Requirement already satisfied: attrs>=17.3.0 in /Users/wojciechkusa/opt/miniconda3/envs/systematic-review-datasets/lib/python3.10/site-packages (from aiohttp->datasets) (23.1.0)\r\n",
      "Requirement already satisfied: charset-normalizer<4.0,>=2.0 in /Users/wojciechkusa/opt/miniconda3/envs/systematic-review-datasets/lib/python3.10/site-packages (from aiohttp->datasets) (3.1.0)\r\n",
      "Requirement already satisfied: multidict<7.0,>=4.5 in /Users/wojciechkusa/opt/miniconda3/envs/systematic-review-datasets/lib/python3.10/site-packages (from aiohttp->datasets) (6.0.4)\r\n",
      "Requirement already satisfied: async-timeout<5.0,>=4.0.0a3 in /Users/wojciechkusa/opt/miniconda3/envs/systematic-review-datasets/lib/python3.10/site-packages (from aiohttp->datasets) (4.0.2)\r\n",
      "Requirement already satisfied: yarl<2.0,>=1.0 in /Users/wojciechkusa/opt/miniconda3/envs/systematic-review-datasets/lib/python3.10/site-packages (from aiohttp->datasets) (1.9.2)\r\n",
      "Requirement already satisfied: frozenlist>=1.1.1 in /Users/wojciechkusa/opt/miniconda3/envs/systematic-review-datasets/lib/python3.10/site-packages (from aiohttp->datasets) (1.3.3)\r\n",
      "Requirement already satisfied: aiosignal>=1.1.2 in /Users/wojciechkusa/opt/miniconda3/envs/systematic-review-datasets/lib/python3.10/site-packages (from aiohttp->datasets) (1.3.1)\r\n",
      "Requirement already satisfied: filelock in /Users/wojciechkusa/opt/miniconda3/envs/systematic-review-datasets/lib/python3.10/site-packages (from huggingface-hub<1.0.0,>=0.11.0->datasets) (3.12.0)\r\n",
      "Requirement already satisfied: typing-extensions>=3.7.4.3 in /Users/wojciechkusa/opt/miniconda3/envs/systematic-review-datasets/lib/python3.10/site-packages (from huggingface-hub<1.0.0,>=0.11.0->datasets) (4.6.3)\r\n",
      "Requirement already satisfied: idna<4,>=2.5 in /Users/wojciechkusa/opt/miniconda3/envs/systematic-review-datasets/lib/python3.10/site-packages (from requests>=2.19.0->datasets) (3.4)\r\n",
      "Requirement already satisfied: urllib3<3,>=1.21.1 in /Users/wojciechkusa/opt/miniconda3/envs/systematic-review-datasets/lib/python3.10/site-packages (from requests>=2.19.0->datasets) (2.0.2)\r\n",
      "Requirement already satisfied: certifi>=2017.4.17 in /Users/wojciechkusa/opt/miniconda3/envs/systematic-review-datasets/lib/python3.10/site-packages (from requests>=2.19.0->datasets) (2023.5.7)\r\n",
      "Requirement already satisfied: python-dateutil>=2.8.1 in /Users/wojciechkusa/opt/miniconda3/envs/systematic-review-datasets/lib/python3.10/site-packages (from pandas->datasets) (2.8.2)\r\n",
      "Requirement already satisfied: pytz>=2020.1 in /Users/wojciechkusa/opt/miniconda3/envs/systematic-review-datasets/lib/python3.10/site-packages (from pandas->datasets) (2023.3)\r\n",
      "Requirement already satisfied: six>=1.5 in /Users/wojciechkusa/opt/miniconda3/envs/systematic-review-datasets/lib/python3.10/site-packages (from python-dateutil>=2.8.1->pandas->datasets) (1.16.0)\r\n",
      "\r\n",
      "\u001B[1m[\u001B[0m\u001B[34;49mnotice\u001B[0m\u001B[1;39;49m]\u001B[0m\u001B[39;49m A new release of pip is available: \u001B[0m\u001B[31;49m23.3.1\u001B[0m\u001B[39;49m -> \u001B[0m\u001B[32;49m24.0\u001B[0m\r\n",
      "\u001B[1m[\u001B[0m\u001B[34;49mnotice\u001B[0m\u001B[1;39;49m]\u001B[0m\u001B[39;49m To update, run: \u001B[0m\u001B[32;49mpip install --upgrade pip\u001B[0m\r\n",
      "Obtaining file:///Users/wojciechkusa/projects/00-data/systematic-review-datasets\r\n",
      "  Preparing metadata (setup.py) ... \u001B[?25ldone\r\n",
      "\u001B[?25hInstalling collected packages: csmed\r\n",
      "  Attempting uninstall: csmed\r\n",
      "    Found existing installation: csmed 0.0.1\r\n",
      "    Uninstalling csmed-0.0.1:\r\n",
      "      Successfully uninstalled csmed-0.0.1\r\n",
      "  Running setup.py develop for csmed\r\n",
      "Successfully installed csmed-0.1.0\r\n",
      "\r\n",
      "\u001B[1m[\u001B[0m\u001B[34;49mnotice\u001B[0m\u001B[1;39;49m]\u001B[0m\u001B[39;49m A new release of pip is available: \u001B[0m\u001B[31;49m23.3.1\u001B[0m\u001B[39;49m -> \u001B[0m\u001B[32;49m24.0\u001B[0m\r\n",
      "\u001B[1m[\u001B[0m\u001B[34;49mnotice\u001B[0m\u001B[1;39;49m]\u001B[0m\u001B[39;49m To update, run: \u001B[0m\u001B[32;49mpip install --upgrade pip\u001B[0m\r\n"
     ]
    }
   ],
   "source": [
    "# install required dependencies\n",
    "! pip install datasets\n",
    "! pip install -e ../"
   ],
   "metadata": {
    "collapsed": false,
    "ExecuteTime": {
     "end_time": "2024-03-07T18:02:10.154830Z",
     "start_time": "2024-03-07T18:02:00.666917Z"
    }
   },
   "id": "6020a5226fc76520",
   "execution_count": 34
  },
  {
   "cell_type": "code",
   "execution_count": 35,
   "id": "initial_id",
   "metadata": {
    "collapsed": true,
    "ExecuteTime": {
     "end_time": "2024-03-07T18:03:27.990855Z",
     "start_time": "2024-03-07T18:03:27.899485Z"
    }
   },
   "outputs": [],
   "source": [
    "from csmed.datasets.cohen.cohen import REVIEWS\n",
    "import datasets"
   ]
  },
  {
   "cell_type": "code",
   "outputs": [
    {
     "name": "stdout",
     "output_type": "stream",
     "text": [
      "Cohen dataset has 15 reviews\n"
     ]
    },
    {
     "data": {
      "text/plain": "['ACEInhibitors', 'ADHD']"
     },
     "execution_count": 13,
     "metadata": {},
     "output_type": "execute_result"
    }
   ],
   "source": [
    "print(f\"Cohen dataset has {len(REVIEWS)} reviews\")\n",
    "REVIEWS[:2]"
   ],
   "metadata": {
    "collapsed": false,
    "ExecuteTime": {
     "end_time": "2024-03-07T17:38:46.945329Z",
     "start_time": "2024-03-07T17:38:46.930473Z"
    }
   },
   "id": "5709811759b5f809",
   "execution_count": 13
  },
  {
   "cell_type": "markdown",
   "source": [
    "## load single systematic review from a dataset using its specific name"
   ],
   "metadata": {
    "collapsed": false
   },
   "id": "1cfbc4419c5e120e"
  },
  {
   "cell_type": "code",
   "outputs": [
    {
     "name": "stderr",
     "output_type": "stream",
     "text": [
      "Found cached dataset cohen (/Users/wojciechkusa/.cache/huggingface/datasets/cohen/cohen_ACEInhibitors_source/1.0.0/529c7996a7a919e8de11ca275224390321d552911db8bd41a4eef1638cd016be)\n"
     ]
    },
    {
     "data": {
      "text/plain": "  0%|          | 0/1 [00:00<?, ?it/s]",
      "application/vnd.jupyter.widget-view+json": {
       "version_major": 2,
       "version_minor": 0,
       "model_id": "43a2b7c9a59c4249aa2f42afdf8fda18"
      }
     },
     "metadata": {},
     "output_type": "display_data"
    }
   ],
   "source": [
    "single_sr = datasets.load_dataset(\"../csmed/datasets/cohen/cohen.py\", name=f\"cohen_{REVIEWS[0]}_source\")"
   ],
   "metadata": {
    "collapsed": false,
    "ExecuteTime": {
     "end_time": "2024-03-07T17:44:14.819673Z",
     "start_time": "2024-03-07T17:44:14.493393Z"
    }
   },
   "id": "f820498c071b7c0b",
   "execution_count": 24
  },
  {
   "cell_type": "code",
   "outputs": [
    {
     "data": {
      "text/plain": "2544"
     },
     "execution_count": 25,
     "metadata": {},
     "output_type": "execute_result"
    }
   ],
   "source": [
    "len(single_sr['train'])"
   ],
   "metadata": {
    "collapsed": false,
    "ExecuteTime": {
     "end_time": "2024-03-07T17:44:16.503725Z",
     "start_time": "2024-03-07T17:44:16.486337Z"
    }
   },
   "id": "e57b1b4c422768fa",
   "execution_count": 25
  },
  {
   "cell_type": "markdown",
   "source": [
    "## load all SLRs from a given dataset"
   ],
   "metadata": {
    "collapsed": false
   },
   "id": "71c52c45a6b4875a"
  },
  {
   "cell_type": "code",
   "outputs": [
    {
     "ename": "AttributeError",
     "evalue": "'dict' object has no attribute 'load_dataset'",
     "output_type": "error",
     "traceback": [
      "\u001B[0;31m---------------------------------------------------------------------------\u001B[0m",
      "\u001B[0;31mAttributeError\u001B[0m                            Traceback (most recent call last)",
      "Cell \u001B[0;32mIn[27], line 3\u001B[0m\n\u001B[1;32m      1\u001B[0m data \u001B[38;5;241m=\u001B[39m {}\n\u001B[1;32m      2\u001B[0m \u001B[38;5;28;01mfor\u001B[39;00m review \u001B[38;5;129;01min\u001B[39;00m REVIEWS:\n\u001B[0;32m----> 3\u001B[0m     data[review] \u001B[38;5;241m=\u001B[39m \u001B[43mdatasets\u001B[49m\u001B[38;5;241;43m.\u001B[39;49m\u001B[43mload_dataset\u001B[49m(\u001B[38;5;124m\"\u001B[39m\u001B[38;5;124m../csmed/datasets/cohen/cohen.py\u001B[39m\u001B[38;5;124m\"\u001B[39m, name\u001B[38;5;241m=\u001B[39m\u001B[38;5;124mf\u001B[39m\u001B[38;5;124m\"\u001B[39m\u001B[38;5;124mcohen_\u001B[39m\u001B[38;5;132;01m{\u001B[39;00mreview\u001B[38;5;132;01m}\u001B[39;00m\u001B[38;5;124m_source\u001B[39m\u001B[38;5;124m\"\u001B[39m)\n",
      "\u001B[0;31mAttributeError\u001B[0m: 'dict' object has no attribute 'load_dataset'"
     ]
    }
   ],
   "source": [
    "data = {}\n",
    "for review in REVIEWS:\n",
    "    data[review] = datasets.load_dataset(\"../csmed/datasets/cohen/cohen.py\", name=f\"cohen_{review}_source\")"
   ],
   "metadata": {
    "collapsed": false,
    "ExecuteTime": {
     "end_time": "2024-03-07T17:54:31.865229Z",
     "start_time": "2024-03-07T17:54:31.726973Z"
    }
   },
   "id": "fa009cde52639f21",
   "execution_count": 27
  },
  {
   "cell_type": "code",
   "execution_count": null,
   "outputs": [
    {
     "name": "stdout",
     "output_type": "stream",
     "text": [
      "Downloading and preparing dataset sigir2017/sigir2017_CD009784_bigbio_text to /Users/wojciechkusa/.cache/huggingface/datasets/sigir2017/sigir2017_CD009784_bigbio_text/1.0.0/daf29aab6d84a87e179ad657f8285c8d31895224a59872f0bc0ccd8369637433...\n",
      "PubMed data is already prepared.\n"
     ]
    },
    {
     "data": {
      "text/plain": "Generating train split: 0 examples [00:00, ? examples/s]",
      "application/vnd.jupyter.widget-view+json": {
       "version_major": 2,
       "version_minor": 0,
       "model_id": "3471d727723f4c9a8336aa2bfcbaab65"
      }
     },
     "metadata": {},
     "output_type": "display_data"
    },
    {
     "name": "stdout",
     "output_type": "stream",
     "text": [
      "Dataset sigir2017 downloaded and prepared to /Users/wojciechkusa/.cache/huggingface/datasets/sigir2017/sigir2017_CD009784_bigbio_text/1.0.0/daf29aab6d84a87e179ad657f8285c8d31895224a59872f0bc0ccd8369637433. Subsequent calls will reuse this data.\n"
     ]
    },
    {
     "data": {
      "text/plain": "  0%|          | 0/1 [00:00<?, ?it/s]",
      "application/vnd.jupyter.widget-view+json": {
       "version_major": 2,
       "version_minor": 0,
       "model_id": "28f4a04d634d4c95a244dbcdad99987e"
      }
     },
     "metadata": {},
     "output_type": "display_data"
    },
    {
     "name": "stdout",
     "output_type": "stream",
     "text": [
      "Downloading and preparing dataset sigir2017/sigir2017_CD010206_bigbio_text to /Users/wojciechkusa/.cache/huggingface/datasets/sigir2017/sigir2017_CD010206_bigbio_text/1.0.0/daf29aab6d84a87e179ad657f8285c8d31895224a59872f0bc0ccd8369637433...\n",
      "PubMed data is already prepared.\n"
     ]
    },
    {
     "data": {
      "text/plain": "Generating train split: 0 examples [00:00, ? examples/s]",
      "application/vnd.jupyter.widget-view+json": {
       "version_major": 2,
       "version_minor": 0,
       "model_id": "137dd953ab8f4aa7bd3eb7d25231ff37"
      }
     },
     "metadata": {},
     "output_type": "display_data"
    },
    {
     "name": "stdout",
     "output_type": "stream",
     "text": [
      "Dataset sigir2017 downloaded and prepared to /Users/wojciechkusa/.cache/huggingface/datasets/sigir2017/sigir2017_CD010206_bigbio_text/1.0.0/daf29aab6d84a87e179ad657f8285c8d31895224a59872f0bc0ccd8369637433. Subsequent calls will reuse this data.\n"
     ]
    },
    {
     "data": {
      "text/plain": "  0%|          | 0/1 [00:00<?, ?it/s]",
      "application/vnd.jupyter.widget-view+json": {
       "version_major": 2,
       "version_minor": 0,
       "model_id": "b4be93e335b4406b9ba385874c6ec46d"
      }
     },
     "metadata": {},
     "output_type": "display_data"
    },
    {
     "name": "stdout",
     "output_type": "stream",
     "text": [
      "Downloading and preparing dataset sigir2017/sigir2017_CD002764_bigbio_text to /Users/wojciechkusa/.cache/huggingface/datasets/sigir2017/sigir2017_CD002764_bigbio_text/1.0.0/daf29aab6d84a87e179ad657f8285c8d31895224a59872f0bc0ccd8369637433...\n",
      "PubMed data is already prepared.\n"
     ]
    },
    {
     "data": {
      "text/plain": "Generating train split: 0 examples [00:00, ? examples/s]",
      "application/vnd.jupyter.widget-view+json": {
       "version_major": 2,
       "version_minor": 0,
       "model_id": "650aed6269384198b688670e1201ee1f"
      }
     },
     "metadata": {},
     "output_type": "display_data"
    },
    {
     "name": "stdout",
     "output_type": "stream",
     "text": [
      "Dataset sigir2017 downloaded and prepared to /Users/wojciechkusa/.cache/huggingface/datasets/sigir2017/sigir2017_CD002764_bigbio_text/1.0.0/daf29aab6d84a87e179ad657f8285c8d31895224a59872f0bc0ccd8369637433. Subsequent calls will reuse this data.\n"
     ]
    },
    {
     "data": {
      "text/plain": "  0%|          | 0/1 [00:00<?, ?it/s]",
      "application/vnd.jupyter.widget-view+json": {
       "version_major": 2,
       "version_minor": 0,
       "model_id": "063aac80ddbd423faca8d3d580fb4b20"
      }
     },
     "metadata": {},
     "output_type": "display_data"
    },
    {
     "name": "stdout",
     "output_type": "stream",
     "text": [
      "Downloading and preparing dataset sigir2017/sigir2017_CD011146_bigbio_text to /Users/wojciechkusa/.cache/huggingface/datasets/sigir2017/sigir2017_CD011146_bigbio_text/1.0.0/daf29aab6d84a87e179ad657f8285c8d31895224a59872f0bc0ccd8369637433...\n",
      "PubMed data is already prepared.\n"
     ]
    },
    {
     "data": {
      "text/plain": "Generating train split: 0 examples [00:00, ? examples/s]",
      "application/vnd.jupyter.widget-view+json": {
       "version_major": 2,
       "version_minor": 0,
       "model_id": "0ae5770050964bba8b7b26c50b890951"
      }
     },
     "metadata": {},
     "output_type": "display_data"
    },
    {
     "name": "stdout",
     "output_type": "stream",
     "text": [
      "Dataset sigir2017 downloaded and prepared to /Users/wojciechkusa/.cache/huggingface/datasets/sigir2017/sigir2017_CD011146_bigbio_text/1.0.0/daf29aab6d84a87e179ad657f8285c8d31895224a59872f0bc0ccd8369637433. Subsequent calls will reuse this data.\n"
     ]
    },
    {
     "data": {
      "text/plain": "  0%|          | 0/1 [00:00<?, ?it/s]",
      "application/vnd.jupyter.widget-view+json": {
       "version_major": 2,
       "version_minor": 0,
       "model_id": "a6406d940b01472b8424dbb0ba87e563"
      }
     },
     "metadata": {},
     "output_type": "display_data"
    },
    {
     "name": "stdout",
     "output_type": "stream",
     "text": [
      "Downloading and preparing dataset sigir2017/sigir2017_CD010264_bigbio_text to /Users/wojciechkusa/.cache/huggingface/datasets/sigir2017/sigir2017_CD010264_bigbio_text/1.0.0/daf29aab6d84a87e179ad657f8285c8d31895224a59872f0bc0ccd8369637433...\n",
      "PubMed data is already prepared.\n"
     ]
    },
    {
     "data": {
      "text/plain": "Generating train split: 0 examples [00:00, ? examples/s]",
      "application/vnd.jupyter.widget-view+json": {
       "version_major": 2,
       "version_minor": 0,
       "model_id": "2750f84fb78344a29ca9196c58a36d92"
      }
     },
     "metadata": {},
     "output_type": "display_data"
    },
    {
     "name": "stdout",
     "output_type": "stream",
     "text": [
      "Dataset sigir2017 downloaded and prepared to /Users/wojciechkusa/.cache/huggingface/datasets/sigir2017/sigir2017_CD010264_bigbio_text/1.0.0/daf29aab6d84a87e179ad657f8285c8d31895224a59872f0bc0ccd8369637433. Subsequent calls will reuse this data.\n"
     ]
    },
    {
     "data": {
      "text/plain": "  0%|          | 0/1 [00:00<?, ?it/s]",
      "application/vnd.jupyter.widget-view+json": {
       "version_major": 2,
       "version_minor": 0,
       "model_id": "35f487994f544516979a763e1133596d"
      }
     },
     "metadata": {},
     "output_type": "display_data"
    },
    {
     "name": "stdout",
     "output_type": "stream",
     "text": [
      "Downloading and preparing dataset sigir2017/sigir2017_CD011721_bigbio_text to /Users/wojciechkusa/.cache/huggingface/datasets/sigir2017/sigir2017_CD011721_bigbio_text/1.0.0/daf29aab6d84a87e179ad657f8285c8d31895224a59872f0bc0ccd8369637433...\n",
      "PubMed data is already prepared.\n"
     ]
    },
    {
     "data": {
      "text/plain": "Generating train split: 0 examples [00:00, ? examples/s]",
      "application/vnd.jupyter.widget-view+json": {
       "version_major": 2,
       "version_minor": 0,
       "model_id": "085d7f990d814696bf48a349a998416b"
      }
     },
     "metadata": {},
     "output_type": "display_data"
    },
    {
     "name": "stdout",
     "output_type": "stream",
     "text": [
      "Dataset sigir2017 downloaded and prepared to /Users/wojciechkusa/.cache/huggingface/datasets/sigir2017/sigir2017_CD011721_bigbio_text/1.0.0/daf29aab6d84a87e179ad657f8285c8d31895224a59872f0bc0ccd8369637433. Subsequent calls will reuse this data.\n"
     ]
    },
    {
     "data": {
      "text/plain": "  0%|          | 0/1 [00:00<?, ?it/s]",
      "application/vnd.jupyter.widget-view+json": {
       "version_major": 2,
       "version_minor": 0,
       "model_id": "f7ffc0577d634293b0c3ca8a04920d4e"
      }
     },
     "metadata": {},
     "output_type": "display_data"
    },
    {
     "name": "stdout",
     "output_type": "stream",
     "text": [
      "Downloading and preparing dataset sigir2017/sigir2017_CD009782_bigbio_text to /Users/wojciechkusa/.cache/huggingface/datasets/sigir2017/sigir2017_CD009782_bigbio_text/1.0.0/daf29aab6d84a87e179ad657f8285c8d31895224a59872f0bc0ccd8369637433...\n",
      "PubMed data is already prepared.\n"
     ]
    },
    {
     "data": {
      "text/plain": "Generating train split: 0 examples [00:00, ? examples/s]",
      "application/vnd.jupyter.widget-view+json": {
       "version_major": 2,
       "version_minor": 0,
       "model_id": "d5fd9e360f084e0a9604cca53015ee5c"
      }
     },
     "metadata": {},
     "output_type": "display_data"
    },
    {
     "name": "stdout",
     "output_type": "stream",
     "text": [
      "Dataset sigir2017 downloaded and prepared to /Users/wojciechkusa/.cache/huggingface/datasets/sigir2017/sigir2017_CD009782_bigbio_text/1.0.0/daf29aab6d84a87e179ad657f8285c8d31895224a59872f0bc0ccd8369637433. Subsequent calls will reuse this data.\n"
     ]
    },
    {
     "data": {
      "text/plain": "  0%|          | 0/1 [00:00<?, ?it/s]",
      "application/vnd.jupyter.widget-view+json": {
       "version_major": 2,
       "version_minor": 0,
       "model_id": "cbca50c4833e4dc4a2e9a920222deef1"
      }
     },
     "metadata": {},
     "output_type": "display_data"
    },
    {
     "name": "stdout",
     "output_type": "stream",
     "text": [
      "Downloading and preparing dataset sigir2017/sigir2017_CD009771_bigbio_text to /Users/wojciechkusa/.cache/huggingface/datasets/sigir2017/sigir2017_CD009771_bigbio_text/1.0.0/daf29aab6d84a87e179ad657f8285c8d31895224a59872f0bc0ccd8369637433...\n",
      "PubMed data is already prepared.\n"
     ]
    },
    {
     "data": {
      "text/plain": "Generating train split: 0 examples [00:00, ? examples/s]",
      "application/vnd.jupyter.widget-view+json": {
       "version_major": 2,
       "version_minor": 0,
       "model_id": "8ed5038ab6464349baec65ac73d32fd2"
      }
     },
     "metadata": {},
     "output_type": "display_data"
    },
    {
     "name": "stdout",
     "output_type": "stream",
     "text": [
      "Dataset sigir2017 downloaded and prepared to /Users/wojciechkusa/.cache/huggingface/datasets/sigir2017/sigir2017_CD009771_bigbio_text/1.0.0/daf29aab6d84a87e179ad657f8285c8d31895224a59872f0bc0ccd8369637433. Subsequent calls will reuse this data.\n"
     ]
    },
    {
     "data": {
      "text/plain": "  0%|          | 0/1 [00:00<?, ?it/s]",
      "application/vnd.jupyter.widget-view+json": {
       "version_major": 2,
       "version_minor": 0,
       "model_id": "c5109e7f915549e69112684b95c7c47d"
      }
     },
     "metadata": {},
     "output_type": "display_data"
    },
    {
     "name": "stdout",
     "output_type": "stream",
     "text": [
      "Downloading and preparing dataset sigir2017/sigir2017_CD006962_bigbio_text to /Users/wojciechkusa/.cache/huggingface/datasets/sigir2017/sigir2017_CD006962_bigbio_text/1.0.0/daf29aab6d84a87e179ad657f8285c8d31895224a59872f0bc0ccd8369637433...\n",
      "PubMed data is already prepared.\n"
     ]
    },
    {
     "data": {
      "text/plain": "Generating train split: 0 examples [00:00, ? examples/s]",
      "application/vnd.jupyter.widget-view+json": {
       "version_major": 2,
       "version_minor": 0,
       "model_id": "fe4bbd606466425f91b77af8f3ee3c85"
      }
     },
     "metadata": {},
     "output_type": "display_data"
    },
    {
     "name": "stdout",
     "output_type": "stream",
     "text": [
      "Dataset sigir2017 downloaded and prepared to /Users/wojciechkusa/.cache/huggingface/datasets/sigir2017/sigir2017_CD006962_bigbio_text/1.0.0/daf29aab6d84a87e179ad657f8285c8d31895224a59872f0bc0ccd8369637433. Subsequent calls will reuse this data.\n"
     ]
    },
    {
     "data": {
      "text/plain": "  0%|          | 0/1 [00:00<?, ?it/s]",
      "application/vnd.jupyter.widget-view+json": {
       "version_major": 2,
       "version_minor": 0,
       "model_id": "4e273a2691604e8ea057095bcb0204c0"
      }
     },
     "metadata": {},
     "output_type": "display_data"
    },
    {
     "name": "stdout",
     "output_type": "stream",
     "text": [
      "Downloading and preparing dataset sigir2017/sigir2017_CD007470_bigbio_text to /Users/wojciechkusa/.cache/huggingface/datasets/sigir2017/sigir2017_CD007470_bigbio_text/1.0.0/daf29aab6d84a87e179ad657f8285c8d31895224a59872f0bc0ccd8369637433...\n",
      "PubMed data is already prepared.\n"
     ]
    },
    {
     "data": {
      "text/plain": "Generating train split: 0 examples [00:00, ? examples/s]",
      "application/vnd.jupyter.widget-view+json": {
       "version_major": 2,
       "version_minor": 0,
       "model_id": "d9963e269f864430a4c54f5cfd9cbc5c"
      }
     },
     "metadata": {},
     "output_type": "display_data"
    },
    {
     "name": "stdout",
     "output_type": "stream",
     "text": [
      "Dataset sigir2017 downloaded and prepared to /Users/wojciechkusa/.cache/huggingface/datasets/sigir2017/sigir2017_CD007470_bigbio_text/1.0.0/daf29aab6d84a87e179ad657f8285c8d31895224a59872f0bc0ccd8369637433. Subsequent calls will reuse this data.\n"
     ]
    },
    {
     "data": {
      "text/plain": "  0%|          | 0/1 [00:00<?, ?it/s]",
      "application/vnd.jupyter.widget-view+json": {
       "version_major": 2,
       "version_minor": 0,
       "model_id": "c35d0ea8ea9145879e820bb3182eee5b"
      }
     },
     "metadata": {},
     "output_type": "display_data"
    },
    {
     "name": "stdout",
     "output_type": "stream",
     "text": [
      "Downloading and preparing dataset sigir2017/sigir2017_CD009946_bigbio_text to /Users/wojciechkusa/.cache/huggingface/datasets/sigir2017/sigir2017_CD009946_bigbio_text/1.0.0/daf29aab6d84a87e179ad657f8285c8d31895224a59872f0bc0ccd8369637433...\n",
      "PubMed data is already prepared.\n"
     ]
    },
    {
     "data": {
      "text/plain": "Generating train split: 0 examples [00:00, ? examples/s]",
      "application/vnd.jupyter.widget-view+json": {
       "version_major": 2,
       "version_minor": 0,
       "model_id": "2977d1b324d44bb69c99d53da48f6e85"
      }
     },
     "metadata": {},
     "output_type": "display_data"
    },
    {
     "name": "stdout",
     "output_type": "stream",
     "text": [
      "Dataset sigir2017 downloaded and prepared to /Users/wojciechkusa/.cache/huggingface/datasets/sigir2017/sigir2017_CD009946_bigbio_text/1.0.0/daf29aab6d84a87e179ad657f8285c8d31895224a59872f0bc0ccd8369637433. Subsequent calls will reuse this data.\n"
     ]
    },
    {
     "data": {
      "text/plain": "  0%|          | 0/1 [00:00<?, ?it/s]",
      "application/vnd.jupyter.widget-view+json": {
       "version_major": 2,
       "version_minor": 0,
       "model_id": "a0ff6ad3d161444399f00320452bf56b"
      }
     },
     "metadata": {},
     "output_type": "display_data"
    },
    {
     "name": "stdout",
     "output_type": "stream",
     "text": [
      "Downloading and preparing dataset sigir2017/sigir2017_CD006569_bigbio_text to /Users/wojciechkusa/.cache/huggingface/datasets/sigir2017/sigir2017_CD006569_bigbio_text/1.0.0/daf29aab6d84a87e179ad657f8285c8d31895224a59872f0bc0ccd8369637433...\n",
      "PubMed data is already prepared.\n"
     ]
    },
    {
     "data": {
      "text/plain": "Generating train split: 0 examples [00:00, ? examples/s]",
      "application/vnd.jupyter.widget-view+json": {
       "version_major": 2,
       "version_minor": 0,
       "model_id": "754f9248f43d4637b8cc311535496741"
      }
     },
     "metadata": {},
     "output_type": "display_data"
    },
    {
     "name": "stdout",
     "output_type": "stream",
     "text": [
      "Dataset sigir2017 downloaded and prepared to /Users/wojciechkusa/.cache/huggingface/datasets/sigir2017/sigir2017_CD006569_bigbio_text/1.0.0/daf29aab6d84a87e179ad657f8285c8d31895224a59872f0bc0ccd8369637433. Subsequent calls will reuse this data.\n"
     ]
    },
    {
     "data": {
      "text/plain": "  0%|          | 0/1 [00:00<?, ?it/s]",
      "application/vnd.jupyter.widget-view+json": {
       "version_major": 2,
       "version_minor": 0,
       "model_id": "6087381e0dcb4687943e450c32715caa"
      }
     },
     "metadata": {},
     "output_type": "display_data"
    },
    {
     "name": "stdout",
     "output_type": "stream",
     "text": [
      "Downloading and preparing dataset sigir2017/sigir2017_CD006900_bigbio_text to /Users/wojciechkusa/.cache/huggingface/datasets/sigir2017/sigir2017_CD006900_bigbio_text/1.0.0/daf29aab6d84a87e179ad657f8285c8d31895224a59872f0bc0ccd8369637433...\n",
      "PubMed data is already prepared.\n"
     ]
    },
    {
     "data": {
      "text/plain": "Generating train split: 0 examples [00:00, ? examples/s]",
      "application/vnd.jupyter.widget-view+json": {
       "version_major": 2,
       "version_minor": 0,
       "model_id": "c7ac2d63d5f6471a8985fab88dac8ce4"
      }
     },
     "metadata": {},
     "output_type": "display_data"
    },
    {
     "name": "stdout",
     "output_type": "stream",
     "text": [
      "Dataset sigir2017 downloaded and prepared to /Users/wojciechkusa/.cache/huggingface/datasets/sigir2017/sigir2017_CD006900_bigbio_text/1.0.0/daf29aab6d84a87e179ad657f8285c8d31895224a59872f0bc0ccd8369637433. Subsequent calls will reuse this data.\n"
     ]
    },
    {
     "data": {
      "text/plain": "  0%|          | 0/1 [00:00<?, ?it/s]",
      "application/vnd.jupyter.widget-view+json": {
       "version_major": 2,
       "version_minor": 0,
       "model_id": "f7c8e937ac4f48d5b94922c64270ea9e"
      }
     },
     "metadata": {},
     "output_type": "display_data"
    },
    {
     "name": "stdout",
     "output_type": "stream",
     "text": [
      "Downloading and preparing dataset sigir2017/sigir2017_CD010910_bigbio_text to /Users/wojciechkusa/.cache/huggingface/datasets/sigir2017/sigir2017_CD010910_bigbio_text/1.0.0/daf29aab6d84a87e179ad657f8285c8d31895224a59872f0bc0ccd8369637433...\n",
      "PubMed data is already prepared.\n"
     ]
    },
    {
     "data": {
      "text/plain": "Generating train split: 0 examples [00:00, ? examples/s]",
      "application/vnd.jupyter.widget-view+json": {
       "version_major": 2,
       "version_minor": 0,
       "model_id": "48d8f5842c5842548e385bd70c61114b"
      }
     },
     "metadata": {},
     "output_type": "display_data"
    },
    {
     "name": "stdout",
     "output_type": "stream",
     "text": [
      "Dataset sigir2017 downloaded and prepared to /Users/wojciechkusa/.cache/huggingface/datasets/sigir2017/sigir2017_CD010910_bigbio_text/1.0.0/daf29aab6d84a87e179ad657f8285c8d31895224a59872f0bc0ccd8369637433. Subsequent calls will reuse this data.\n"
     ]
    },
    {
     "data": {
      "text/plain": "  0%|          | 0/1 [00:00<?, ?it/s]",
      "application/vnd.jupyter.widget-view+json": {
       "version_major": 2,
       "version_minor": 0,
       "model_id": "f2a77ef9de834f9ebb45876b2973c21d"
      }
     },
     "metadata": {},
     "output_type": "display_data"
    },
    {
     "name": "stdout",
     "output_type": "stream",
     "text": [
      "Downloading and preparing dataset sigir2017/sigir2017_CD007953_bigbio_text to /Users/wojciechkusa/.cache/huggingface/datasets/sigir2017/sigir2017_CD007953_bigbio_text/1.0.0/daf29aab6d84a87e179ad657f8285c8d31895224a59872f0bc0ccd8369637433...\n",
      "PubMed data is already prepared.\n"
     ]
    },
    {
     "data": {
      "text/plain": "Generating train split: 0 examples [00:00, ? examples/s]",
      "application/vnd.jupyter.widget-view+json": {
       "version_major": 2,
       "version_minor": 0,
       "model_id": "d461df5d8cba4a36980b62f704b989ff"
      }
     },
     "metadata": {},
     "output_type": "display_data"
    },
    {
     "name": "stdout",
     "output_type": "stream",
     "text": [
      "Dataset sigir2017 downloaded and prepared to /Users/wojciechkusa/.cache/huggingface/datasets/sigir2017/sigir2017_CD007953_bigbio_text/1.0.0/daf29aab6d84a87e179ad657f8285c8d31895224a59872f0bc0ccd8369637433. Subsequent calls will reuse this data.\n"
     ]
    },
    {
     "data": {
      "text/plain": "  0%|          | 0/1 [00:00<?, ?it/s]",
      "application/vnd.jupyter.widget-view+json": {
       "version_major": 2,
       "version_minor": 0,
       "model_id": "57e58414b35c4ac886fd09f5db3cc01f"
      }
     },
     "metadata": {},
     "output_type": "display_data"
    },
    {
     "name": "stdout",
     "output_type": "stream",
     "text": [
      "Downloading and preparing dataset sigir2017/sigir2017_CD003504_bigbio_text to /Users/wojciechkusa/.cache/huggingface/datasets/sigir2017/sigir2017_CD003504_bigbio_text/1.0.0/daf29aab6d84a87e179ad657f8285c8d31895224a59872f0bc0ccd8369637433...\n",
      "PubMed data is already prepared.\n"
     ]
    },
    {
     "data": {
      "text/plain": "Generating train split: 0 examples [00:00, ? examples/s]",
      "application/vnd.jupyter.widget-view+json": {
       "version_major": 2,
       "version_minor": 0,
       "model_id": "2c4e344070b24c7c8605f94d8f591221"
      }
     },
     "metadata": {},
     "output_type": "display_data"
    },
    {
     "name": "stdout",
     "output_type": "stream",
     "text": [
      "Dataset sigir2017 downloaded and prepared to /Users/wojciechkusa/.cache/huggingface/datasets/sigir2017/sigir2017_CD003504_bigbio_text/1.0.0/daf29aab6d84a87e179ad657f8285c8d31895224a59872f0bc0ccd8369637433. Subsequent calls will reuse this data.\n"
     ]
    },
    {
     "data": {
      "text/plain": "  0%|          | 0/1 [00:00<?, ?it/s]",
      "application/vnd.jupyter.widget-view+json": {
       "version_major": 2,
       "version_minor": 0,
       "model_id": "aafde5ccc41446b38bc339de03846cd6"
      }
     },
     "metadata": {},
     "output_type": "display_data"
    },
    {
     "name": "stdout",
     "output_type": "stream",
     "text": [
      "Downloading and preparing dataset sigir2017/sigir2017_CD003160_bigbio_text to /Users/wojciechkusa/.cache/huggingface/datasets/sigir2017/sigir2017_CD003160_bigbio_text/1.0.0/daf29aab6d84a87e179ad657f8285c8d31895224a59872f0bc0ccd8369637433...\n",
      "PubMed data is already prepared.\n"
     ]
    },
    {
     "data": {
      "text/plain": "Generating train split: 0 examples [00:00, ? examples/s]",
      "application/vnd.jupyter.widget-view+json": {
       "version_major": 2,
       "version_minor": 0,
       "model_id": "6152441751b24fa8a50f88d6ceecb8db"
      }
     },
     "metadata": {},
     "output_type": "display_data"
    },
    {
     "name": "stdout",
     "output_type": "stream",
     "text": [
      "Dataset sigir2017 downloaded and prepared to /Users/wojciechkusa/.cache/huggingface/datasets/sigir2017/sigir2017_CD003160_bigbio_text/1.0.0/daf29aab6d84a87e179ad657f8285c8d31895224a59872f0bc0ccd8369637433. Subsequent calls will reuse this data.\n"
     ]
    },
    {
     "data": {
      "text/plain": "  0%|          | 0/1 [00:00<?, ?it/s]",
      "application/vnd.jupyter.widget-view+json": {
       "version_major": 2,
       "version_minor": 0,
       "model_id": "1720b7d2933e40cda79624819c2a89bf"
      }
     },
     "metadata": {},
     "output_type": "display_data"
    },
    {
     "name": "stdout",
     "output_type": "stream",
     "text": [
      "Downloading and preparing dataset sigir2017/sigir2017_CD011209_bigbio_text to /Users/wojciechkusa/.cache/huggingface/datasets/sigir2017/sigir2017_CD011209_bigbio_text/1.0.0/daf29aab6d84a87e179ad657f8285c8d31895224a59872f0bc0ccd8369637433...\n",
      "PubMed data is already prepared.\n"
     ]
    },
    {
     "data": {
      "text/plain": "Generating train split: 0 examples [00:00, ? examples/s]",
      "application/vnd.jupyter.widget-view+json": {
       "version_major": 2,
       "version_minor": 0,
       "model_id": "d46bc74cde7d43ccae01fd767c768a6a"
      }
     },
     "metadata": {},
     "output_type": "display_data"
    },
    {
     "name": "stdout",
     "output_type": "stream",
     "text": [
      "Dataset sigir2017 downloaded and prepared to /Users/wojciechkusa/.cache/huggingface/datasets/sigir2017/sigir2017_CD011209_bigbio_text/1.0.0/daf29aab6d84a87e179ad657f8285c8d31895224a59872f0bc0ccd8369637433. Subsequent calls will reuse this data.\n"
     ]
    },
    {
     "data": {
      "text/plain": "  0%|          | 0/1 [00:00<?, ?it/s]",
      "application/vnd.jupyter.widget-view+json": {
       "version_major": 2,
       "version_minor": 0,
       "model_id": "e3b931d0bec346659474fb62b80ff26c"
      }
     },
     "metadata": {},
     "output_type": "display_data"
    },
    {
     "name": "stdout",
     "output_type": "stream",
     "text": [
      "Downloading and preparing dataset sigir2017/sigir2017_CD007505_bigbio_text to /Users/wojciechkusa/.cache/huggingface/datasets/sigir2017/sigir2017_CD007505_bigbio_text/1.0.0/daf29aab6d84a87e179ad657f8285c8d31895224a59872f0bc0ccd8369637433...\n",
      "PubMed data is already prepared.\n"
     ]
    },
    {
     "data": {
      "text/plain": "Generating train split: 0 examples [00:00, ? examples/s]",
      "application/vnd.jupyter.widget-view+json": {
       "version_major": 2,
       "version_minor": 0,
       "model_id": "76dc67a666ab4e04a860051b84aa2478"
      }
     },
     "metadata": {},
     "output_type": "display_data"
    },
    {
     "name": "stdout",
     "output_type": "stream",
     "text": [
      "Dataset sigir2017 downloaded and prepared to /Users/wojciechkusa/.cache/huggingface/datasets/sigir2017/sigir2017_CD007505_bigbio_text/1.0.0/daf29aab6d84a87e179ad657f8285c8d31895224a59872f0bc0ccd8369637433. Subsequent calls will reuse this data.\n"
     ]
    },
    {
     "data": {
      "text/plain": "  0%|          | 0/1 [00:00<?, ?it/s]",
      "application/vnd.jupyter.widget-view+json": {
       "version_major": 2,
       "version_minor": 0,
       "model_id": "419b04e89b2c46b8ab8b75f993c7a981"
      }
     },
     "metadata": {},
     "output_type": "display_data"
    },
    {
     "name": "stdout",
     "output_type": "stream",
     "text": [
      "Downloading and preparing dataset sigir2017/sigir2017_CD009400_bigbio_text to /Users/wojciechkusa/.cache/huggingface/datasets/sigir2017/sigir2017_CD009400_bigbio_text/1.0.0/daf29aab6d84a87e179ad657f8285c8d31895224a59872f0bc0ccd8369637433...\n",
      "PubMed data is already prepared.\n"
     ]
    },
    {
     "data": {
      "text/plain": "Generating train split: 0 examples [00:00, ? examples/s]",
      "application/vnd.jupyter.widget-view+json": {
       "version_major": 2,
       "version_minor": 0,
       "model_id": "31b8f451a6fd44e3b4ffa47a898e23cb"
      }
     },
     "metadata": {},
     "output_type": "display_data"
    },
    {
     "name": "stdout",
     "output_type": "stream",
     "text": [
      "Dataset sigir2017 downloaded and prepared to /Users/wojciechkusa/.cache/huggingface/datasets/sigir2017/sigir2017_CD009400_bigbio_text/1.0.0/daf29aab6d84a87e179ad657f8285c8d31895224a59872f0bc0ccd8369637433. Subsequent calls will reuse this data.\n"
     ]
    },
    {
     "data": {
      "text/plain": "  0%|          | 0/1 [00:00<?, ?it/s]",
      "application/vnd.jupyter.widget-view+json": {
       "version_major": 2,
       "version_minor": 0,
       "model_id": "b85b2239f46b4db782357e30322e75c7"
      }
     },
     "metadata": {},
     "output_type": "display_data"
    },
    {
     "name": "stdout",
     "output_type": "stream",
     "text": [
      "Downloading and preparing dataset sigir2017/sigir2017_CD006014_bigbio_text to /Users/wojciechkusa/.cache/huggingface/datasets/sigir2017/sigir2017_CD006014_bigbio_text/1.0.0/daf29aab6d84a87e179ad657f8285c8d31895224a59872f0bc0ccd8369637433...\n",
      "PubMed data is already prepared.\n"
     ]
    },
    {
     "data": {
      "text/plain": "Generating train split: 0 examples [00:00, ? examples/s]",
      "application/vnd.jupyter.widget-view+json": {
       "version_major": 2,
       "version_minor": 0,
       "model_id": "4bd4af7bb3514039a5a64ceeeab0d0df"
      }
     },
     "metadata": {},
     "output_type": "display_data"
    },
    {
     "name": "stdout",
     "output_type": "stream",
     "text": [
      "Dataset sigir2017 downloaded and prepared to /Users/wojciechkusa/.cache/huggingface/datasets/sigir2017/sigir2017_CD006014_bigbio_text/1.0.0/daf29aab6d84a87e179ad657f8285c8d31895224a59872f0bc0ccd8369637433. Subsequent calls will reuse this data.\n"
     ]
    },
    {
     "data": {
      "text/plain": "  0%|          | 0/1 [00:00<?, ?it/s]",
      "application/vnd.jupyter.widget-view+json": {
       "version_major": 2,
       "version_minor": 0,
       "model_id": "91561272a8c547959414f5fe29c80030"
      }
     },
     "metadata": {},
     "output_type": "display_data"
    },
    {
     "name": "stdout",
     "output_type": "stream",
     "text": [
      "Downloading and preparing dataset sigir2017/sigir2017_CD003559_bigbio_text to /Users/wojciechkusa/.cache/huggingface/datasets/sigir2017/sigir2017_CD003559_bigbio_text/1.0.0/daf29aab6d84a87e179ad657f8285c8d31895224a59872f0bc0ccd8369637433...\n",
      "PubMed data is already prepared.\n"
     ]
    },
    {
     "data": {
      "text/plain": "Generating train split: 0 examples [00:00, ? examples/s]",
      "application/vnd.jupyter.widget-view+json": {
       "version_major": 2,
       "version_minor": 0,
       "model_id": "62e3dbdd86144d888afcae1535317c89"
      }
     },
     "metadata": {},
     "output_type": "display_data"
    },
    {
     "name": "stdout",
     "output_type": "stream",
     "text": [
      "Dataset sigir2017 downloaded and prepared to /Users/wojciechkusa/.cache/huggingface/datasets/sigir2017/sigir2017_CD003559_bigbio_text/1.0.0/daf29aab6d84a87e179ad657f8285c8d31895224a59872f0bc0ccd8369637433. Subsequent calls will reuse this data.\n"
     ]
    },
    {
     "data": {
      "text/plain": "  0%|          | 0/1 [00:00<?, ?it/s]",
      "application/vnd.jupyter.widget-view+json": {
       "version_major": 2,
       "version_minor": 0,
       "model_id": "ef4902991dd1409e83d839c490a9f1bf"
      }
     },
     "metadata": {},
     "output_type": "display_data"
    },
    {
     "name": "stdout",
     "output_type": "stream",
     "text": [
      "Downloading and preparing dataset sigir2017/sigir2017_CD001800_bigbio_text to /Users/wojciechkusa/.cache/huggingface/datasets/sigir2017/sigir2017_CD001800_bigbio_text/1.0.0/daf29aab6d84a87e179ad657f8285c8d31895224a59872f0bc0ccd8369637433...\n",
      "PubMed data is already prepared.\n"
     ]
    },
    {
     "data": {
      "text/plain": "Generating train split: 0 examples [00:00, ? examples/s]",
      "application/vnd.jupyter.widget-view+json": {
       "version_major": 2,
       "version_minor": 0,
       "model_id": "c5cd7668c6eb4d4c8f5b7ff9bb803c87"
      }
     },
     "metadata": {},
     "output_type": "display_data"
    },
    {
     "name": "stdout",
     "output_type": "stream",
     "text": [
      "Dataset sigir2017 downloaded and prepared to /Users/wojciechkusa/.cache/huggingface/datasets/sigir2017/sigir2017_CD001800_bigbio_text/1.0.0/daf29aab6d84a87e179ad657f8285c8d31895224a59872f0bc0ccd8369637433. Subsequent calls will reuse this data.\n"
     ]
    },
    {
     "data": {
      "text/plain": "  0%|          | 0/1 [00:00<?, ?it/s]",
      "application/vnd.jupyter.widget-view+json": {
       "version_major": 2,
       "version_minor": 0,
       "model_id": "9134a20a67cd4a8a9a2dd6ebfc10196f"
      }
     },
     "metadata": {},
     "output_type": "display_data"
    },
    {
     "name": "stdout",
     "output_type": "stream",
     "text": [
      "Downloading and preparing dataset sigir2017/sigir2017_CD010375_bigbio_text to /Users/wojciechkusa/.cache/huggingface/datasets/sigir2017/sigir2017_CD010375_bigbio_text/1.0.0/daf29aab6d84a87e179ad657f8285c8d31895224a59872f0bc0ccd8369637433...\n",
      "PubMed data is already prepared.\n"
     ]
    },
    {
     "data": {
      "text/plain": "Generating train split: 0 examples [00:00, ? examples/s]",
      "application/vnd.jupyter.widget-view+json": {
       "version_major": 2,
       "version_minor": 0,
       "model_id": "84a47af96b364708a3d92fbbb825b7c0"
      }
     },
     "metadata": {},
     "output_type": "display_data"
    },
    {
     "name": "stdout",
     "output_type": "stream",
     "text": [
      "Dataset sigir2017 downloaded and prepared to /Users/wojciechkusa/.cache/huggingface/datasets/sigir2017/sigir2017_CD010375_bigbio_text/1.0.0/daf29aab6d84a87e179ad657f8285c8d31895224a59872f0bc0ccd8369637433. Subsequent calls will reuse this data.\n"
     ]
    },
    {
     "data": {
      "text/plain": "  0%|          | 0/1 [00:00<?, ?it/s]",
      "application/vnd.jupyter.widget-view+json": {
       "version_major": 2,
       "version_minor": 0,
       "model_id": "b245b50e2f0f4a209edc42ed5311af8b"
      }
     },
     "metadata": {},
     "output_type": "display_data"
    },
    {
     "name": "stdout",
     "output_type": "stream",
     "text": [
      "Downloading and preparing dataset sigir2017/sigir2017_CD010381_bigbio_text to /Users/wojciechkusa/.cache/huggingface/datasets/sigir2017/sigir2017_CD010381_bigbio_text/1.0.0/daf29aab6d84a87e179ad657f8285c8d31895224a59872f0bc0ccd8369637433...\n",
      "PubMed data is already prepared.\n"
     ]
    },
    {
     "data": {
      "text/plain": "Generating train split: 0 examples [00:00, ? examples/s]",
      "application/vnd.jupyter.widget-view+json": {
       "version_major": 2,
       "version_minor": 0,
       "model_id": "1dc549590085430f84f6066c4d0b9499"
      }
     },
     "metadata": {},
     "output_type": "display_data"
    },
    {
     "name": "stdout",
     "output_type": "stream",
     "text": [
      "Dataset sigir2017 downloaded and prepared to /Users/wojciechkusa/.cache/huggingface/datasets/sigir2017/sigir2017_CD010381_bigbio_text/1.0.0/daf29aab6d84a87e179ad657f8285c8d31895224a59872f0bc0ccd8369637433. Subsequent calls will reuse this data.\n"
     ]
    },
    {
     "data": {
      "text/plain": "  0%|          | 0/1 [00:00<?, ?it/s]",
      "application/vnd.jupyter.widget-view+json": {
       "version_major": 2,
       "version_minor": 0,
       "model_id": "0afe70d4806341478659ac8a538fae32"
      }
     },
     "metadata": {},
     "output_type": "display_data"
    },
    {
     "name": "stdout",
     "output_type": "stream",
     "text": [
      "Downloading and preparing dataset sigir2017/sigir2017_CD004920_bigbio_text to /Users/wojciechkusa/.cache/huggingface/datasets/sigir2017/sigir2017_CD004920_bigbio_text/1.0.0/daf29aab6d84a87e179ad657f8285c8d31895224a59872f0bc0ccd8369637433...\n",
      "PubMed data is already prepared.\n"
     ]
    },
    {
     "data": {
      "text/plain": "Generating train split: 0 examples [00:00, ? examples/s]",
      "application/vnd.jupyter.widget-view+json": {
       "version_major": 2,
       "version_minor": 0,
       "model_id": "5440583ef8d54d93aee9a25b48167af0"
      }
     },
     "metadata": {},
     "output_type": "display_data"
    },
    {
     "name": "stdout",
     "output_type": "stream",
     "text": [
      "Dataset sigir2017 downloaded and prepared to /Users/wojciechkusa/.cache/huggingface/datasets/sigir2017/sigir2017_CD004920_bigbio_text/1.0.0/daf29aab6d84a87e179ad657f8285c8d31895224a59872f0bc0ccd8369637433. Subsequent calls will reuse this data.\n"
     ]
    },
    {
     "data": {
      "text/plain": "  0%|          | 0/1 [00:00<?, ?it/s]",
      "application/vnd.jupyter.widget-view+json": {
       "version_major": 2,
       "version_minor": 0,
       "model_id": "5b1c492e88764fbfb6f82adb12a4e7d2"
      }
     },
     "metadata": {},
     "output_type": "display_data"
    },
    {
     "name": "stdout",
     "output_type": "stream",
     "text": [
      "Downloading and preparing dataset sigir2017/sigir2017_CD011066_bigbio_text to /Users/wojciechkusa/.cache/huggingface/datasets/sigir2017/sigir2017_CD011066_bigbio_text/1.0.0/daf29aab6d84a87e179ad657f8285c8d31895224a59872f0bc0ccd8369637433...\n",
      "PubMed data is already prepared.\n"
     ]
    },
    {
     "data": {
      "text/plain": "Generating train split: 0 examples [00:00, ? examples/s]",
      "application/vnd.jupyter.widget-view+json": {
       "version_major": 2,
       "version_minor": 0,
       "model_id": "d04ba07e094b457987b85605e83a501b"
      }
     },
     "metadata": {},
     "output_type": "display_data"
    },
    {
     "name": "stdout",
     "output_type": "stream",
     "text": [
      "Dataset sigir2017 downloaded and prepared to /Users/wojciechkusa/.cache/huggingface/datasets/sigir2017/sigir2017_CD011066_bigbio_text/1.0.0/daf29aab6d84a87e179ad657f8285c8d31895224a59872f0bc0ccd8369637433. Subsequent calls will reuse this data.\n"
     ]
    },
    {
     "data": {
      "text/plain": "  0%|          | 0/1 [00:00<?, ?it/s]",
      "application/vnd.jupyter.widget-view+json": {
       "version_major": 2,
       "version_minor": 0,
       "model_id": "b6f8298d2d254ffda5e52c25c6c320b0"
      }
     },
     "metadata": {},
     "output_type": "display_data"
    },
    {
     "name": "stdout",
     "output_type": "stream",
     "text": [
      "Downloading and preparing dataset sigir2017/sigir2017_CD007103_bigbio_text to /Users/wojciechkusa/.cache/huggingface/datasets/sigir2017/sigir2017_CD007103_bigbio_text/1.0.0/daf29aab6d84a87e179ad657f8285c8d31895224a59872f0bc0ccd8369637433...\n",
      "PubMed data is already prepared.\n"
     ]
    },
    {
     "data": {
      "text/plain": "Generating train split: 0 examples [00:00, ? examples/s]",
      "application/vnd.jupyter.widget-view+json": {
       "version_major": 2,
       "version_minor": 0,
       "model_id": "010ae42e1ebe40e38d420cf492344d88"
      }
     },
     "metadata": {},
     "output_type": "display_data"
    },
    {
     "name": "stdout",
     "output_type": "stream",
     "text": [
      "Dataset sigir2017 downloaded and prepared to /Users/wojciechkusa/.cache/huggingface/datasets/sigir2017/sigir2017_CD007103_bigbio_text/1.0.0/daf29aab6d84a87e179ad657f8285c8d31895224a59872f0bc0ccd8369637433. Subsequent calls will reuse this data.\n"
     ]
    },
    {
     "data": {
      "text/plain": "  0%|          | 0/1 [00:00<?, ?it/s]",
      "application/vnd.jupyter.widget-view+json": {
       "version_major": 2,
       "version_minor": 0,
       "model_id": "1c664533f3754fe8b8696fe49ff84393"
      }
     },
     "metadata": {},
     "output_type": "display_data"
    },
    {
     "name": "stdout",
     "output_type": "stream",
     "text": [
      "Downloading and preparing dataset sigir2017/sigir2017_CD003557_bigbio_text to /Users/wojciechkusa/.cache/huggingface/datasets/sigir2017/sigir2017_CD003557_bigbio_text/1.0.0/daf29aab6d84a87e179ad657f8285c8d31895224a59872f0bc0ccd8369637433...\n",
      "PubMed data is already prepared.\n"
     ]
    },
    {
     "data": {
      "text/plain": "Generating train split: 0 examples [00:00, ? examples/s]",
      "application/vnd.jupyter.widget-view+json": {
       "version_major": 2,
       "version_minor": 0,
       "model_id": "5a492d007394414ab9f0a3842c4f4013"
      }
     },
     "metadata": {},
     "output_type": "display_data"
    },
    {
     "name": "stdout",
     "output_type": "stream",
     "text": [
      "Dataset sigir2017 downloaded and prepared to /Users/wojciechkusa/.cache/huggingface/datasets/sigir2017/sigir2017_CD003557_bigbio_text/1.0.0/daf29aab6d84a87e179ad657f8285c8d31895224a59872f0bc0ccd8369637433. Subsequent calls will reuse this data.\n"
     ]
    },
    {
     "data": {
      "text/plain": "  0%|          | 0/1 [00:00<?, ?it/s]",
      "application/vnd.jupyter.widget-view+json": {
       "version_major": 2,
       "version_minor": 0,
       "model_id": "8089c71a8ea346599355913ee360fe20"
      }
     },
     "metadata": {},
     "output_type": "display_data"
    },
    {
     "name": "stdout",
     "output_type": "stream",
     "text": [
      "Downloading and preparing dataset sigir2017/sigir2017_CD009436_bigbio_text to /Users/wojciechkusa/.cache/huggingface/datasets/sigir2017/sigir2017_CD009436_bigbio_text/1.0.0/daf29aab6d84a87e179ad657f8285c8d31895224a59872f0bc0ccd8369637433...\n",
      "PubMed data is already prepared.\n"
     ]
    },
    {
     "data": {
      "text/plain": "Generating train split: 0 examples [00:00, ? examples/s]",
      "application/vnd.jupyter.widget-view+json": {
       "version_major": 2,
       "version_minor": 0,
       "model_id": "3c97343c0256410884501c66255d0c69"
      }
     },
     "metadata": {},
     "output_type": "display_data"
    },
    {
     "name": "stdout",
     "output_type": "stream",
     "text": [
      "Dataset sigir2017 downloaded and prepared to /Users/wojciechkusa/.cache/huggingface/datasets/sigir2017/sigir2017_CD009436_bigbio_text/1.0.0/daf29aab6d84a87e179ad657f8285c8d31895224a59872f0bc0ccd8369637433. Subsequent calls will reuse this data.\n"
     ]
    },
    {
     "data": {
      "text/plain": "  0%|          | 0/1 [00:00<?, ?it/s]",
      "application/vnd.jupyter.widget-view+json": {
       "version_major": 2,
       "version_minor": 0,
       "model_id": "fcff93b5490247d293931a8e8ae80a72"
      }
     },
     "metadata": {},
     "output_type": "display_data"
    },
    {
     "name": "stdout",
     "output_type": "stream",
     "text": [
      "Downloading and preparing dataset sigir2017/sigir2017_CD004944_bigbio_text to /Users/wojciechkusa/.cache/huggingface/datasets/sigir2017/sigir2017_CD004944_bigbio_text/1.0.0/daf29aab6d84a87e179ad657f8285c8d31895224a59872f0bc0ccd8369637433...\n",
      "PubMed data is already prepared.\n"
     ]
    },
    {
     "data": {
      "text/plain": "Generating train split: 0 examples [00:00, ? examples/s]",
      "application/vnd.jupyter.widget-view+json": {
       "version_major": 2,
       "version_minor": 0,
       "model_id": "5d13a12c248b44b6951ba8d5a4c805a1"
      }
     },
     "metadata": {},
     "output_type": "display_data"
    },
    {
     "name": "stdout",
     "output_type": "stream",
     "text": [
      "Dataset sigir2017 downloaded and prepared to /Users/wojciechkusa/.cache/huggingface/datasets/sigir2017/sigir2017_CD004944_bigbio_text/1.0.0/daf29aab6d84a87e179ad657f8285c8d31895224a59872f0bc0ccd8369637433. Subsequent calls will reuse this data.\n"
     ]
    },
    {
     "data": {
      "text/plain": "  0%|          | 0/1 [00:00<?, ?it/s]",
      "application/vnd.jupyter.widget-view+json": {
       "version_major": 2,
       "version_minor": 0,
       "model_id": "168bad305d164254a63d469399bbb92f"
      }
     },
     "metadata": {},
     "output_type": "display_data"
    },
    {
     "name": "stdout",
     "output_type": "stream",
     "text": [
      "Downloading and preparing dataset sigir2017/sigir2017_CD004178_bigbio_text to /Users/wojciechkusa/.cache/huggingface/datasets/sigir2017/sigir2017_CD004178_bigbio_text/1.0.0/daf29aab6d84a87e179ad657f8285c8d31895224a59872f0bc0ccd8369637433...\n",
      "PubMed data is already prepared.\n"
     ]
    },
    {
     "data": {
      "text/plain": "Generating train split: 0 examples [00:00, ? examples/s]",
      "application/vnd.jupyter.widget-view+json": {
       "version_major": 2,
       "version_minor": 0,
       "model_id": "e33ae5214e0b4645bfdf332c0260911d"
      }
     },
     "metadata": {},
     "output_type": "display_data"
    },
    {
     "name": "stdout",
     "output_type": "stream",
     "text": [
      "Dataset sigir2017 downloaded and prepared to /Users/wojciechkusa/.cache/huggingface/datasets/sigir2017/sigir2017_CD004178_bigbio_text/1.0.0/daf29aab6d84a87e179ad657f8285c8d31895224a59872f0bc0ccd8369637433. Subsequent calls will reuse this data.\n"
     ]
    },
    {
     "data": {
      "text/plain": "  0%|          | 0/1 [00:00<?, ?it/s]",
      "application/vnd.jupyter.widget-view+json": {
       "version_major": 2,
       "version_minor": 0,
       "model_id": "d4f22ab5b4924f60ac1bb7edfd788fe9"
      }
     },
     "metadata": {},
     "output_type": "display_data"
    },
    {
     "name": "stdout",
     "output_type": "stream",
     "text": [
      "Downloading and preparing dataset sigir2017/sigir2017_CD007736_bigbio_text to /Users/wojciechkusa/.cache/huggingface/datasets/sigir2017/sigir2017_CD007736_bigbio_text/1.0.0/daf29aab6d84a87e179ad657f8285c8d31895224a59872f0bc0ccd8369637433...\n",
      "PubMed data is already prepared.\n"
     ]
    },
    {
     "data": {
      "text/plain": "Generating train split: 0 examples [00:00, ? examples/s]",
      "application/vnd.jupyter.widget-view+json": {
       "version_major": 2,
       "version_minor": 0,
       "model_id": "c3a987df32ea49e6b6584c0cfce2be7a"
      }
     },
     "metadata": {},
     "output_type": "display_data"
    },
    {
     "name": "stdout",
     "output_type": "stream",
     "text": [
      "Dataset sigir2017 downloaded and prepared to /Users/wojciechkusa/.cache/huggingface/datasets/sigir2017/sigir2017_CD007736_bigbio_text/1.0.0/daf29aab6d84a87e179ad657f8285c8d31895224a59872f0bc0ccd8369637433. Subsequent calls will reuse this data.\n"
     ]
    },
    {
     "data": {
      "text/plain": "  0%|          | 0/1 [00:00<?, ?it/s]",
      "application/vnd.jupyter.widget-view+json": {
       "version_major": 2,
       "version_minor": 0,
       "model_id": "5ec6ed5dadd74aad961cd96bf21b1289"
      }
     },
     "metadata": {},
     "output_type": "display_data"
    },
    {
     "name": "stdout",
     "output_type": "stream",
     "text": [
      "Downloading and preparing dataset sigir2017/sigir2017_CD005059_bigbio_text to /Users/wojciechkusa/.cache/huggingface/datasets/sigir2017/sigir2017_CD005059_bigbio_text/1.0.0/daf29aab6d84a87e179ad657f8285c8d31895224a59872f0bc0ccd8369637433...\n",
      "PubMed data is already prepared.\n"
     ]
    },
    {
     "data": {
      "text/plain": "Generating train split: 0 examples [00:00, ? examples/s]",
      "application/vnd.jupyter.widget-view+json": {
       "version_major": 2,
       "version_minor": 0,
       "model_id": "3f9f5f038df0471c926ef53011fc6923"
      }
     },
     "metadata": {},
     "output_type": "display_data"
    },
    {
     "name": "stdout",
     "output_type": "stream",
     "text": [
      "Dataset sigir2017 downloaded and prepared to /Users/wojciechkusa/.cache/huggingface/datasets/sigir2017/sigir2017_CD005059_bigbio_text/1.0.0/daf29aab6d84a87e179ad657f8285c8d31895224a59872f0bc0ccd8369637433. Subsequent calls will reuse this data.\n"
     ]
    },
    {
     "data": {
      "text/plain": "  0%|          | 0/1 [00:00<?, ?it/s]",
      "application/vnd.jupyter.widget-view+json": {
       "version_major": 2,
       "version_minor": 0,
       "model_id": "f290211b15b54cb185bd165edde95dd9"
      }
     },
     "metadata": {},
     "output_type": "display_data"
    },
    {
     "name": "stdout",
     "output_type": "stream",
     "text": [
      "Downloading and preparing dataset sigir2017/sigir2017_CD010927_bigbio_text to /Users/wojciechkusa/.cache/huggingface/datasets/sigir2017/sigir2017_CD010927_bigbio_text/1.0.0/daf29aab6d84a87e179ad657f8285c8d31895224a59872f0bc0ccd8369637433...\n",
      "PubMed data is already prepared.\n"
     ]
    },
    {
     "data": {
      "text/plain": "Generating train split: 0 examples [00:00, ? examples/s]",
      "application/vnd.jupyter.widget-view+json": {
       "version_major": 2,
       "version_minor": 0,
       "model_id": "49dc5b9702e84762854f2d753f7e22a8"
      }
     },
     "metadata": {},
     "output_type": "display_data"
    },
    {
     "name": "stdout",
     "output_type": "stream",
     "text": [
      "Dataset sigir2017 downloaded and prepared to /Users/wojciechkusa/.cache/huggingface/datasets/sigir2017/sigir2017_CD010927_bigbio_text/1.0.0/daf29aab6d84a87e179ad657f8285c8d31895224a59872f0bc0ccd8369637433. Subsequent calls will reuse this data.\n"
     ]
    },
    {
     "data": {
      "text/plain": "  0%|          | 0/1 [00:00<?, ?it/s]",
      "application/vnd.jupyter.widget-view+json": {
       "version_major": 2,
       "version_minor": 0,
       "model_id": "47260c88d9da484491c3914d650e0220"
      }
     },
     "metadata": {},
     "output_type": "display_data"
    },
    {
     "name": "stdout",
     "output_type": "stream",
     "text": [
      "Downloading and preparing dataset sigir2017/sigir2017_CD011837_bigbio_text to /Users/wojciechkusa/.cache/huggingface/datasets/sigir2017/sigir2017_CD011837_bigbio_text/1.0.0/daf29aab6d84a87e179ad657f8285c8d31895224a59872f0bc0ccd8369637433...\n",
      "PubMed data is already prepared.\n"
     ]
    },
    {
     "data": {
      "text/plain": "Generating train split: 0 examples [00:00, ? examples/s]",
      "application/vnd.jupyter.widget-view+json": {
       "version_major": 2,
       "version_minor": 0,
       "model_id": "73db3407d9c14f8cb924998a9a5c12ad"
      }
     },
     "metadata": {},
     "output_type": "display_data"
    },
    {
     "name": "stdout",
     "output_type": "stream",
     "text": [
      "Dataset sigir2017 downloaded and prepared to /Users/wojciechkusa/.cache/huggingface/datasets/sigir2017/sigir2017_CD011837_bigbio_text/1.0.0/daf29aab6d84a87e179ad657f8285c8d31895224a59872f0bc0ccd8369637433. Subsequent calls will reuse this data.\n"
     ]
    },
    {
     "data": {
      "text/plain": "  0%|          | 0/1 [00:00<?, ?it/s]",
      "application/vnd.jupyter.widget-view+json": {
       "version_major": 2,
       "version_minor": 0,
       "model_id": "f876512b4ccf4c0388fe729122bcb520"
      }
     },
     "metadata": {},
     "output_type": "display_data"
    },
    {
     "name": "stdout",
     "output_type": "stream",
     "text": [
      "Downloading and preparing dataset sigir2017/sigir2017_CD003353_bigbio_text to /Users/wojciechkusa/.cache/huggingface/datasets/sigir2017/sigir2017_CD003353_bigbio_text/1.0.0/daf29aab6d84a87e179ad657f8285c8d31895224a59872f0bc0ccd8369637433...\n",
      "PubMed data is already prepared.\n"
     ]
    },
    {
     "data": {
      "text/plain": "Generating train split: 0 examples [00:00, ? examples/s]",
      "application/vnd.jupyter.widget-view+json": {
       "version_major": 2,
       "version_minor": 0,
       "model_id": "d277ec056dfd4098a002ccf0d86bbd60"
      }
     },
     "metadata": {},
     "output_type": "display_data"
    },
    {
     "name": "stdout",
     "output_type": "stream",
     "text": [
      "Dataset sigir2017 downloaded and prepared to /Users/wojciechkusa/.cache/huggingface/datasets/sigir2017/sigir2017_CD003353_bigbio_text/1.0.0/daf29aab6d84a87e179ad657f8285c8d31895224a59872f0bc0ccd8369637433. Subsequent calls will reuse this data.\n"
     ]
    },
    {
     "data": {
      "text/plain": "  0%|          | 0/1 [00:00<?, ?it/s]",
      "application/vnd.jupyter.widget-view+json": {
       "version_major": 2,
       "version_minor": 0,
       "model_id": "2ec2a5d911c441018122c2693eabb28c"
      }
     },
     "metadata": {},
     "output_type": "display_data"
    },
    {
     "name": "stdout",
     "output_type": "stream",
     "text": [
      "Downloading and preparing dataset sigir2017/sigir2017_CD009669_bigbio_text to /Users/wojciechkusa/.cache/huggingface/datasets/sigir2017/sigir2017_CD009669_bigbio_text/1.0.0/daf29aab6d84a87e179ad657f8285c8d31895224a59872f0bc0ccd8369637433...\n",
      "PubMed data is already prepared.\n"
     ]
    },
    {
     "data": {
      "text/plain": "Generating train split: 0 examples [00:00, ? examples/s]",
      "application/vnd.jupyter.widget-view+json": {
       "version_major": 2,
       "version_minor": 0,
       "model_id": "d5e5e56545004c5aa02ea955dd1b13cd"
      }
     },
     "metadata": {},
     "output_type": "display_data"
    },
    {
     "name": "stdout",
     "output_type": "stream",
     "text": [
      "Dataset sigir2017 downloaded and prepared to /Users/wojciechkusa/.cache/huggingface/datasets/sigir2017/sigir2017_CD009669_bigbio_text/1.0.0/daf29aab6d84a87e179ad657f8285c8d31895224a59872f0bc0ccd8369637433. Subsequent calls will reuse this data.\n"
     ]
    },
    {
     "data": {
      "text/plain": "  0%|          | 0/1 [00:00<?, ?it/s]",
      "application/vnd.jupyter.widget-view+json": {
       "version_major": 2,
       "version_minor": 0,
       "model_id": "728b3545cf7a4c79bbf5426e924a6746"
      }
     },
     "metadata": {},
     "output_type": "display_data"
    },
    {
     "name": "stdout",
     "output_type": "stream",
     "text": [
      "Downloading and preparing dataset sigir2017/sigir2017_CD001457_bigbio_text to /Users/wojciechkusa/.cache/huggingface/datasets/sigir2017/sigir2017_CD001457_bigbio_text/1.0.0/daf29aab6d84a87e179ad657f8285c8d31895224a59872f0bc0ccd8369637433...\n",
      "PubMed data is already prepared.\n"
     ]
    },
    {
     "data": {
      "text/plain": "Generating train split: 0 examples [00:00, ? examples/s]",
      "application/vnd.jupyter.widget-view+json": {
       "version_major": 2,
       "version_minor": 0,
       "model_id": "355d169c78c741ddad65b45ce3c4c52d"
      }
     },
     "metadata": {},
     "output_type": "display_data"
    },
    {
     "name": "stdout",
     "output_type": "stream",
     "text": [
      "Dataset sigir2017 downloaded and prepared to /Users/wojciechkusa/.cache/huggingface/datasets/sigir2017/sigir2017_CD001457_bigbio_text/1.0.0/daf29aab6d84a87e179ad657f8285c8d31895224a59872f0bc0ccd8369637433. Subsequent calls will reuse this data.\n"
     ]
    },
    {
     "data": {
      "text/plain": "  0%|          | 0/1 [00:00<?, ?it/s]",
      "application/vnd.jupyter.widget-view+json": {
       "version_major": 2,
       "version_minor": 0,
       "model_id": "52ad0883565b47d0a97c2b16419308b2"
      }
     },
     "metadata": {},
     "output_type": "display_data"
    },
    {
     "name": "stdout",
     "output_type": "stream",
     "text": [
      "Downloading and preparing dataset sigir2017/sigir2017_CD010387_bigbio_text to /Users/wojciechkusa/.cache/huggingface/datasets/sigir2017/sigir2017_CD010387_bigbio_text/1.0.0/daf29aab6d84a87e179ad657f8285c8d31895224a59872f0bc0ccd8369637433...\n",
      "PubMed data is already prepared.\n"
     ]
    },
    {
     "data": {
      "text/plain": "Generating train split: 0 examples [00:00, ? examples/s]",
      "application/vnd.jupyter.widget-view+json": {
       "version_major": 2,
       "version_minor": 0,
       "model_id": "1302a22ffda247ffb9a807723e919c4a"
      }
     },
     "metadata": {},
     "output_type": "display_data"
    },
    {
     "name": "stdout",
     "output_type": "stream",
     "text": [
      "Dataset sigir2017 downloaded and prepared to /Users/wojciechkusa/.cache/huggingface/datasets/sigir2017/sigir2017_CD010387_bigbio_text/1.0.0/daf29aab6d84a87e179ad657f8285c8d31895224a59872f0bc0ccd8369637433. Subsequent calls will reuse this data.\n"
     ]
    },
    {
     "data": {
      "text/plain": "  0%|          | 0/1 [00:00<?, ?it/s]",
      "application/vnd.jupyter.widget-view+json": {
       "version_major": 2,
       "version_minor": 0,
       "model_id": "21b293f32d5f48438ab33a02c5647928"
      }
     },
     "metadata": {},
     "output_type": "display_data"
    },
    {
     "name": "stdout",
     "output_type": "stream",
     "text": [
      "Downloading and preparing dataset sigir2017/sigir2017_CD009634_bigbio_text to /Users/wojciechkusa/.cache/huggingface/datasets/sigir2017/sigir2017_CD009634_bigbio_text/1.0.0/daf29aab6d84a87e179ad657f8285c8d31895224a59872f0bc0ccd8369637433...\n",
      "PubMed data is already prepared.\n"
     ]
    },
    {
     "data": {
      "text/plain": "Generating train split: 0 examples [00:00, ? examples/s]",
      "application/vnd.jupyter.widget-view+json": {
       "version_major": 2,
       "version_minor": 0,
       "model_id": "f109fc2747a84f2ab3f4267ec1c54dc6"
      }
     },
     "metadata": {},
     "output_type": "display_data"
    },
    {
     "name": "stdout",
     "output_type": "stream",
     "text": [
      "Dataset sigir2017 downloaded and prepared to /Users/wojciechkusa/.cache/huggingface/datasets/sigir2017/sigir2017_CD009634_bigbio_text/1.0.0/daf29aab6d84a87e179ad657f8285c8d31895224a59872f0bc0ccd8369637433. Subsequent calls will reuse this data.\n"
     ]
    },
    {
     "data": {
      "text/plain": "  0%|          | 0/1 [00:00<?, ?it/s]",
      "application/vnd.jupyter.widget-view+json": {
       "version_major": 2,
       "version_minor": 0,
       "model_id": "fcd83e332b46470d942a5729ff1bddd1"
      }
     },
     "metadata": {},
     "output_type": "display_data"
    },
    {
     "name": "stdout",
     "output_type": "stream",
     "text": [
      "Downloading and preparing dataset sigir2017/sigir2017_CD009633_bigbio_text to /Users/wojciechkusa/.cache/huggingface/datasets/sigir2017/sigir2017_CD009633_bigbio_text/1.0.0/daf29aab6d84a87e179ad657f8285c8d31895224a59872f0bc0ccd8369637433...\n",
      "PubMed data is already prepared.\n"
     ]
    },
    {
     "data": {
      "text/plain": "Generating train split: 0 examples [00:00, ? examples/s]",
      "application/vnd.jupyter.widget-view+json": {
       "version_major": 2,
       "version_minor": 0,
       "model_id": "cb4e627ffb6d42f5accbe0054a093d3f"
      }
     },
     "metadata": {},
     "output_type": "display_data"
    },
    {
     "name": "stdout",
     "output_type": "stream",
     "text": [
      "Dataset sigir2017 downloaded and prepared to /Users/wojciechkusa/.cache/huggingface/datasets/sigir2017/sigir2017_CD009633_bigbio_text/1.0.0/daf29aab6d84a87e179ad657f8285c8d31895224a59872f0bc0ccd8369637433. Subsequent calls will reuse this data.\n"
     ]
    },
    {
     "data": {
      "text/plain": "  0%|          | 0/1 [00:00<?, ?it/s]",
      "application/vnd.jupyter.widget-view+json": {
       "version_major": 2,
       "version_minor": 0,
       "model_id": "3c2176c9635d45cb9b9aed14e1dd514a"
      }
     },
     "metadata": {},
     "output_type": "display_data"
    },
    {
     "name": "stdout",
     "output_type": "stream",
     "text": [
      "Downloading and preparing dataset sigir2017/sigir2017_CD011241_bigbio_text to /Users/wojciechkusa/.cache/huggingface/datasets/sigir2017/sigir2017_CD011241_bigbio_text/1.0.0/daf29aab6d84a87e179ad657f8285c8d31895224a59872f0bc0ccd8369637433...\n",
      "PubMed data is already prepared.\n"
     ]
    },
    {
     "data": {
      "text/plain": "Generating train split: 0 examples [00:00, ? examples/s]",
      "application/vnd.jupyter.widget-view+json": {
       "version_major": 2,
       "version_minor": 0,
       "model_id": "e2fe92cc711a4493a72c4fb41b9afaf8"
      }
     },
     "metadata": {},
     "output_type": "display_data"
    },
    {
     "name": "stdout",
     "output_type": "stream",
     "text": [
      "Dataset sigir2017 downloaded and prepared to /Users/wojciechkusa/.cache/huggingface/datasets/sigir2017/sigir2017_CD011241_bigbio_text/1.0.0/daf29aab6d84a87e179ad657f8285c8d31895224a59872f0bc0ccd8369637433. Subsequent calls will reuse this data.\n"
     ]
    },
    {
     "data": {
      "text/plain": "  0%|          | 0/1 [00:00<?, ?it/s]",
      "application/vnd.jupyter.widget-view+json": {
       "version_major": 2,
       "version_minor": 0,
       "model_id": "17cdd269e17e472bbf191896fbd1f853"
      }
     },
     "metadata": {},
     "output_type": "display_data"
    },
    {
     "name": "stdout",
     "output_type": "stream",
     "text": [
      "Downloading and preparing dataset sigir2017/sigir2017_CD005019_bigbio_text to /Users/wojciechkusa/.cache/huggingface/datasets/sigir2017/sigir2017_CD005019_bigbio_text/1.0.0/daf29aab6d84a87e179ad657f8285c8d31895224a59872f0bc0ccd8369637433...\n",
      "PubMed data is already prepared.\n"
     ]
    },
    {
     "data": {
      "text/plain": "Generating train split: 0 examples [00:00, ? examples/s]",
      "application/vnd.jupyter.widget-view+json": {
       "version_major": 2,
       "version_minor": 0,
       "model_id": "d3e8eac6fc1245fa83b1bc1a6c0b1619"
      }
     },
     "metadata": {},
     "output_type": "display_data"
    },
    {
     "name": "stdout",
     "output_type": "stream",
     "text": [
      "Dataset sigir2017 downloaded and prepared to /Users/wojciechkusa/.cache/huggingface/datasets/sigir2017/sigir2017_CD005019_bigbio_text/1.0.0/daf29aab6d84a87e179ad657f8285c8d31895224a59872f0bc0ccd8369637433. Subsequent calls will reuse this data.\n"
     ]
    },
    {
     "data": {
      "text/plain": "  0%|          | 0/1 [00:00<?, ?it/s]",
      "application/vnd.jupyter.widget-view+json": {
       "version_major": 2,
       "version_minor": 0,
       "model_id": "fd5d4ec0168f4e26993d701893cab0be"
      }
     },
     "metadata": {},
     "output_type": "display_data"
    },
    {
     "name": "stdout",
     "output_type": "stream",
     "text": [
      "Downloading and preparing dataset sigir2017/sigir2017_CD002832_bigbio_text to /Users/wojciechkusa/.cache/huggingface/datasets/sigir2017/sigir2017_CD002832_bigbio_text/1.0.0/daf29aab6d84a87e179ad657f8285c8d31895224a59872f0bc0ccd8369637433...\n",
      "PubMed data is already prepared.\n"
     ]
    },
    {
     "data": {
      "text/plain": "Generating train split: 0 examples [00:00, ? examples/s]",
      "application/vnd.jupyter.widget-view+json": {
       "version_major": 2,
       "version_minor": 0,
       "model_id": "a93ff20122564c23925ea2b382182f6f"
      }
     },
     "metadata": {},
     "output_type": "display_data"
    },
    {
     "name": "stdout",
     "output_type": "stream",
     "text": [
      "Dataset sigir2017 downloaded and prepared to /Users/wojciechkusa/.cache/huggingface/datasets/sigir2017/sigir2017_CD002832_bigbio_text/1.0.0/daf29aab6d84a87e179ad657f8285c8d31895224a59872f0bc0ccd8369637433. Subsequent calls will reuse this data.\n"
     ]
    },
    {
     "data": {
      "text/plain": "  0%|          | 0/1 [00:00<?, ?it/s]",
      "application/vnd.jupyter.widget-view+json": {
       "version_major": 2,
       "version_minor": 0,
       "model_id": "05cbcb74962c4f7b8dd1d8f8925481cc"
      }
     },
     "metadata": {},
     "output_type": "display_data"
    },
    {
     "name": "stdout",
     "output_type": "stream",
     "text": [
      "Downloading and preparing dataset sigir2017/sigir2017_CD004903_bigbio_text to /Users/wojciechkusa/.cache/huggingface/datasets/sigir2017/sigir2017_CD004903_bigbio_text/1.0.0/daf29aab6d84a87e179ad657f8285c8d31895224a59872f0bc0ccd8369637433...\n",
      "PubMed data is already prepared.\n"
     ]
    },
    {
     "data": {
      "text/plain": "Generating train split: 0 examples [00:00, ? examples/s]",
      "application/vnd.jupyter.widget-view+json": {
       "version_major": 2,
       "version_minor": 0,
       "model_id": "99000d9a4c474e84afaf9e42b5af4012"
      }
     },
     "metadata": {},
     "output_type": "display_data"
    },
    {
     "name": "stdout",
     "output_type": "stream",
     "text": [
      "Dataset sigir2017 downloaded and prepared to /Users/wojciechkusa/.cache/huggingface/datasets/sigir2017/sigir2017_CD004903_bigbio_text/1.0.0/daf29aab6d84a87e179ad657f8285c8d31895224a59872f0bc0ccd8369637433. Subsequent calls will reuse this data.\n"
     ]
    },
    {
     "data": {
      "text/plain": "  0%|          | 0/1 [00:00<?, ?it/s]",
      "application/vnd.jupyter.widget-view+json": {
       "version_major": 2,
       "version_minor": 0,
       "model_id": "6aece6db9b10405aa74ca521a39689b6"
      }
     },
     "metadata": {},
     "output_type": "display_data"
    },
    {
     "name": "stdout",
     "output_type": "stream",
     "text": [
      "Downloading and preparing dataset sigir2017/sigir2017_CD003914_bigbio_text to /Users/wojciechkusa/.cache/huggingface/datasets/sigir2017/sigir2017_CD003914_bigbio_text/1.0.0/daf29aab6d84a87e179ad657f8285c8d31895224a59872f0bc0ccd8369637433...\n",
      "PubMed data is already prepared.\n"
     ]
    },
    {
     "data": {
      "text/plain": "Generating train split: 0 examples [00:00, ? examples/s]",
      "application/vnd.jupyter.widget-view+json": {
       "version_major": 2,
       "version_minor": 0,
       "model_id": "6845134774e94bc99bf54f8dd0338f9a"
      }
     },
     "metadata": {},
     "output_type": "display_data"
    },
    {
     "name": "stdout",
     "output_type": "stream",
     "text": [
      "Dataset sigir2017 downloaded and prepared to /Users/wojciechkusa/.cache/huggingface/datasets/sigir2017/sigir2017_CD003914_bigbio_text/1.0.0/daf29aab6d84a87e179ad657f8285c8d31895224a59872f0bc0ccd8369637433. Subsequent calls will reuse this data.\n"
     ]
    },
    {
     "data": {
      "text/plain": "  0%|          | 0/1 [00:00<?, ?it/s]",
      "application/vnd.jupyter.widget-view+json": {
       "version_major": 2,
       "version_minor": 0,
       "model_id": "6001f2f4f3cf45ddac91a44565a31782"
      }
     },
     "metadata": {},
     "output_type": "display_data"
    },
    {
     "name": "stdout",
     "output_type": "stream",
     "text": [
      "Downloading and preparing dataset sigir2017/sigir2017_CD002062_bigbio_text to /Users/wojciechkusa/.cache/huggingface/datasets/sigir2017/sigir2017_CD002062_bigbio_text/1.0.0/daf29aab6d84a87e179ad657f8285c8d31895224a59872f0bc0ccd8369637433...\n",
      "PubMed data is already prepared.\n"
     ]
    },
    {
     "data": {
      "text/plain": "Generating train split: 0 examples [00:00, ? examples/s]",
      "application/vnd.jupyter.widget-view+json": {
       "version_major": 2,
       "version_minor": 0,
       "model_id": "2a8d3f7e5d2f420a8f36c12d5b4a048c"
      }
     },
     "metadata": {},
     "output_type": "display_data"
    },
    {
     "name": "stdout",
     "output_type": "stream",
     "text": [
      "Dataset sigir2017 downloaded and prepared to /Users/wojciechkusa/.cache/huggingface/datasets/sigir2017/sigir2017_CD002062_bigbio_text/1.0.0/daf29aab6d84a87e179ad657f8285c8d31895224a59872f0bc0ccd8369637433. Subsequent calls will reuse this data.\n"
     ]
    },
    {
     "data": {
      "text/plain": "  0%|          | 0/1 [00:00<?, ?it/s]",
      "application/vnd.jupyter.widget-view+json": {
       "version_major": 2,
       "version_minor": 0,
       "model_id": "c09a19bae5de4551b4657825dfaeb18e"
      }
     },
     "metadata": {},
     "output_type": "display_data"
    },
    {
     "name": "stdout",
     "output_type": "stream",
     "text": [
      "Downloading and preparing dataset sigir2017/sigir2017_CD002250_bigbio_text to /Users/wojciechkusa/.cache/huggingface/datasets/sigir2017/sigir2017_CD002250_bigbio_text/1.0.0/daf29aab6d84a87e179ad657f8285c8d31895224a59872f0bc0ccd8369637433...\n",
      "PubMed data is already prepared.\n"
     ]
    },
    {
     "data": {
      "text/plain": "Generating train split: 0 examples [00:00, ? examples/s]",
      "application/vnd.jupyter.widget-view+json": {
       "version_major": 2,
       "version_minor": 0,
       "model_id": "1283efa3f272401593c5476444ed8b75"
      }
     },
     "metadata": {},
     "output_type": "display_data"
    },
    {
     "name": "stdout",
     "output_type": "stream",
     "text": [
      "Dataset sigir2017 downloaded and prepared to /Users/wojciechkusa/.cache/huggingface/datasets/sigir2017/sigir2017_CD002250_bigbio_text/1.0.0/daf29aab6d84a87e179ad657f8285c8d31895224a59872f0bc0ccd8369637433. Subsequent calls will reuse this data.\n"
     ]
    },
    {
     "data": {
      "text/plain": "  0%|          | 0/1 [00:00<?, ?it/s]",
      "application/vnd.jupyter.widget-view+json": {
       "version_major": 2,
       "version_minor": 0,
       "model_id": "2cdf2a2350f143f28b6c1cae054581c7"
      }
     },
     "metadata": {},
     "output_type": "display_data"
    },
    {
     "name": "stdout",
     "output_type": "stream",
     "text": [
      "Downloading and preparing dataset sigir2017/sigir2017_CD007379_bigbio_text to /Users/wojciechkusa/.cache/huggingface/datasets/sigir2017/sigir2017_CD007379_bigbio_text/1.0.0/daf29aab6d84a87e179ad657f8285c8d31895224a59872f0bc0ccd8369637433...\n",
      "PubMed data is already prepared.\n"
     ]
    },
    {
     "data": {
      "text/plain": "Generating train split: 0 examples [00:00, ? examples/s]",
      "application/vnd.jupyter.widget-view+json": {
       "version_major": 2,
       "version_minor": 0,
       "model_id": "84a3404746aa404fad4bf7564d3f5032"
      }
     },
     "metadata": {},
     "output_type": "display_data"
    },
    {
     "name": "stdout",
     "output_type": "stream",
     "text": [
      "Dataset sigir2017 downloaded and prepared to /Users/wojciechkusa/.cache/huggingface/datasets/sigir2017/sigir2017_CD007379_bigbio_text/1.0.0/daf29aab6d84a87e179ad657f8285c8d31895224a59872f0bc0ccd8369637433. Subsequent calls will reuse this data.\n"
     ]
    },
    {
     "data": {
      "text/plain": "  0%|          | 0/1 [00:00<?, ?it/s]",
      "application/vnd.jupyter.widget-view+json": {
       "version_major": 2,
       "version_minor": 0,
       "model_id": "393fce36109c4824968414a07a587766"
      }
     },
     "metadata": {},
     "output_type": "display_data"
    },
    {
     "name": "stdout",
     "output_type": "stream",
     "text": [
      "Downloading and preparing dataset sigir2017/sigir2017_CD011472_bigbio_text to /Users/wojciechkusa/.cache/huggingface/datasets/sigir2017/sigir2017_CD011472_bigbio_text/1.0.0/daf29aab6d84a87e179ad657f8285c8d31895224a59872f0bc0ccd8369637433...\n",
      "PubMed data is already prepared.\n"
     ]
    },
    {
     "data": {
      "text/plain": "Generating train split: 0 examples [00:00, ? examples/s]",
      "application/vnd.jupyter.widget-view+json": {
       "version_major": 2,
       "version_minor": 0,
       "model_id": "741c8d87f4f24760b2ff437ba78537c0"
      }
     },
     "metadata": {},
     "output_type": "display_data"
    },
    {
     "name": "stdout",
     "output_type": "stream",
     "text": [
      "Dataset sigir2017 downloaded and prepared to /Users/wojciechkusa/.cache/huggingface/datasets/sigir2017/sigir2017_CD011472_bigbio_text/1.0.0/daf29aab6d84a87e179ad657f8285c8d31895224a59872f0bc0ccd8369637433. Subsequent calls will reuse this data.\n"
     ]
    },
    {
     "data": {
      "text/plain": "  0%|          | 0/1 [00:00<?, ?it/s]",
      "application/vnd.jupyter.widget-view+json": {
       "version_major": 2,
       "version_minor": 0,
       "model_id": "31027d398bae4ae9b94103e1759552aa"
      }
     },
     "metadata": {},
     "output_type": "display_data"
    },
    {
     "name": "stdout",
     "output_type": "stream",
     "text": [
      "Downloading and preparing dataset sigir2017/sigir2017_CD009210_bigbio_text to /Users/wojciechkusa/.cache/huggingface/datasets/sigir2017/sigir2017_CD009210_bigbio_text/1.0.0/daf29aab6d84a87e179ad657f8285c8d31895224a59872f0bc0ccd8369637433...\n",
      "PubMed data is already prepared.\n"
     ]
    },
    {
     "data": {
      "text/plain": "Generating train split: 0 examples [00:00, ? examples/s]",
      "application/vnd.jupyter.widget-view+json": {
       "version_major": 2,
       "version_minor": 0,
       "model_id": "148f155b3f7b44c0be2a8ed0d11d3ba0"
      }
     },
     "metadata": {},
     "output_type": "display_data"
    },
    {
     "name": "stdout",
     "output_type": "stream",
     "text": [
      "Dataset sigir2017 downloaded and prepared to /Users/wojciechkusa/.cache/huggingface/datasets/sigir2017/sigir2017_CD009210_bigbio_text/1.0.0/daf29aab6d84a87e179ad657f8285c8d31895224a59872f0bc0ccd8369637433. Subsequent calls will reuse this data.\n"
     ]
    },
    {
     "data": {
      "text/plain": "  0%|          | 0/1 [00:00<?, ?it/s]",
      "application/vnd.jupyter.widget-view+json": {
       "version_major": 2,
       "version_minor": 0,
       "model_id": "d518a54b49e44b828331d9dd01c3324c"
      }
     },
     "metadata": {},
     "output_type": "display_data"
    },
    {
     "name": "stdout",
     "output_type": "stream",
     "text": [
      "Downloading and preparing dataset sigir2017/sigir2017_CD010139_bigbio_text to /Users/wojciechkusa/.cache/huggingface/datasets/sigir2017/sigir2017_CD010139_bigbio_text/1.0.0/daf29aab6d84a87e179ad657f8285c8d31895224a59872f0bc0ccd8369637433...\n",
      "PubMed data is already prepared.\n"
     ]
    },
    {
     "data": {
      "text/plain": "Generating train split: 0 examples [00:00, ? examples/s]",
      "application/vnd.jupyter.widget-view+json": {
       "version_major": 2,
       "version_minor": 0,
       "model_id": "4d8d0fe814784d84958e6f58b1a45c4f"
      }
     },
     "metadata": {},
     "output_type": "display_data"
    },
    {
     "name": "stdout",
     "output_type": "stream",
     "text": [
      "Dataset sigir2017 downloaded and prepared to /Users/wojciechkusa/.cache/huggingface/datasets/sigir2017/sigir2017_CD010139_bigbio_text/1.0.0/daf29aab6d84a87e179ad657f8285c8d31895224a59872f0bc0ccd8369637433. Subsequent calls will reuse this data.\n"
     ]
    },
    {
     "data": {
      "text/plain": "  0%|          | 0/1 [00:00<?, ?it/s]",
      "application/vnd.jupyter.widget-view+json": {
       "version_major": 2,
       "version_minor": 0,
       "model_id": "525d89c0e71c4930a7126240eaf879b5"
      }
     },
     "metadata": {},
     "output_type": "display_data"
    },
    {
     "name": "stdout",
     "output_type": "stream",
     "text": [
      "Downloading and preparing dataset sigir2017/sigir2017_CD010333_bigbio_text to /Users/wojciechkusa/.cache/huggingface/datasets/sigir2017/sigir2017_CD010333_bigbio_text/1.0.0/daf29aab6d84a87e179ad657f8285c8d31895224a59872f0bc0ccd8369637433...\n",
      "PubMed data is already prepared.\n"
     ]
    },
    {
     "data": {
      "text/plain": "Generating train split: 0 examples [00:00, ? examples/s]",
      "application/vnd.jupyter.widget-view+json": {
       "version_major": 2,
       "version_minor": 0,
       "model_id": "4949c8ed4abd4258a5fdfdd1e78bf97c"
      }
     },
     "metadata": {},
     "output_type": "display_data"
    },
    {
     "name": "stdout",
     "output_type": "stream",
     "text": [
      "Dataset sigir2017 downloaded and prepared to /Users/wojciechkusa/.cache/huggingface/datasets/sigir2017/sigir2017_CD010333_bigbio_text/1.0.0/daf29aab6d84a87e179ad657f8285c8d31895224a59872f0bc0ccd8369637433. Subsequent calls will reuse this data.\n"
     ]
    },
    {
     "data": {
      "text/plain": "  0%|          | 0/1 [00:00<?, ?it/s]",
      "application/vnd.jupyter.widget-view+json": {
       "version_major": 2,
       "version_minor": 0,
       "model_id": "a8d2dbeabae84d3793ef9e413f9851f3"
      }
     },
     "metadata": {},
     "output_type": "display_data"
    },
    {
     "name": "stdout",
     "output_type": "stream",
     "text": [
      "Downloading and preparing dataset sigir2017/sigir2017_CD009887_bigbio_text to /Users/wojciechkusa/.cache/huggingface/datasets/sigir2017/sigir2017_CD009887_bigbio_text/1.0.0/daf29aab6d84a87e179ad657f8285c8d31895224a59872f0bc0ccd8369637433...\n",
      "PubMed data is already prepared.\n"
     ]
    },
    {
     "data": {
      "text/plain": "Generating train split: 0 examples [00:00, ? examples/s]",
      "application/vnd.jupyter.widget-view+json": {
       "version_major": 2,
       "version_minor": 0,
       "model_id": "5266bd076a5d4bfa98e5c87bfdea17ae"
      }
     },
     "metadata": {},
     "output_type": "display_data"
    },
    {
     "name": "stdout",
     "output_type": "stream",
     "text": [
      "Dataset sigir2017 downloaded and prepared to /Users/wojciechkusa/.cache/huggingface/datasets/sigir2017/sigir2017_CD009887_bigbio_text/1.0.0/daf29aab6d84a87e179ad657f8285c8d31895224a59872f0bc0ccd8369637433. Subsequent calls will reuse this data.\n"
     ]
    },
    {
     "data": {
      "text/plain": "  0%|          | 0/1 [00:00<?, ?it/s]",
      "application/vnd.jupyter.widget-view+json": {
       "version_major": 2,
       "version_minor": 0,
       "model_id": "1249cc18833e4f93bdfa2e236286c4b8"
      }
     },
     "metadata": {},
     "output_type": "display_data"
    },
    {
     "name": "stdout",
     "output_type": "stream",
     "text": [
      "Downloading and preparing dataset sigir2017/sigir2017_CD006832_bigbio_text to /Users/wojciechkusa/.cache/huggingface/datasets/sigir2017/sigir2017_CD006832_bigbio_text/1.0.0/daf29aab6d84a87e179ad657f8285c8d31895224a59872f0bc0ccd8369637433...\n",
      "PubMed data is already prepared.\n"
     ]
    },
    {
     "data": {
      "text/plain": "Generating train split: 0 examples [00:00, ? examples/s]",
      "application/vnd.jupyter.widget-view+json": {
       "version_major": 2,
       "version_minor": 0,
       "model_id": "a32c9b6195f347b2b71015f3955b41a6"
      }
     },
     "metadata": {},
     "output_type": "display_data"
    },
    {
     "name": "stdout",
     "output_type": "stream",
     "text": [
      "Dataset sigir2017 downloaded and prepared to /Users/wojciechkusa/.cache/huggingface/datasets/sigir2017/sigir2017_CD006832_bigbio_text/1.0.0/daf29aab6d84a87e179ad657f8285c8d31895224a59872f0bc0ccd8369637433. Subsequent calls will reuse this data.\n"
     ]
    },
    {
     "data": {
      "text/plain": "  0%|          | 0/1 [00:00<?, ?it/s]",
      "application/vnd.jupyter.widget-view+json": {
       "version_major": 2,
       "version_minor": 0,
       "model_id": "c14c13c849d24fe787707bb3f71d9b1b"
      }
     },
     "metadata": {},
     "output_type": "display_data"
    },
    {
     "name": "stdout",
     "output_type": "stream",
     "text": [
      "Downloading and preparing dataset sigir2017/sigir2017_CD008963_bigbio_text to /Users/wojciechkusa/.cache/huggingface/datasets/sigir2017/sigir2017_CD008963_bigbio_text/1.0.0/daf29aab6d84a87e179ad657f8285c8d31895224a59872f0bc0ccd8369637433...\n",
      "PubMed data is already prepared.\n"
     ]
    },
    {
     "data": {
      "text/plain": "Generating train split: 0 examples [00:00, ? examples/s]",
      "application/vnd.jupyter.widget-view+json": {
       "version_major": 2,
       "version_minor": 0,
       "model_id": "92f6378e323e4da1ba5e6bf2668d62a0"
      }
     },
     "metadata": {},
     "output_type": "display_data"
    },
    {
     "name": "stdout",
     "output_type": "stream",
     "text": [
      "Dataset sigir2017 downloaded and prepared to /Users/wojciechkusa/.cache/huggingface/datasets/sigir2017/sigir2017_CD008963_bigbio_text/1.0.0/daf29aab6d84a87e179ad657f8285c8d31895224a59872f0bc0ccd8369637433. Subsequent calls will reuse this data.\n"
     ]
    },
    {
     "data": {
      "text/plain": "  0%|          | 0/1 [00:00<?, ?it/s]",
      "application/vnd.jupyter.widget-view+json": {
       "version_major": 2,
       "version_minor": 0,
       "model_id": "2482fdaf7e014015bdc7aaee284a5efe"
      }
     },
     "metadata": {},
     "output_type": "display_data"
    },
    {
     "name": "stdout",
     "output_type": "stream",
     "text": [
      "Downloading and preparing dataset sigir2017/sigir2017_CD005614_bigbio_text to /Users/wojciechkusa/.cache/huggingface/datasets/sigir2017/sigir2017_CD005614_bigbio_text/1.0.0/daf29aab6d84a87e179ad657f8285c8d31895224a59872f0bc0ccd8369637433...\n",
      "PubMed data is already prepared.\n"
     ]
    },
    {
     "data": {
      "text/plain": "Generating train split: 0 examples [00:00, ? examples/s]",
      "application/vnd.jupyter.widget-view+json": {
       "version_major": 2,
       "version_minor": 0,
       "model_id": "2b30346e0b5648e181a4e92281557c65"
      }
     },
     "metadata": {},
     "output_type": "display_data"
    },
    {
     "name": "stdout",
     "output_type": "stream",
     "text": [
      "Dataset sigir2017 downloaded and prepared to /Users/wojciechkusa/.cache/huggingface/datasets/sigir2017/sigir2017_CD005614_bigbio_text/1.0.0/daf29aab6d84a87e179ad657f8285c8d31895224a59872f0bc0ccd8369637433. Subsequent calls will reuse this data.\n"
     ]
    },
    {
     "data": {
      "text/plain": "  0%|          | 0/1 [00:00<?, ?it/s]",
      "application/vnd.jupyter.widget-view+json": {
       "version_major": 2,
       "version_minor": 0,
       "model_id": "a065712cceb64f40b4e6471ad0ff590e"
      }
     },
     "metadata": {},
     "output_type": "display_data"
    },
    {
     "name": "stdout",
     "output_type": "stream",
     "text": [
      "Downloading and preparing dataset sigir2017/sigir2017_CD010767_bigbio_text to /Users/wojciechkusa/.cache/huggingface/datasets/sigir2017/sigir2017_CD010767_bigbio_text/1.0.0/daf29aab6d84a87e179ad657f8285c8d31895224a59872f0bc0ccd8369637433...\n",
      "PubMed data is already prepared.\n"
     ]
    },
    {
     "data": {
      "text/plain": "Generating train split: 0 examples [00:00, ? examples/s]",
      "application/vnd.jupyter.widget-view+json": {
       "version_major": 2,
       "version_minor": 0,
       "model_id": "ed5a760289ce409f8794e610795e908f"
      }
     },
     "metadata": {},
     "output_type": "display_data"
    },
    {
     "name": "stdout",
     "output_type": "stream",
     "text": [
      "Dataset sigir2017 downloaded and prepared to /Users/wojciechkusa/.cache/huggingface/datasets/sigir2017/sigir2017_CD010767_bigbio_text/1.0.0/daf29aab6d84a87e179ad657f8285c8d31895224a59872f0bc0ccd8369637433. Subsequent calls will reuse this data.\n"
     ]
    },
    {
     "data": {
      "text/plain": "  0%|          | 0/1 [00:00<?, ?it/s]",
      "application/vnd.jupyter.widget-view+json": {
       "version_major": 2,
       "version_minor": 0,
       "model_id": "5073bf6e71074bbbb8abaf1dd2377836"
      }
     },
     "metadata": {},
     "output_type": "display_data"
    },
    {
     "name": "stdout",
     "output_type": "stream",
     "text": [
      "Downloading and preparing dataset sigir2017/sigir2017_CD006748_bigbio_text to /Users/wojciechkusa/.cache/huggingface/datasets/sigir2017/sigir2017_CD006748_bigbio_text/1.0.0/daf29aab6d84a87e179ad657f8285c8d31895224a59872f0bc0ccd8369637433...\n",
      "PubMed data is already prepared.\n"
     ]
    },
    {
     "data": {
      "text/plain": "Generating train split: 0 examples [00:00, ? examples/s]",
      "application/vnd.jupyter.widget-view+json": {
       "version_major": 2,
       "version_minor": 0,
       "model_id": "f69f08136d9a42a882bf347fece1d0f4"
      }
     },
     "metadata": {},
     "output_type": "display_data"
    },
    {
     "name": "stdout",
     "output_type": "stream",
     "text": [
      "Dataset sigir2017 downloaded and prepared to /Users/wojciechkusa/.cache/huggingface/datasets/sigir2017/sigir2017_CD006748_bigbio_text/1.0.0/daf29aab6d84a87e179ad657f8285c8d31895224a59872f0bc0ccd8369637433. Subsequent calls will reuse this data.\n"
     ]
    },
    {
     "data": {
      "text/plain": "  0%|          | 0/1 [00:00<?, ?it/s]",
      "application/vnd.jupyter.widget-view+json": {
       "version_major": 2,
       "version_minor": 0,
       "model_id": "d3a356e5b8d5404c83322e5e6b8b31a7"
      }
     },
     "metadata": {},
     "output_type": "display_data"
    },
    {
     "name": "stdout",
     "output_type": "stream",
     "text": [
      "Downloading and preparing dataset sigir2017/sigir2017_CD007497_bigbio_text to /Users/wojciechkusa/.cache/huggingface/datasets/sigir2017/sigir2017_CD007497_bigbio_text/1.0.0/daf29aab6d84a87e179ad657f8285c8d31895224a59872f0bc0ccd8369637433...\n",
      "PubMed data is already prepared.\n"
     ]
    },
    {
     "data": {
      "text/plain": "Generating train split: 0 examples [00:00, ? examples/s]",
      "application/vnd.jupyter.widget-view+json": {
       "version_major": 2,
       "version_minor": 0,
       "model_id": "977e5c529f094ceab3b9caceca1c7a01"
      }
     },
     "metadata": {},
     "output_type": "display_data"
    },
    {
     "name": "stdout",
     "output_type": "stream",
     "text": [
      "Dataset sigir2017 downloaded and prepared to /Users/wojciechkusa/.cache/huggingface/datasets/sigir2017/sigir2017_CD007497_bigbio_text/1.0.0/daf29aab6d84a87e179ad657f8285c8d31895224a59872f0bc0ccd8369637433. Subsequent calls will reuse this data.\n"
     ]
    },
    {
     "data": {
      "text/plain": "  0%|          | 0/1 [00:00<?, ?it/s]",
      "application/vnd.jupyter.widget-view+json": {
       "version_major": 2,
       "version_minor": 0,
       "model_id": "eb894ed245174b8490f82a117bdb5b89"
      }
     },
     "metadata": {},
     "output_type": "display_data"
    },
    {
     "name": "stdout",
     "output_type": "stream",
     "text": [
      "Downloading and preparing dataset sigir2017/sigir2017_CD008873_bigbio_text to /Users/wojciechkusa/.cache/huggingface/datasets/sigir2017/sigir2017_CD008873_bigbio_text/1.0.0/daf29aab6d84a87e179ad657f8285c8d31895224a59872f0bc0ccd8369637433...\n",
      "PubMed data is already prepared.\n"
     ]
    },
    {
     "data": {
      "text/plain": "Generating train split: 0 examples [00:00, ? examples/s]",
      "application/vnd.jupyter.widget-view+json": {
       "version_major": 2,
       "version_minor": 0,
       "model_id": "720c3a657d4443718dcabc84d006ea1b"
      }
     },
     "metadata": {},
     "output_type": "display_data"
    },
    {
     "name": "stdout",
     "output_type": "stream",
     "text": [
      "Dataset sigir2017 downloaded and prepared to /Users/wojciechkusa/.cache/huggingface/datasets/sigir2017/sigir2017_CD008873_bigbio_text/1.0.0/daf29aab6d84a87e179ad657f8285c8d31895224a59872f0bc0ccd8369637433. Subsequent calls will reuse this data.\n"
     ]
    },
    {
     "data": {
      "text/plain": "  0%|          | 0/1 [00:00<?, ?it/s]",
      "application/vnd.jupyter.widget-view+json": {
       "version_major": 2,
       "version_minor": 0,
       "model_id": "43552bbac3324dd588ffd4c5676fd875"
      }
     },
     "metadata": {},
     "output_type": "display_data"
    },
    {
     "name": "stdout",
     "output_type": "stream",
     "text": [
      "Downloading and preparing dataset sigir2017/sigir2017_CD006770_bigbio_text to /Users/wojciechkusa/.cache/huggingface/datasets/sigir2017/sigir2017_CD006770_bigbio_text/1.0.0/daf29aab6d84a87e179ad657f8285c8d31895224a59872f0bc0ccd8369637433...\n",
      "PubMed data is already prepared.\n"
     ]
    },
    {
     "data": {
      "text/plain": "Generating train split: 0 examples [00:00, ? examples/s]",
      "application/vnd.jupyter.widget-view+json": {
       "version_major": 2,
       "version_minor": 0,
       "model_id": "95160e6d0e514bc1a5fb9fd3bc9b2825"
      }
     },
     "metadata": {},
     "output_type": "display_data"
    },
    {
     "name": "stdout",
     "output_type": "stream",
     "text": [
      "Dataset sigir2017 downloaded and prepared to /Users/wojciechkusa/.cache/huggingface/datasets/sigir2017/sigir2017_CD006770_bigbio_text/1.0.0/daf29aab6d84a87e179ad657f8285c8d31895224a59872f0bc0ccd8369637433. Subsequent calls will reuse this data.\n"
     ]
    },
    {
     "data": {
      "text/plain": "  0%|          | 0/1 [00:00<?, ?it/s]",
      "application/vnd.jupyter.widget-view+json": {
       "version_major": 2,
       "version_minor": 0,
       "model_id": "a2bc865863db4b0eb8ed309f6e6cfa97"
      }
     },
     "metadata": {},
     "output_type": "display_data"
    },
    {
     "name": "stdout",
     "output_type": "stream",
     "text": [
      "Downloading and preparing dataset sigir2017/sigir2017_CD010411_bigbio_text to /Users/wojciechkusa/.cache/huggingface/datasets/sigir2017/sigir2017_CD010411_bigbio_text/1.0.0/daf29aab6d84a87e179ad657f8285c8d31895224a59872f0bc0ccd8369637433...\n",
      "PubMed data is already prepared.\n"
     ]
    },
    {
     "data": {
      "text/plain": "Generating train split: 0 examples [00:00, ? examples/s]",
      "application/vnd.jupyter.widget-view+json": {
       "version_major": 2,
       "version_minor": 0,
       "model_id": "094647bdf60c40279071d204dd28ec6d"
      }
     },
     "metadata": {},
     "output_type": "display_data"
    },
    {
     "name": "stdout",
     "output_type": "stream",
     "text": [
      "Dataset sigir2017 downloaded and prepared to /Users/wojciechkusa/.cache/huggingface/datasets/sigir2017/sigir2017_CD010411_bigbio_text/1.0.0/daf29aab6d84a87e179ad657f8285c8d31895224a59872f0bc0ccd8369637433. Subsequent calls will reuse this data.\n"
     ]
    },
    {
     "data": {
      "text/plain": "  0%|          | 0/1 [00:00<?, ?it/s]",
      "application/vnd.jupyter.widget-view+json": {
       "version_major": 2,
       "version_minor": 0,
       "model_id": "a5b9d7cceb0f41988cd1db59a062d27c"
      }
     },
     "metadata": {},
     "output_type": "display_data"
    },
    {
     "name": "stdout",
     "output_type": "stream",
     "text": [
      "Downloading and preparing dataset sigir2017/sigir2017_CD008482_bigbio_text to /Users/wojciechkusa/.cache/huggingface/datasets/sigir2017/sigir2017_CD008482_bigbio_text/1.0.0/daf29aab6d84a87e179ad657f8285c8d31895224a59872f0bc0ccd8369637433...\n",
      "PubMed data is already prepared.\n"
     ]
    },
    {
     "data": {
      "text/plain": "Generating train split: 0 examples [00:00, ? examples/s]",
      "application/vnd.jupyter.widget-view+json": {
       "version_major": 2,
       "version_minor": 0,
       "model_id": "a3c7a37bacb14bbfb4e55853418503b4"
      }
     },
     "metadata": {},
     "output_type": "display_data"
    },
    {
     "name": "stdout",
     "output_type": "stream",
     "text": [
      "Dataset sigir2017 downloaded and prepared to /Users/wojciechkusa/.cache/huggingface/datasets/sigir2017/sigir2017_CD008482_bigbio_text/1.0.0/daf29aab6d84a87e179ad657f8285c8d31895224a59872f0bc0ccd8369637433. Subsequent calls will reuse this data.\n"
     ]
    },
    {
     "data": {
      "text/plain": "  0%|          | 0/1 [00:00<?, ?it/s]",
      "application/vnd.jupyter.widget-view+json": {
       "version_major": 2,
       "version_minor": 0,
       "model_id": "7feaa15b24994a98bf4df53df65c0127"
      }
     },
     "metadata": {},
     "output_type": "display_data"
    },
    {
     "name": "stdout",
     "output_type": "stream",
     "text": [
      "Downloading and preparing dataset sigir2017/sigir2017_CD001957_bigbio_text to /Users/wojciechkusa/.cache/huggingface/datasets/sigir2017/sigir2017_CD001957_bigbio_text/1.0.0/daf29aab6d84a87e179ad657f8285c8d31895224a59872f0bc0ccd8369637433...\n",
      "PubMed data is already prepared.\n"
     ]
    },
    {
     "data": {
      "text/plain": "Generating train split: 0 examples [00:00, ? examples/s]",
      "application/vnd.jupyter.widget-view+json": {
       "version_major": 2,
       "version_minor": 0,
       "model_id": "739e6e9c7342470a9a8aaf35c91c4155"
      }
     },
     "metadata": {},
     "output_type": "display_data"
    },
    {
     "name": "stdout",
     "output_type": "stream",
     "text": [
      "Dataset sigir2017 downloaded and prepared to /Users/wojciechkusa/.cache/huggingface/datasets/sigir2017/sigir2017_CD001957_bigbio_text/1.0.0/daf29aab6d84a87e179ad657f8285c8d31895224a59872f0bc0ccd8369637433. Subsequent calls will reuse this data.\n"
     ]
    },
    {
     "data": {
      "text/plain": "  0%|          | 0/1 [00:00<?, ?it/s]",
      "application/vnd.jupyter.widget-view+json": {
       "version_major": 2,
       "version_minor": 0,
       "model_id": "bf970a0106d842a8bef3ed8a96a1bcc2"
      }
     },
     "metadata": {},
     "output_type": "display_data"
    },
    {
     "name": "stdout",
     "output_type": "stream",
     "text": [
      "Downloading and preparing dataset sigir2017/sigir2017_CD006172_bigbio_text to /Users/wojciechkusa/.cache/huggingface/datasets/sigir2017/sigir2017_CD006172_bigbio_text/1.0.0/daf29aab6d84a87e179ad657f8285c8d31895224a59872f0bc0ccd8369637433...\n",
      "PubMed data is already prepared.\n"
     ]
    },
    {
     "data": {
      "text/plain": "Generating train split: 0 examples [00:00, ? examples/s]",
      "application/vnd.jupyter.widget-view+json": {
       "version_major": 2,
       "version_minor": 0,
       "model_id": "a906d79fbf62411d8a23e1dd852867e1"
      }
     },
     "metadata": {},
     "output_type": "display_data"
    },
    {
     "name": "stdout",
     "output_type": "stream",
     "text": [
      "Dataset sigir2017 downloaded and prepared to /Users/wojciechkusa/.cache/huggingface/datasets/sigir2017/sigir2017_CD006172_bigbio_text/1.0.0/daf29aab6d84a87e179ad657f8285c8d31895224a59872f0bc0ccd8369637433. Subsequent calls will reuse this data.\n"
     ]
    },
    {
     "data": {
      "text/plain": "  0%|          | 0/1 [00:00<?, ?it/s]",
      "application/vnd.jupyter.widget-view+json": {
       "version_major": 2,
       "version_minor": 0,
       "model_id": "f34e877971774feb803b5a6dd0a2fbcc"
      }
     },
     "metadata": {},
     "output_type": "display_data"
    },
    {
     "name": "stdout",
     "output_type": "stream",
     "text": [
      "Downloading and preparing dataset sigir2017/sigir2017_CD010225_bigbio_text to /Users/wojciechkusa/.cache/huggingface/datasets/sigir2017/sigir2017_CD010225_bigbio_text/1.0.0/daf29aab6d84a87e179ad657f8285c8d31895224a59872f0bc0ccd8369637433...\n",
      "PubMed data is already prepared.\n"
     ]
    },
    {
     "data": {
      "text/plain": "Generating train split: 0 examples [00:00, ? examples/s]",
      "application/vnd.jupyter.widget-view+json": {
       "version_major": 2,
       "version_minor": 0,
       "model_id": "cfa53cf0b0a94cb69f05c5c85d919f4f"
      }
     },
     "metadata": {},
     "output_type": "display_data"
    },
    {
     "name": "stdout",
     "output_type": "stream",
     "text": [
      "Dataset sigir2017 downloaded and prepared to /Users/wojciechkusa/.cache/huggingface/datasets/sigir2017/sigir2017_CD010225_bigbio_text/1.0.0/daf29aab6d84a87e179ad657f8285c8d31895224a59872f0bc0ccd8369637433. Subsequent calls will reuse this data.\n"
     ]
    },
    {
     "data": {
      "text/plain": "  0%|          | 0/1 [00:00<?, ?it/s]",
      "application/vnd.jupyter.widget-view+json": {
       "version_major": 2,
       "version_minor": 0,
       "model_id": "d2b810838b514d78a20c631d2f3425f7"
      }
     },
     "metadata": {},
     "output_type": "display_data"
    },
    {
     "name": "stdout",
     "output_type": "stream",
     "text": [
      "Downloading and preparing dataset sigir2017/sigir2017_CD010473_bigbio_text to /Users/wojciechkusa/.cache/huggingface/datasets/sigir2017/sigir2017_CD010473_bigbio_text/1.0.0/daf29aab6d84a87e179ad657f8285c8d31895224a59872f0bc0ccd8369637433...\n",
      "PubMed data is already prepared.\n"
     ]
    },
    {
     "data": {
      "text/plain": "Generating train split: 0 examples [00:00, ? examples/s]",
      "application/vnd.jupyter.widget-view+json": {
       "version_major": 2,
       "version_minor": 0,
       "model_id": "3a7e98bc465b48628f294773764922c4"
      }
     },
     "metadata": {},
     "output_type": "display_data"
    },
    {
     "name": "stdout",
     "output_type": "stream",
     "text": [
      "Dataset sigir2017 downloaded and prepared to /Users/wojciechkusa/.cache/huggingface/datasets/sigir2017/sigir2017_CD010473_bigbio_text/1.0.0/daf29aab6d84a87e179ad657f8285c8d31895224a59872f0bc0ccd8369637433. Subsequent calls will reuse this data.\n"
     ]
    },
    {
     "data": {
      "text/plain": "  0%|          | 0/1 [00:00<?, ?it/s]",
      "application/vnd.jupyter.widget-view+json": {
       "version_major": 2,
       "version_minor": 0,
       "model_id": "1561621d8a8549c6953b8cf7e590c1ce"
      }
     },
     "metadata": {},
     "output_type": "display_data"
    },
    {
     "name": "stdout",
     "output_type": "stream",
     "text": [
      "Downloading and preparing dataset sigir2017/sigir2017_CD002783_bigbio_text to /Users/wojciechkusa/.cache/huggingface/datasets/sigir2017/sigir2017_CD002783_bigbio_text/1.0.0/daf29aab6d84a87e179ad657f8285c8d31895224a59872f0bc0ccd8369637433...\n",
      "PubMed data is already prepared.\n"
     ]
    },
    {
     "data": {
      "text/plain": "Generating train split: 0 examples [00:00, ? examples/s]",
      "application/vnd.jupyter.widget-view+json": {
       "version_major": 2,
       "version_minor": 0,
       "model_id": "816a089e28c346498611b770c8087b22"
      }
     },
     "metadata": {},
     "output_type": "display_data"
    },
    {
     "name": "stdout",
     "output_type": "stream",
     "text": [
      "Dataset sigir2017 downloaded and prepared to /Users/wojciechkusa/.cache/huggingface/datasets/sigir2017/sigir2017_CD002783_bigbio_text/1.0.0/daf29aab6d84a87e179ad657f8285c8d31895224a59872f0bc0ccd8369637433. Subsequent calls will reuse this data.\n"
     ]
    },
    {
     "data": {
      "text/plain": "  0%|          | 0/1 [00:00<?, ?it/s]",
      "application/vnd.jupyter.widget-view+json": {
       "version_major": 2,
       "version_minor": 0,
       "model_id": "fdd5dbdc0d844d42b98c03cae1e44182"
      }
     },
     "metadata": {},
     "output_type": "display_data"
    },
    {
     "name": "stdout",
     "output_type": "stream",
     "text": [
      "Downloading and preparing dataset sigir2017/sigir2017_CD007037_bigbio_text to /Users/wojciechkusa/.cache/huggingface/datasets/sigir2017/sigir2017_CD007037_bigbio_text/1.0.0/daf29aab6d84a87e179ad657f8285c8d31895224a59872f0bc0ccd8369637433...\n",
      "PubMed data is already prepared.\n"
     ]
    },
    {
     "data": {
      "text/plain": "Generating train split: 0 examples [00:00, ? examples/s]",
      "application/vnd.jupyter.widget-view+json": {
       "version_major": 2,
       "version_minor": 0,
       "model_id": "ccf670031b254dd7a655c86665fdedd3"
      }
     },
     "metadata": {},
     "output_type": "display_data"
    },
    {
     "name": "stdout",
     "output_type": "stream",
     "text": [
      "Dataset sigir2017 downloaded and prepared to /Users/wojciechkusa/.cache/huggingface/datasets/sigir2017/sigir2017_CD007037_bigbio_text/1.0.0/daf29aab6d84a87e179ad657f8285c8d31895224a59872f0bc0ccd8369637433. Subsequent calls will reuse this data.\n"
     ]
    },
    {
     "data": {
      "text/plain": "  0%|          | 0/1 [00:00<?, ?it/s]",
      "application/vnd.jupyter.widget-view+json": {
       "version_major": 2,
       "version_minor": 0,
       "model_id": "ad2571c5012441348c9608ceba01a7eb"
      }
     },
     "metadata": {},
     "output_type": "display_data"
    },
    {
     "name": "stdout",
     "output_type": "stream",
     "text": [
      "Downloading and preparing dataset sigir2017/sigir2017_CD008881_bigbio_text to /Users/wojciechkusa/.cache/huggingface/datasets/sigir2017/sigir2017_CD008881_bigbio_text/1.0.0/daf29aab6d84a87e179ad657f8285c8d31895224a59872f0bc0ccd8369637433...\n",
      "PubMed data is already prepared.\n"
     ]
    },
    {
     "data": {
      "text/plain": "Generating train split: 0 examples [00:00, ? examples/s]",
      "application/vnd.jupyter.widget-view+json": {
       "version_major": 2,
       "version_minor": 0,
       "model_id": "799375b157f84d81a0ca9514651b1a3a"
      }
     },
     "metadata": {},
     "output_type": "display_data"
    },
    {
     "name": "stdout",
     "output_type": "stream",
     "text": [
      "Dataset sigir2017 downloaded and prepared to /Users/wojciechkusa/.cache/huggingface/datasets/sigir2017/sigir2017_CD008881_bigbio_text/1.0.0/daf29aab6d84a87e179ad657f8285c8d31895224a59872f0bc0ccd8369637433. Subsequent calls will reuse this data.\n"
     ]
    },
    {
     "data": {
      "text/plain": "  0%|          | 0/1 [00:00<?, ?it/s]",
      "application/vnd.jupyter.widget-view+json": {
       "version_major": 2,
       "version_minor": 0,
       "model_id": "280e5b49f7f544d09a20dcfb01b083d2"
      }
     },
     "metadata": {},
     "output_type": "display_data"
    },
    {
     "name": "stdout",
     "output_type": "stream",
     "text": [
      "Downloading and preparing dataset sigir2017/sigir2017_CD006127_bigbio_text to /Users/wojciechkusa/.cache/huggingface/datasets/sigir2017/sigir2017_CD006127_bigbio_text/1.0.0/daf29aab6d84a87e179ad657f8285c8d31895224a59872f0bc0ccd8369637433...\n",
      "PubMed data is already prepared.\n"
     ]
    },
    {
     "data": {
      "text/plain": "Generating train split: 0 examples [00:00, ? examples/s]",
      "application/vnd.jupyter.widget-view+json": {
       "version_major": 2,
       "version_minor": 0,
       "model_id": "66bfeca50e454624928fa11f57088831"
      }
     },
     "metadata": {},
     "output_type": "display_data"
    },
    {
     "name": "stdout",
     "output_type": "stream",
     "text": [
      "Dataset sigir2017 downloaded and prepared to /Users/wojciechkusa/.cache/huggingface/datasets/sigir2017/sigir2017_CD006127_bigbio_text/1.0.0/daf29aab6d84a87e179ad657f8285c8d31895224a59872f0bc0ccd8369637433. Subsequent calls will reuse this data.\n"
     ]
    },
    {
     "data": {
      "text/plain": "  0%|          | 0/1 [00:00<?, ?it/s]",
      "application/vnd.jupyter.widget-view+json": {
       "version_major": 2,
       "version_minor": 0,
       "model_id": "106a4e0221304436a49fc207445e4acf"
      }
     },
     "metadata": {},
     "output_type": "display_data"
    },
    {
     "name": "stdout",
     "output_type": "stream",
     "text": [
      "Downloading and preparing dataset sigir2017/sigir2017_CD011732_bigbio_text to /Users/wojciechkusa/.cache/huggingface/datasets/sigir2017/sigir2017_CD011732_bigbio_text/1.0.0/daf29aab6d84a87e179ad657f8285c8d31895224a59872f0bc0ccd8369637433...\n",
      "PubMed data is already prepared.\n"
     ]
    },
    {
     "data": {
      "text/plain": "Generating train split: 0 examples [00:00, ? examples/s]",
      "application/vnd.jupyter.widget-view+json": {
       "version_major": 2,
       "version_minor": 0,
       "model_id": "1605378e30504d3fa5a2afc58d00c7ad"
      }
     },
     "metadata": {},
     "output_type": "display_data"
    },
    {
     "name": "stdout",
     "output_type": "stream",
     "text": [
      "Dataset sigir2017 downloaded and prepared to /Users/wojciechkusa/.cache/huggingface/datasets/sigir2017/sigir2017_CD011732_bigbio_text/1.0.0/daf29aab6d84a87e179ad657f8285c8d31895224a59872f0bc0ccd8369637433. Subsequent calls will reuse this data.\n"
     ]
    },
    {
     "data": {
      "text/plain": "  0%|          | 0/1 [00:00<?, ?it/s]",
      "application/vnd.jupyter.widget-view+json": {
       "version_major": 2,
       "version_minor": 0,
       "model_id": "e64b8efc4b6543409eaf006fa4e58cf6"
      }
     },
     "metadata": {},
     "output_type": "display_data"
    },
    {
     "name": "stdout",
     "output_type": "stream",
     "text": [
      "Downloading and preparing dataset sigir2017/sigir2017_CD002117_bigbio_text to /Users/wojciechkusa/.cache/huggingface/datasets/sigir2017/sigir2017_CD002117_bigbio_text/1.0.0/daf29aab6d84a87e179ad657f8285c8d31895224a59872f0bc0ccd8369637433...\n",
      "PubMed data is already prepared.\n"
     ]
    },
    {
     "data": {
      "text/plain": "Generating train split: 0 examples [00:00, ? examples/s]",
      "application/vnd.jupyter.widget-view+json": {
       "version_major": 2,
       "version_minor": 0,
       "model_id": "cec5fc056d4a43eaa950982462e382c4"
      }
     },
     "metadata": {},
     "output_type": "display_data"
    },
    {
     "name": "stdout",
     "output_type": "stream",
     "text": [
      "Dataset sigir2017 downloaded and prepared to /Users/wojciechkusa/.cache/huggingface/datasets/sigir2017/sigir2017_CD002117_bigbio_text/1.0.0/daf29aab6d84a87e179ad657f8285c8d31895224a59872f0bc0ccd8369637433. Subsequent calls will reuse this data.\n"
     ]
    },
    {
     "data": {
      "text/plain": "  0%|          | 0/1 [00:00<?, ?it/s]",
      "application/vnd.jupyter.widget-view+json": {
       "version_major": 2,
       "version_minor": 0,
       "model_id": "17b8a4f9472f40399a988909c825e07c"
      }
     },
     "metadata": {},
     "output_type": "display_data"
    },
    {
     "name": "stdout",
     "output_type": "stream",
     "text": [
      "Downloading and preparing dataset sigir2017/sigir2017_CD009593_bigbio_text to /Users/wojciechkusa/.cache/huggingface/datasets/sigir2017/sigir2017_CD009593_bigbio_text/1.0.0/daf29aab6d84a87e179ad657f8285c8d31895224a59872f0bc0ccd8369637433...\n",
      "PubMed data is already prepared.\n"
     ]
    },
    {
     "data": {
      "text/plain": "Generating train split: 0 examples [00:00, ? examples/s]",
      "application/vnd.jupyter.widget-view+json": {
       "version_major": 2,
       "version_minor": 0,
       "model_id": "1ce0aaf329c24aaebb75d4aab0786153"
      }
     },
     "metadata": {},
     "output_type": "display_data"
    },
    {
     "name": "stdout",
     "output_type": "stream",
     "text": [
      "Dataset sigir2017 downloaded and prepared to /Users/wojciechkusa/.cache/huggingface/datasets/sigir2017/sigir2017_CD009593_bigbio_text/1.0.0/daf29aab6d84a87e179ad657f8285c8d31895224a59872f0bc0ccd8369637433. Subsequent calls will reuse this data.\n"
     ]
    },
    {
     "data": {
      "text/plain": "  0%|          | 0/1 [00:00<?, ?it/s]",
      "application/vnd.jupyter.widget-view+json": {
       "version_major": 2,
       "version_minor": 0,
       "model_id": "0b86da345f0e47dc9ed443f43a1ec6c5"
      }
     },
     "metadata": {},
     "output_type": "display_data"
    },
    {
     "name": "stdout",
     "output_type": "stream",
     "text": [
      "Downloading and preparing dataset sigir2017/sigir2017_CD000284_bigbio_text to /Users/wojciechkusa/.cache/huggingface/datasets/sigir2017/sigir2017_CD000284_bigbio_text/1.0.0/daf29aab6d84a87e179ad657f8285c8d31895224a59872f0bc0ccd8369637433...\n",
      "PubMed data is already prepared.\n"
     ]
    },
    {
     "data": {
      "text/plain": "Generating train split: 0 examples [00:00, ? examples/s]",
      "application/vnd.jupyter.widget-view+json": {
       "version_major": 2,
       "version_minor": 0,
       "model_id": "bf54f7333e99409c8fc0637de162a619"
      }
     },
     "metadata": {},
     "output_type": "display_data"
    },
    {
     "name": "stdout",
     "output_type": "stream",
     "text": [
      "Dataset sigir2017 downloaded and prepared to /Users/wojciechkusa/.cache/huggingface/datasets/sigir2017/sigir2017_CD000284_bigbio_text/1.0.0/daf29aab6d84a87e179ad657f8285c8d31895224a59872f0bc0ccd8369637433. Subsequent calls will reuse this data.\n"
     ]
    },
    {
     "data": {
      "text/plain": "  0%|          | 0/1 [00:00<?, ?it/s]",
      "application/vnd.jupyter.widget-view+json": {
       "version_major": 2,
       "version_minor": 0,
       "model_id": "9bed58e2d57342c8809132c1b327f5e0"
      }
     },
     "metadata": {},
     "output_type": "display_data"
    },
    {
     "name": "stdout",
     "output_type": "stream",
     "text": [
      "Downloading and preparing dataset sigir2017/sigir2017_CD010685_bigbio_text to /Users/wojciechkusa/.cache/huggingface/datasets/sigir2017/sigir2017_CD010685_bigbio_text/1.0.0/daf29aab6d84a87e179ad657f8285c8d31895224a59872f0bc0ccd8369637433...\n",
      "PubMed data is already prepared.\n"
     ]
    },
    {
     "data": {
      "text/plain": "Generating train split: 0 examples [00:00, ? examples/s]",
      "application/vnd.jupyter.widget-view+json": {
       "version_major": 2,
       "version_minor": 0,
       "model_id": "d52410f456fd4238be42982239ce4a1e"
      }
     },
     "metadata": {},
     "output_type": "display_data"
    },
    {
     "name": "stdout",
     "output_type": "stream",
     "text": [
      "Dataset sigir2017 downloaded and prepared to /Users/wojciechkusa/.cache/huggingface/datasets/sigir2017/sigir2017_CD010685_bigbio_text/1.0.0/daf29aab6d84a87e179ad657f8285c8d31895224a59872f0bc0ccd8369637433. Subsequent calls will reuse this data.\n"
     ]
    },
    {
     "data": {
      "text/plain": "  0%|          | 0/1 [00:00<?, ?it/s]",
      "application/vnd.jupyter.widget-view+json": {
       "version_major": 2,
       "version_minor": 0,
       "model_id": "8528dd74700e413fb4a6d08250bdb976"
      }
     },
     "metadata": {},
     "output_type": "display_data"
    },
    {
     "name": "stdout",
     "output_type": "stream",
     "text": [
      "Downloading and preparing dataset sigir2017/sigir2017_CD003266_bigbio_text to /Users/wojciechkusa/.cache/huggingface/datasets/sigir2017/sigir2017_CD003266_bigbio_text/1.0.0/daf29aab6d84a87e179ad657f8285c8d31895224a59872f0bc0ccd8369637433...\n",
      "PubMed data is already prepared.\n"
     ]
    },
    {
     "data": {
      "text/plain": "Generating train split: 0 examples [00:00, ? examples/s]",
      "application/vnd.jupyter.widget-view+json": {
       "version_major": 2,
       "version_minor": 0,
       "model_id": "9a53362ce50a4a24929d8467ec5a740c"
      }
     },
     "metadata": {},
     "output_type": "display_data"
    },
    {
     "name": "stdout",
     "output_type": "stream",
     "text": [
      "Dataset sigir2017 downloaded and prepared to /Users/wojciechkusa/.cache/huggingface/datasets/sigir2017/sigir2017_CD003266_bigbio_text/1.0.0/daf29aab6d84a87e179ad657f8285c8d31895224a59872f0bc0ccd8369637433. Subsequent calls will reuse this data.\n"
     ]
    },
    {
     "data": {
      "text/plain": "  0%|          | 0/1 [00:00<?, ?it/s]",
      "application/vnd.jupyter.widget-view+json": {
       "version_major": 2,
       "version_minor": 0,
       "model_id": "3a55e518a4e242f797bc25b8ec071764"
      }
     },
     "metadata": {},
     "output_type": "display_data"
    },
    {
     "name": "stdout",
     "output_type": "stream",
     "text": [
      "Downloading and preparing dataset sigir2017/sigir2017_CD008265_bigbio_text to /Users/wojciechkusa/.cache/huggingface/datasets/sigir2017/sigir2017_CD008265_bigbio_text/1.0.0/daf29aab6d84a87e179ad657f8285c8d31895224a59872f0bc0ccd8369637433...\n",
      "PubMed data is already prepared.\n"
     ]
    },
    {
     "data": {
      "text/plain": "Generating train split: 0 examples [00:00, ? examples/s]",
      "application/vnd.jupyter.widget-view+json": {
       "version_major": 2,
       "version_minor": 0,
       "model_id": "fe6bdde5f92d48ada7b03b0a5a0c6524"
      }
     },
     "metadata": {},
     "output_type": "display_data"
    },
    {
     "name": "stdout",
     "output_type": "stream",
     "text": [
      "Dataset sigir2017 downloaded and prepared to /Users/wojciechkusa/.cache/huggingface/datasets/sigir2017/sigir2017_CD008265_bigbio_text/1.0.0/daf29aab6d84a87e179ad657f8285c8d31895224a59872f0bc0ccd8369637433. Subsequent calls will reuse this data.\n"
     ]
    },
    {
     "data": {
      "text/plain": "  0%|          | 0/1 [00:00<?, ?it/s]",
      "application/vnd.jupyter.widget-view+json": {
       "version_major": 2,
       "version_minor": 0,
       "model_id": "3243756ced6a42aba4c62787f41ecd94"
      }
     },
     "metadata": {},
     "output_type": "display_data"
    },
    {
     "name": "stdout",
     "output_type": "stream",
     "text": [
      "Downloading and preparing dataset sigir2017/sigir2017_CD010632_bigbio_text to /Users/wojciechkusa/.cache/huggingface/datasets/sigir2017/sigir2017_CD010632_bigbio_text/1.0.0/daf29aab6d84a87e179ad657f8285c8d31895224a59872f0bc0ccd8369637433...\n",
      "PubMed data is already prepared.\n"
     ]
    },
    {
     "data": {
      "text/plain": "Generating train split: 0 examples [00:00, ? examples/s]",
      "application/vnd.jupyter.widget-view+json": {
       "version_major": 2,
       "version_minor": 0,
       "model_id": "65ce685dd2034630a5056dc3ff8972b6"
      }
     },
     "metadata": {},
     "output_type": "display_data"
    },
    {
     "name": "stdout",
     "output_type": "stream",
     "text": [
      "Dataset sigir2017 downloaded and prepared to /Users/wojciechkusa/.cache/huggingface/datasets/sigir2017/sigir2017_CD010632_bigbio_text/1.0.0/daf29aab6d84a87e179ad657f8285c8d31895224a59872f0bc0ccd8369637433. Subsequent calls will reuse this data.\n"
     ]
    },
    {
     "data": {
      "text/plain": "  0%|          | 0/1 [00:00<?, ?it/s]",
      "application/vnd.jupyter.widget-view+json": {
       "version_major": 2,
       "version_minor": 0,
       "model_id": "f7661514437942278e1d893f0c138735"
      }
     },
     "metadata": {},
     "output_type": "display_data"
    },
    {
     "name": "stdout",
     "output_type": "stream",
     "text": [
      "Downloading and preparing dataset sigir2017/sigir2017_CD010269_bigbio_text to /Users/wojciechkusa/.cache/huggingface/datasets/sigir2017/sigir2017_CD010269_bigbio_text/1.0.0/daf29aab6d84a87e179ad657f8285c8d31895224a59872f0bc0ccd8369637433...\n",
      "PubMed data is already prepared.\n"
     ]
    },
    {
     "data": {
      "text/plain": "Generating train split: 0 examples [00:00, ? examples/s]",
      "application/vnd.jupyter.widget-view+json": {
       "version_major": 2,
       "version_minor": 0,
       "model_id": "21b6a3031f5e483ca11230f0d6c44f3a"
      }
     },
     "metadata": {},
     "output_type": "display_data"
    },
    {
     "name": "stdout",
     "output_type": "stream",
     "text": [
      "Dataset sigir2017 downloaded and prepared to /Users/wojciechkusa/.cache/huggingface/datasets/sigir2017/sigir2017_CD010269_bigbio_text/1.0.0/daf29aab6d84a87e179ad657f8285c8d31895224a59872f0bc0ccd8369637433. Subsequent calls will reuse this data.\n"
     ]
    },
    {
     "data": {
      "text/plain": "  0%|          | 0/1 [00:00<?, ?it/s]",
      "application/vnd.jupyter.widget-view+json": {
       "version_major": 2,
       "version_minor": 0,
       "model_id": "7b49f518fde14941a12cc3e1da934604"
      }
     },
     "metadata": {},
     "output_type": "display_data"
    },
    {
     "name": "stdout",
     "output_type": "stream",
     "text": [
      "Downloading and preparing dataset sigir2017/sigir2017_CD004250_bigbio_text to /Users/wojciechkusa/.cache/huggingface/datasets/sigir2017/sigir2017_CD004250_bigbio_text/1.0.0/daf29aab6d84a87e179ad657f8285c8d31895224a59872f0bc0ccd8369637433...\n",
      "PubMed data is already prepared.\n"
     ]
    },
    {
     "data": {
      "text/plain": "Generating train split: 0 examples [00:00, ? examples/s]",
      "application/vnd.jupyter.widget-view+json": {
       "version_major": 2,
       "version_minor": 0,
       "model_id": "36d61482b76e4b56881d83cb2727f624"
      }
     },
     "metadata": {},
     "output_type": "display_data"
    },
    {
     "name": "stdout",
     "output_type": "stream",
     "text": [
      "Dataset sigir2017 downloaded and prepared to /Users/wojciechkusa/.cache/huggingface/datasets/sigir2017/sigir2017_CD004250_bigbio_text/1.0.0/daf29aab6d84a87e179ad657f8285c8d31895224a59872f0bc0ccd8369637433. Subsequent calls will reuse this data.\n"
     ]
    },
    {
     "data": {
      "text/plain": "  0%|          | 0/1 [00:00<?, ?it/s]",
      "application/vnd.jupyter.widget-view+json": {
       "version_major": 2,
       "version_minor": 0,
       "model_id": "9be18c057d1c4e05a3bd499ca6071989"
      }
     },
     "metadata": {},
     "output_type": "display_data"
    },
    {
     "name": "stdout",
     "output_type": "stream",
     "text": [
      "Downloading and preparing dataset sigir2017/sigir2017_CD009780_bigbio_text to /Users/wojciechkusa/.cache/huggingface/datasets/sigir2017/sigir2017_CD009780_bigbio_text/1.0.0/daf29aab6d84a87e179ad657f8285c8d31895224a59872f0bc0ccd8369637433...\n",
      "PubMed data is already prepared.\n"
     ]
    },
    {
     "data": {
      "text/plain": "Generating train split: 0 examples [00:00, ? examples/s]",
      "application/vnd.jupyter.widget-view+json": {
       "version_major": 2,
       "version_minor": 0,
       "model_id": "3cbcf2277dcc4e39a15016e075fc4a53"
      }
     },
     "metadata": {},
     "output_type": "display_data"
    },
    {
     "name": "stdout",
     "output_type": "stream",
     "text": [
      "Dataset sigir2017 downloaded and prepared to /Users/wojciechkusa/.cache/huggingface/datasets/sigir2017/sigir2017_CD009780_bigbio_text/1.0.0/daf29aab6d84a87e179ad657f8285c8d31895224a59872f0bc0ccd8369637433. Subsequent calls will reuse this data.\n"
     ]
    },
    {
     "data": {
      "text/plain": "  0%|          | 0/1 [00:00<?, ?it/s]",
      "application/vnd.jupyter.widget-view+json": {
       "version_major": 2,
       "version_minor": 0,
       "model_id": "a7ceb587dcfa4512987c30b456d910be"
      }
     },
     "metadata": {},
     "output_type": "display_data"
    },
    {
     "name": "stdout",
     "output_type": "stream",
     "text": [
      "Downloading and preparing dataset sigir2017/sigir2017_CD005340_bigbio_text to /Users/wojciechkusa/.cache/huggingface/datasets/sigir2017/sigir2017_CD005340_bigbio_text/1.0.0/daf29aab6d84a87e179ad657f8285c8d31895224a59872f0bc0ccd8369637433...\n",
      "PubMed data is already prepared.\n"
     ]
    },
    {
     "data": {
      "text/plain": "Generating train split: 0 examples [00:00, ? examples/s]",
      "application/vnd.jupyter.widget-view+json": {
       "version_major": 2,
       "version_minor": 0,
       "model_id": "e575c7d244794238a13c2b746bf9b02b"
      }
     },
     "metadata": {},
     "output_type": "display_data"
    },
    {
     "name": "stdout",
     "output_type": "stream",
     "text": [
      "Dataset sigir2017 downloaded and prepared to /Users/wojciechkusa/.cache/huggingface/datasets/sigir2017/sigir2017_CD005340_bigbio_text/1.0.0/daf29aab6d84a87e179ad657f8285c8d31895224a59872f0bc0ccd8369637433. Subsequent calls will reuse this data.\n"
     ]
    },
    {
     "data": {
      "text/plain": "  0%|          | 0/1 [00:00<?, ?it/s]",
      "application/vnd.jupyter.widget-view+json": {
       "version_major": 2,
       "version_minor": 0,
       "model_id": "97f1a4ac92434e8ebac28841d7c55cdc"
      }
     },
     "metadata": {},
     "output_type": "display_data"
    },
    {
     "name": "stdout",
     "output_type": "stream",
     "text": [
      "Downloading and preparing dataset sigir2017/sigir2017_CD008807_bigbio_text to /Users/wojciechkusa/.cache/huggingface/datasets/sigir2017/sigir2017_CD008807_bigbio_text/1.0.0/daf29aab6d84a87e179ad657f8285c8d31895224a59872f0bc0ccd8369637433...\n",
      "PubMed data is already prepared.\n"
     ]
    },
    {
     "data": {
      "text/plain": "Generating train split: 0 examples [00:00, ? examples/s]",
      "application/vnd.jupyter.widget-view+json": {
       "version_major": 2,
       "version_minor": 0,
       "model_id": "3344304c9676416da6984cdc8e7eda14"
      }
     },
     "metadata": {},
     "output_type": "display_data"
    },
    {
     "name": "stdout",
     "output_type": "stream",
     "text": [
      "Dataset sigir2017 downloaded and prepared to /Users/wojciechkusa/.cache/huggingface/datasets/sigir2017/sigir2017_CD008807_bigbio_text/1.0.0/daf29aab6d84a87e179ad657f8285c8d31895224a59872f0bc0ccd8369637433. Subsequent calls will reuse this data.\n"
     ]
    },
    {
     "data": {
      "text/plain": "  0%|          | 0/1 [00:00<?, ?it/s]",
      "application/vnd.jupyter.widget-view+json": {
       "version_major": 2,
       "version_minor": 0,
       "model_id": "ff7246972a834f3bbad78710d2904ae0"
      }
     },
     "metadata": {},
     "output_type": "display_data"
    },
    {
     "name": "stdout",
     "output_type": "stream",
     "text": [
      "Downloading and preparing dataset sigir2017/sigir2017_CD004054_bigbio_text to /Users/wojciechkusa/.cache/huggingface/datasets/sigir2017/sigir2017_CD004054_bigbio_text/1.0.0/daf29aab6d84a87e179ad657f8285c8d31895224a59872f0bc0ccd8369637433...\n",
      "PubMed data is already prepared.\n"
     ]
    },
    {
     "data": {
      "text/plain": "Generating train split: 0 examples [00:00, ? examples/s]",
      "application/vnd.jupyter.widget-view+json": {
       "version_major": 2,
       "version_minor": 0,
       "model_id": "7505481d51c743d4995e54494a556254"
      }
     },
     "metadata": {},
     "output_type": "display_data"
    },
    {
     "name": "stdout",
     "output_type": "stream",
     "text": [
      "Dataset sigir2017 downloaded and prepared to /Users/wojciechkusa/.cache/huggingface/datasets/sigir2017/sigir2017_CD004054_bigbio_text/1.0.0/daf29aab6d84a87e179ad657f8285c8d31895224a59872f0bc0ccd8369637433. Subsequent calls will reuse this data.\n"
     ]
    },
    {
     "data": {
      "text/plain": "  0%|          | 0/1 [00:00<?, ?it/s]",
      "application/vnd.jupyter.widget-view+json": {
       "version_major": 2,
       "version_minor": 0,
       "model_id": "ee4e53d2ea414130bb2a697c15cded96"
      }
     },
     "metadata": {},
     "output_type": "display_data"
    },
    {
     "name": "stdout",
     "output_type": "stream",
     "text": [
      "Downloading and preparing dataset sigir2017/sigir2017_CD009125_bigbio_text to /Users/wojciechkusa/.cache/huggingface/datasets/sigir2017/sigir2017_CD009125_bigbio_text/1.0.0/daf29aab6d84a87e179ad657f8285c8d31895224a59872f0bc0ccd8369637433...\n",
      "PubMed data is already prepared.\n"
     ]
    },
    {
     "data": {
      "text/plain": "Generating train split: 0 examples [00:00, ? examples/s]",
      "application/vnd.jupyter.widget-view+json": {
       "version_major": 2,
       "version_minor": 0,
       "model_id": "e3cb21d988a343a1851b852ca1602de8"
      }
     },
     "metadata": {},
     "output_type": "display_data"
    },
    {
     "name": "stdout",
     "output_type": "stream",
     "text": [
      "Dataset sigir2017 downloaded and prepared to /Users/wojciechkusa/.cache/huggingface/datasets/sigir2017/sigir2017_CD009125_bigbio_text/1.0.0/daf29aab6d84a87e179ad657f8285c8d31895224a59872f0bc0ccd8369637433. Subsequent calls will reuse this data.\n"
     ]
    },
    {
     "data": {
      "text/plain": "  0%|          | 0/1 [00:00<?, ?it/s]",
      "application/vnd.jupyter.widget-view+json": {
       "version_major": 2,
       "version_minor": 0,
       "model_id": "46d99ea31eef432981b6bd01f3148a47"
      }
     },
     "metadata": {},
     "output_type": "display_data"
    },
    {
     "name": "stdout",
     "output_type": "stream",
     "text": [
      "Downloading and preparing dataset sigir2017/sigir2017_CD011724_bigbio_text to /Users/wojciechkusa/.cache/huggingface/datasets/sigir2017/sigir2017_CD011724_bigbio_text/1.0.0/daf29aab6d84a87e179ad657f8285c8d31895224a59872f0bc0ccd8369637433...\n",
      "PubMed data is already prepared.\n"
     ]
    },
    {
     "data": {
      "text/plain": "Generating train split: 0 examples [00:00, ? examples/s]",
      "application/vnd.jupyter.widget-view+json": {
       "version_major": 2,
       "version_minor": 0,
       "model_id": "6339288cfabe48c7b7ed28a8a7a7f86b"
      }
     },
     "metadata": {},
     "output_type": "display_data"
    },
    {
     "name": "stdout",
     "output_type": "stream",
     "text": [
      "Dataset sigir2017 downloaded and prepared to /Users/wojciechkusa/.cache/huggingface/datasets/sigir2017/sigir2017_CD011724_bigbio_text/1.0.0/daf29aab6d84a87e179ad657f8285c8d31895224a59872f0bc0ccd8369637433. Subsequent calls will reuse this data.\n"
     ]
    },
    {
     "data": {
      "text/plain": "  0%|          | 0/1 [00:00<?, ?it/s]",
      "application/vnd.jupyter.widget-view+json": {
       "version_major": 2,
       "version_minor": 0,
       "model_id": "8ad331898ba749e09846a8659eda4e68"
      }
     },
     "metadata": {},
     "output_type": "display_data"
    },
    {
     "name": "stdout",
     "output_type": "stream",
     "text": [
      "Downloading and preparing dataset sigir2017/sigir2017_CD010266_bigbio_text to /Users/wojciechkusa/.cache/huggingface/datasets/sigir2017/sigir2017_CD010266_bigbio_text/1.0.0/daf29aab6d84a87e179ad657f8285c8d31895224a59872f0bc0ccd8369637433...\n",
      "PubMed data is already prepared.\n"
     ]
    },
    {
     "data": {
      "text/plain": "Generating train split: 0 examples [00:00, ? examples/s]",
      "application/vnd.jupyter.widget-view+json": {
       "version_major": 2,
       "version_minor": 0,
       "model_id": "fe9623bb240e41e4a174179aaa0f85cb"
      }
     },
     "metadata": {},
     "output_type": "display_data"
    },
    {
     "name": "stdout",
     "output_type": "stream",
     "text": [
      "Dataset sigir2017 downloaded and prepared to /Users/wojciechkusa/.cache/huggingface/datasets/sigir2017/sigir2017_CD010266_bigbio_text/1.0.0/daf29aab6d84a87e179ad657f8285c8d31895224a59872f0bc0ccd8369637433. Subsequent calls will reuse this data.\n"
     ]
    },
    {
     "data": {
      "text/plain": "  0%|          | 0/1 [00:00<?, ?it/s]",
      "application/vnd.jupyter.widget-view+json": {
       "version_major": 2,
       "version_minor": 0,
       "model_id": "ed4fa386a9f749b9b745a1855051a892"
      }
     },
     "metadata": {},
     "output_type": "display_data"
    },
    {
     "name": "stdout",
     "output_type": "stream",
     "text": [
      "Downloading and preparing dataset sigir2017/sigir2017_CD007028_bigbio_text to /Users/wojciechkusa/.cache/huggingface/datasets/sigir2017/sigir2017_CD007028_bigbio_text/1.0.0/daf29aab6d84a87e179ad657f8285c8d31895224a59872f0bc0ccd8369637433...\n",
      "PubMed data is already prepared.\n"
     ]
    },
    {
     "data": {
      "text/plain": "Generating train split: 0 examples [00:00, ? examples/s]",
      "application/vnd.jupyter.widget-view+json": {
       "version_major": 2,
       "version_minor": 0,
       "model_id": "94a6bccc867b435b98bfb7f49bf88345"
      }
     },
     "metadata": {},
     "output_type": "display_data"
    },
    {
     "name": "stdout",
     "output_type": "stream",
     "text": [
      "Dataset sigir2017 downloaded and prepared to /Users/wojciechkusa/.cache/huggingface/datasets/sigir2017/sigir2017_CD007028_bigbio_text/1.0.0/daf29aab6d84a87e179ad657f8285c8d31895224a59872f0bc0ccd8369637433. Subsequent calls will reuse this data.\n"
     ]
    },
    {
     "data": {
      "text/plain": "  0%|          | 0/1 [00:00<?, ?it/s]",
      "application/vnd.jupyter.widget-view+json": {
       "version_major": 2,
       "version_minor": 0,
       "model_id": "8d896fc0293d43d9964e5e6466787aa2"
      }
     },
     "metadata": {},
     "output_type": "display_data"
    },
    {
     "name": "stdout",
     "output_type": "stream",
     "text": [
      "Downloading and preparing dataset sigir2017/sigir2017_CD000031_bigbio_text to /Users/wojciechkusa/.cache/huggingface/datasets/sigir2017/sigir2017_CD000031_bigbio_text/1.0.0/daf29aab6d84a87e179ad657f8285c8d31895224a59872f0bc0ccd8369637433...\n",
      "PubMed data is already prepared.\n"
     ]
    },
    {
     "data": {
      "text/plain": "Generating train split: 0 examples [00:00, ? examples/s]",
      "application/vnd.jupyter.widget-view+json": {
       "version_major": 2,
       "version_minor": 0,
       "model_id": "0dab9b96a07b4e19b6a943d7265de98b"
      }
     },
     "metadata": {},
     "output_type": "display_data"
    },
    {
     "name": "stdout",
     "output_type": "stream",
     "text": [
      "Dataset sigir2017 downloaded and prepared to /Users/wojciechkusa/.cache/huggingface/datasets/sigir2017/sigir2017_CD000031_bigbio_text/1.0.0/daf29aab6d84a87e179ad657f8285c8d31895224a59872f0bc0ccd8369637433. Subsequent calls will reuse this data.\n"
     ]
    },
    {
     "data": {
      "text/plain": "  0%|          | 0/1 [00:00<?, ?it/s]",
      "application/vnd.jupyter.widget-view+json": {
       "version_major": 2,
       "version_minor": 0,
       "model_id": "ff9ff846c1544f2daca1b49aa2695fc9"
      }
     },
     "metadata": {},
     "output_type": "display_data"
    },
    {
     "name": "stdout",
     "output_type": "stream",
     "text": [
      "Downloading and preparing dataset sigir2017/sigir2017_CD008435_bigbio_text to /Users/wojciechkusa/.cache/huggingface/datasets/sigir2017/sigir2017_CD008435_bigbio_text/1.0.0/daf29aab6d84a87e179ad657f8285c8d31895224a59872f0bc0ccd8369637433...\n",
      "PubMed data is already prepared.\n"
     ]
    },
    {
     "data": {
      "text/plain": "Generating train split: 0 examples [00:00, ? examples/s]",
      "application/vnd.jupyter.widget-view+json": {
       "version_major": 2,
       "version_minor": 0,
       "model_id": "4233fb7140174a19a5acf80a5d855304"
      }
     },
     "metadata": {},
     "output_type": "display_data"
    },
    {
     "name": "stdout",
     "output_type": "stream",
     "text": [
      "Dataset sigir2017 downloaded and prepared to /Users/wojciechkusa/.cache/huggingface/datasets/sigir2017/sigir2017_CD008435_bigbio_text/1.0.0/daf29aab6d84a87e179ad657f8285c8d31895224a59872f0bc0ccd8369637433. Subsequent calls will reuse this data.\n"
     ]
    },
    {
     "data": {
      "text/plain": "  0%|          | 0/1 [00:00<?, ?it/s]",
      "application/vnd.jupyter.widget-view+json": {
       "version_major": 2,
       "version_minor": 0,
       "model_id": "5395d86e588b477f947ff119027dd257"
      }
     },
     "metadata": {},
     "output_type": "display_data"
    },
    {
     "name": "stdout",
     "output_type": "stream",
     "text": [
      "Downloading and preparing dataset sigir2017/sigir2017_CD008056_bigbio_text to /Users/wojciechkusa/.cache/huggingface/datasets/sigir2017/sigir2017_CD008056_bigbio_text/1.0.0/daf29aab6d84a87e179ad657f8285c8d31895224a59872f0bc0ccd8369637433...\n",
      "PubMed data is already prepared.\n"
     ]
    },
    {
     "data": {
      "text/plain": "Generating train split: 0 examples [00:00, ? examples/s]",
      "application/vnd.jupyter.widget-view+json": {
       "version_major": 2,
       "version_minor": 0,
       "model_id": "3841064c2f854c2f8ac9e3603781bda0"
      }
     },
     "metadata": {},
     "output_type": "display_data"
    },
    {
     "name": "stdout",
     "output_type": "stream",
     "text": [
      "Dataset sigir2017 downloaded and prepared to /Users/wojciechkusa/.cache/huggingface/datasets/sigir2017/sigir2017_CD008056_bigbio_text/1.0.0/daf29aab6d84a87e179ad657f8285c8d31895224a59872f0bc0ccd8369637433. Subsequent calls will reuse this data.\n"
     ]
    },
    {
     "data": {
      "text/plain": "  0%|          | 0/1 [00:00<?, ?it/s]",
      "application/vnd.jupyter.widget-view+json": {
       "version_major": 2,
       "version_minor": 0,
       "model_id": "08620c04532049a5bfc02f7fd8305366"
      }
     },
     "metadata": {},
     "output_type": "display_data"
    },
    {
     "name": "stdout",
     "output_type": "stream",
     "text": [
      "Downloading and preparing dataset sigir2017/sigir2017_CD000009_bigbio_text to /Users/wojciechkusa/.cache/huggingface/datasets/sigir2017/sigir2017_CD000009_bigbio_text/1.0.0/daf29aab6d84a87e179ad657f8285c8d31895224a59872f0bc0ccd8369637433...\n",
      "PubMed data is already prepared.\n"
     ]
    },
    {
     "data": {
      "text/plain": "Generating train split: 0 examples [00:00, ? examples/s]",
      "application/vnd.jupyter.widget-view+json": {
       "version_major": 2,
       "version_minor": 0,
       "model_id": "b034e71434c64febac008057c267af8f"
      }
     },
     "metadata": {},
     "output_type": "display_data"
    },
    {
     "name": "stdout",
     "output_type": "stream",
     "text": [
      "Dataset sigir2017 downloaded and prepared to /Users/wojciechkusa/.cache/huggingface/datasets/sigir2017/sigir2017_CD000009_bigbio_text/1.0.0/daf29aab6d84a87e179ad657f8285c8d31895224a59872f0bc0ccd8369637433. Subsequent calls will reuse this data.\n"
     ]
    },
    {
     "data": {
      "text/plain": "  0%|          | 0/1 [00:00<?, ?it/s]",
      "application/vnd.jupyter.widget-view+json": {
       "version_major": 2,
       "version_minor": 0,
       "model_id": "fbaea582e4264f9ea2c5b16949dcf052"
      }
     },
     "metadata": {},
     "output_type": "display_data"
    },
    {
     "name": "stdout",
     "output_type": "stream",
     "text": [
      "Downloading and preparing dataset sigir2017/sigir2017_CD005346_bigbio_text to /Users/wojciechkusa/.cache/huggingface/datasets/sigir2017/sigir2017_CD005346_bigbio_text/1.0.0/daf29aab6d84a87e179ad657f8285c8d31895224a59872f0bc0ccd8369637433...\n",
      "PubMed data is already prepared.\n"
     ]
    },
    {
     "data": {
      "text/plain": "Generating train split: 0 examples [00:00, ? examples/s]",
      "application/vnd.jupyter.widget-view+json": {
       "version_major": 2,
       "version_minor": 0,
       "model_id": "16e546ae89e44d66b1aa7f6787710efa"
      }
     },
     "metadata": {},
     "output_type": "display_data"
    },
    {
     "name": "stdout",
     "output_type": "stream",
     "text": [
      "Dataset sigir2017 downloaded and prepared to /Users/wojciechkusa/.cache/huggingface/datasets/sigir2017/sigir2017_CD005346_bigbio_text/1.0.0/daf29aab6d84a87e179ad657f8285c8d31895224a59872f0bc0ccd8369637433. Subsequent calls will reuse this data.\n"
     ]
    },
    {
     "data": {
      "text/plain": "  0%|          | 0/1 [00:00<?, ?it/s]",
      "application/vnd.jupyter.widget-view+json": {
       "version_major": 2,
       "version_minor": 0,
       "model_id": "6cbd31f1edb44e13a0278324e2b69878"
      }
     },
     "metadata": {},
     "output_type": "display_data"
    },
    {
     "name": "stdout",
     "output_type": "stream",
     "text": [
      "Downloading and preparing dataset sigir2017/sigir2017_CD010693_bigbio_text to /Users/wojciechkusa/.cache/huggingface/datasets/sigir2017/sigir2017_CD010693_bigbio_text/1.0.0/daf29aab6d84a87e179ad657f8285c8d31895224a59872f0bc0ccd8369637433...\n",
      "PubMed data is already prepared.\n"
     ]
    },
    {
     "data": {
      "text/plain": "Generating train split: 0 examples [00:00, ? examples/s]",
      "application/vnd.jupyter.widget-view+json": {
       "version_major": 2,
       "version_minor": 0,
       "model_id": "1f0b13797d04452da218c53ab0a4050f"
      }
     },
     "metadata": {},
     "output_type": "display_data"
    },
    {
     "name": "stdout",
     "output_type": "stream",
     "text": [
      "Dataset sigir2017 downloaded and prepared to /Users/wojciechkusa/.cache/huggingface/datasets/sigir2017/sigir2017_CD010693_bigbio_text/1.0.0/daf29aab6d84a87e179ad657f8285c8d31895224a59872f0bc0ccd8369637433. Subsequent calls will reuse this data.\n"
     ]
    },
    {
     "data": {
      "text/plain": "  0%|          | 0/1 [00:00<?, ?it/s]",
      "application/vnd.jupyter.widget-view+json": {
       "version_major": 2,
       "version_minor": 0,
       "model_id": "4e552cd50409488f9dacbd47070a4a3b"
      }
     },
     "metadata": {},
     "output_type": "display_data"
    },
    {
     "name": "stdout",
     "output_type": "stream",
     "text": [
      "Downloading and preparing dataset sigir2017/sigir2017_CD006995_bigbio_text to /Users/wojciechkusa/.cache/huggingface/datasets/sigir2017/sigir2017_CD006995_bigbio_text/1.0.0/daf29aab6d84a87e179ad657f8285c8d31895224a59872f0bc0ccd8369637433...\n",
      "PubMed data is already prepared.\n"
     ]
    },
    {
     "data": {
      "text/plain": "Generating train split: 0 examples [00:00, ? examples/s]",
      "application/vnd.jupyter.widget-view+json": {
       "version_major": 2,
       "version_minor": 0,
       "model_id": "a3dc6cedcee7443c83800bd2a753f85c"
      }
     },
     "metadata": {},
     "output_type": "display_data"
    },
    {
     "name": "stdout",
     "output_type": "stream",
     "text": [
      "Dataset sigir2017 downloaded and prepared to /Users/wojciechkusa/.cache/huggingface/datasets/sigir2017/sigir2017_CD006995_bigbio_text/1.0.0/daf29aab6d84a87e179ad657f8285c8d31895224a59872f0bc0ccd8369637433. Subsequent calls will reuse this data.\n"
     ]
    },
    {
     "data": {
      "text/plain": "  0%|          | 0/1 [00:00<?, ?it/s]",
      "application/vnd.jupyter.widget-view+json": {
       "version_major": 2,
       "version_minor": 0,
       "model_id": "1e8b3f07cfa24d9ca75d687bdb25e255"
      }
     },
     "metadata": {},
     "output_type": "display_data"
    },
    {
     "name": "stdout",
     "output_type": "stream",
     "text": [
      "Downloading and preparing dataset sigir2017/sigir2017_CD010235_bigbio_text to /Users/wojciechkusa/.cache/huggingface/datasets/sigir2017/sigir2017_CD010235_bigbio_text/1.0.0/daf29aab6d84a87e179ad657f8285c8d31895224a59872f0bc0ccd8369637433...\n",
      "PubMed data is already prepared.\n"
     ]
    },
    {
     "data": {
      "text/plain": "Generating train split: 0 examples [00:00, ? examples/s]",
      "application/vnd.jupyter.widget-view+json": {
       "version_major": 2,
       "version_minor": 0,
       "model_id": "d504ef26de204d9c8e8000298331abe9"
      }
     },
     "metadata": {},
     "output_type": "display_data"
    },
    {
     "name": "stdout",
     "output_type": "stream",
     "text": [
      "Dataset sigir2017 downloaded and prepared to /Users/wojciechkusa/.cache/huggingface/datasets/sigir2017/sigir2017_CD010235_bigbio_text/1.0.0/daf29aab6d84a87e179ad657f8285c8d31895224a59872f0bc0ccd8369637433. Subsequent calls will reuse this data.\n"
     ]
    },
    {
     "data": {
      "text/plain": "  0%|          | 0/1 [00:00<?, ?it/s]",
      "application/vnd.jupyter.widget-view+json": {
       "version_major": 2,
       "version_minor": 0,
       "model_id": "61e000788bc04210a6a27aee94cc1b74"
      }
     },
     "metadata": {},
     "output_type": "display_data"
    },
    {
     "name": "stdout",
     "output_type": "stream",
     "text": [
      "Downloading and preparing dataset sigir2017/sigir2017_CD007271_bigbio_text to /Users/wojciechkusa/.cache/huggingface/datasets/sigir2017/sigir2017_CD007271_bigbio_text/1.0.0/daf29aab6d84a87e179ad657f8285c8d31895224a59872f0bc0ccd8369637433...\n",
      "PubMed data is already prepared.\n"
     ]
    },
    {
     "data": {
      "text/plain": "Generating train split: 0 examples [00:00, ? examples/s]",
      "application/vnd.jupyter.widget-view+json": {
       "version_major": 2,
       "version_minor": 0,
       "model_id": "c4f76d11e3564f05ad5fc691d2af0bed"
      }
     },
     "metadata": {},
     "output_type": "display_data"
    },
    {
     "name": "stdout",
     "output_type": "stream",
     "text": [
      "Dataset sigir2017 downloaded and prepared to /Users/wojciechkusa/.cache/huggingface/datasets/sigir2017/sigir2017_CD007271_bigbio_text/1.0.0/daf29aab6d84a87e179ad657f8285c8d31895224a59872f0bc0ccd8369637433. Subsequent calls will reuse this data.\n"
     ]
    },
    {
     "data": {
      "text/plain": "  0%|          | 0/1 [00:00<?, ?it/s]",
      "application/vnd.jupyter.widget-view+json": {
       "version_major": 2,
       "version_minor": 0,
       "model_id": "9353059bf9e34e79a29d131b5f55f849"
      }
     },
     "metadata": {},
     "output_type": "display_data"
    },
    {
     "name": "stdout",
     "output_type": "stream",
     "text": [
      "Downloading and preparing dataset sigir2017/sigir2017_CD000313_bigbio_text to /Users/wojciechkusa/.cache/huggingface/datasets/sigir2017/sigir2017_CD000313_bigbio_text/1.0.0/daf29aab6d84a87e179ad657f8285c8d31895224a59872f0bc0ccd8369637433...\n",
      "PubMed data is already prepared.\n"
     ]
    },
    {
     "data": {
      "text/plain": "Generating train split: 0 examples [00:00, ? examples/s]",
      "application/vnd.jupyter.widget-view+json": {
       "version_major": 2,
       "version_minor": 0,
       "model_id": "c8429116fe79460e96ec4f7e24d327af"
      }
     },
     "metadata": {},
     "output_type": "display_data"
    },
    {
     "name": "stdout",
     "output_type": "stream",
     "text": [
      "Dataset sigir2017 downloaded and prepared to /Users/wojciechkusa/.cache/huggingface/datasets/sigir2017/sigir2017_CD000313_bigbio_text/1.0.0/daf29aab6d84a87e179ad657f8285c8d31895224a59872f0bc0ccd8369637433. Subsequent calls will reuse this data.\n"
     ]
    },
    {
     "data": {
      "text/plain": "  0%|          | 0/1 [00:00<?, ?it/s]",
      "application/vnd.jupyter.widget-view+json": {
       "version_major": 2,
       "version_minor": 0,
       "model_id": "cc759a5bcbd040cb9957b82666184c63"
      }
     },
     "metadata": {},
     "output_type": "display_data"
    },
    {
     "name": "stdout",
     "output_type": "stream",
     "text": [
      "Downloading and preparing dataset sigir2017/sigir2017_CD009403_bigbio_text to /Users/wojciechkusa/.cache/huggingface/datasets/sigir2017/sigir2017_CD009403_bigbio_text/1.0.0/daf29aab6d84a87e179ad657f8285c8d31895224a59872f0bc0ccd8369637433...\n",
      "PubMed data is already prepared.\n"
     ]
    },
    {
     "data": {
      "text/plain": "Generating train split: 0 examples [00:00, ? examples/s]",
      "application/vnd.jupyter.widget-view+json": {
       "version_major": 2,
       "version_minor": 0,
       "model_id": "f9ae5085df64444fbfb7bc6d7925b15d"
      }
     },
     "metadata": {},
     "output_type": "display_data"
    },
    {
     "name": "stdout",
     "output_type": "stream",
     "text": [
      "Dataset sigir2017 downloaded and prepared to /Users/wojciechkusa/.cache/huggingface/datasets/sigir2017/sigir2017_CD009403_bigbio_text/1.0.0/daf29aab6d84a87e179ad657f8285c8d31895224a59872f0bc0ccd8369637433. Subsequent calls will reuse this data.\n"
     ]
    },
    {
     "data": {
      "text/plain": "  0%|          | 0/1 [00:00<?, ?it/s]",
      "application/vnd.jupyter.widget-view+json": {
       "version_major": 2,
       "version_minor": 0,
       "model_id": "1e06677810e1454eb2c755105204a026"
      }
     },
     "metadata": {},
     "output_type": "display_data"
    },
    {
     "name": "stdout",
     "output_type": "stream",
     "text": [
      "Downloading and preparing dataset sigir2017/sigir2017_CD008345_bigbio_text to /Users/wojciechkusa/.cache/huggingface/datasets/sigir2017/sigir2017_CD008345_bigbio_text/1.0.0/daf29aab6d84a87e179ad657f8285c8d31895224a59872f0bc0ccd8369637433...\n",
      "PubMed data is already prepared.\n"
     ]
    },
    {
     "data": {
      "text/plain": "Generating train split: 0 examples [00:00, ? examples/s]",
      "application/vnd.jupyter.widget-view+json": {
       "version_major": 2,
       "version_minor": 0,
       "model_id": "92e4e72ed9534916865d1a014075fa2e"
      }
     },
     "metadata": {},
     "output_type": "display_data"
    },
    {
     "name": "stdout",
     "output_type": "stream",
     "text": [
      "Dataset sigir2017 downloaded and prepared to /Users/wojciechkusa/.cache/huggingface/datasets/sigir2017/sigir2017_CD008345_bigbio_text/1.0.0/daf29aab6d84a87e179ad657f8285c8d31895224a59872f0bc0ccd8369637433. Subsequent calls will reuse this data.\n"
     ]
    },
    {
     "data": {
      "text/plain": "  0%|          | 0/1 [00:00<?, ?it/s]",
      "application/vnd.jupyter.widget-view+json": {
       "version_major": 2,
       "version_minor": 0,
       "model_id": "192fa272cc9344fa893f1ede268eb6e9"
      }
     },
     "metadata": {},
     "output_type": "display_data"
    },
    {
     "name": "stdout",
     "output_type": "stream",
     "text": [
      "Downloading and preparing dataset sigir2017/sigir2017_CD003137_bigbio_text to /Users/wojciechkusa/.cache/huggingface/datasets/sigir2017/sigir2017_CD003137_bigbio_text/1.0.0/daf29aab6d84a87e179ad657f8285c8d31895224a59872f0bc0ccd8369637433...\n",
      "PubMed data is already prepared.\n"
     ]
    },
    {
     "data": {
      "text/plain": "Generating train split: 0 examples [00:00, ? examples/s]",
      "application/vnd.jupyter.widget-view+json": {
       "version_major": 2,
       "version_minor": 0,
       "model_id": "8bb4450e2bab4800a9ba4f3c6ed4e411"
      }
     },
     "metadata": {},
     "output_type": "display_data"
    },
    {
     "name": "stdout",
     "output_type": "stream",
     "text": [
      "Dataset sigir2017 downloaded and prepared to /Users/wojciechkusa/.cache/huggingface/datasets/sigir2017/sigir2017_CD003137_bigbio_text/1.0.0/daf29aab6d84a87e179ad657f8285c8d31895224a59872f0bc0ccd8369637433. Subsequent calls will reuse this data.\n"
     ]
    },
    {
     "data": {
      "text/plain": "  0%|          | 0/1 [00:00<?, ?it/s]",
      "application/vnd.jupyter.widget-view+json": {
       "version_major": 2,
       "version_minor": 0,
       "model_id": "2a675f08b2304ccb8a2cc4286220e734"
      }
     },
     "metadata": {},
     "output_type": "display_data"
    },
    {
     "name": "stdout",
     "output_type": "stream",
     "text": [
      "Downloading and preparing dataset sigir2017/sigir2017_CD008170_bigbio_text to /Users/wojciechkusa/.cache/huggingface/datasets/sigir2017/sigir2017_CD008170_bigbio_text/1.0.0/daf29aab6d84a87e179ad657f8285c8d31895224a59872f0bc0ccd8369637433...\n",
      "PubMed data is already prepared.\n"
     ]
    },
    {
     "data": {
      "text/plain": "Generating train split: 0 examples [00:00, ? examples/s]",
      "application/vnd.jupyter.widget-view+json": {
       "version_major": 2,
       "version_minor": 0,
       "model_id": "7819660123474cde85174489ffe68a1a"
      }
     },
     "metadata": {},
     "output_type": "display_data"
    },
    {
     "name": "stdout",
     "output_type": "stream",
     "text": [
      "Dataset sigir2017 downloaded and prepared to /Users/wojciechkusa/.cache/huggingface/datasets/sigir2017/sigir2017_CD008170_bigbio_text/1.0.0/daf29aab6d84a87e179ad657f8285c8d31895224a59872f0bc0ccd8369637433. Subsequent calls will reuse this data.\n"
     ]
    },
    {
     "data": {
      "text/plain": "  0%|          | 0/1 [00:00<?, ?it/s]",
      "application/vnd.jupyter.widget-view+json": {
       "version_major": 2,
       "version_minor": 0,
       "model_id": "31183352120349b5a73430f065f6710e"
      }
     },
     "metadata": {},
     "output_type": "display_data"
    },
    {
     "name": "stdout",
     "output_type": "stream",
     "text": [
      "Downloading and preparing dataset sigir2017/sigir2017_CD002283_bigbio_text to /Users/wojciechkusa/.cache/huggingface/datasets/sigir2017/sigir2017_CD002283_bigbio_text/1.0.0/daf29aab6d84a87e179ad657f8285c8d31895224a59872f0bc0ccd8369637433...\n",
      "PubMed data is already prepared.\n"
     ]
    },
    {
     "data": {
      "text/plain": "Generating train split: 0 examples [00:00, ? examples/s]",
      "application/vnd.jupyter.widget-view+json": {
       "version_major": 2,
       "version_minor": 0,
       "model_id": "60ea77abfa0a44d58875860ae986f6a8"
      }
     },
     "metadata": {},
     "output_type": "display_data"
    },
    {
     "name": "stdout",
     "output_type": "stream",
     "text": [
      "Dataset sigir2017 downloaded and prepared to /Users/wojciechkusa/.cache/huggingface/datasets/sigir2017/sigir2017_CD002283_bigbio_text/1.0.0/daf29aab6d84a87e179ad657f8285c8d31895224a59872f0bc0ccd8369637433. Subsequent calls will reuse this data.\n"
     ]
    },
    {
     "data": {
      "text/plain": "  0%|          | 0/1 [00:00<?, ?it/s]",
      "application/vnd.jupyter.widget-view+json": {
       "version_major": 2,
       "version_minor": 0,
       "model_id": "398911d5496542caaacca9a70f10b97d"
      }
     },
     "metadata": {},
     "output_type": "display_data"
    },
    {
     "name": "stdout",
     "output_type": "stream",
     "text": [
      "Downloading and preparing dataset sigir2017/sigir2017_CD005260_bigbio_text to /Users/wojciechkusa/.cache/huggingface/datasets/sigir2017/sigir2017_CD005260_bigbio_text/1.0.0/daf29aab6d84a87e179ad657f8285c8d31895224a59872f0bc0ccd8369637433...\n",
      "PubMed data is already prepared.\n"
     ]
    },
    {
     "data": {
      "text/plain": "Generating train split: 0 examples [00:00, ? examples/s]",
      "application/vnd.jupyter.widget-view+json": {
       "version_major": 2,
       "version_minor": 0,
       "model_id": "fc8005ce8a9940df9ed3a294e11abfd6"
      }
     },
     "metadata": {},
     "output_type": "display_data"
    },
    {
     "name": "stdout",
     "output_type": "stream",
     "text": [
      "Dataset sigir2017 downloaded and prepared to /Users/wojciechkusa/.cache/huggingface/datasets/sigir2017/sigir2017_CD005260_bigbio_text/1.0.0/daf29aab6d84a87e179ad657f8285c8d31895224a59872f0bc0ccd8369637433. Subsequent calls will reuse this data.\n"
     ]
    },
    {
     "data": {
      "text/plain": "  0%|          | 0/1 [00:00<?, ?it/s]",
      "application/vnd.jupyter.widget-view+json": {
       "version_major": 2,
       "version_minor": 0,
       "model_id": "fd3eec2865264ba39a1f22bbbc7f5655"
      }
     },
     "metadata": {},
     "output_type": "display_data"
    },
    {
     "name": "stdout",
     "output_type": "stream",
     "text": [
      "Downloading and preparing dataset sigir2017/sigir2017_CD006612_bigbio_text to /Users/wojciechkusa/.cache/huggingface/datasets/sigir2017/sigir2017_CD006612_bigbio_text/1.0.0/daf29aab6d84a87e179ad657f8285c8d31895224a59872f0bc0ccd8369637433...\n",
      "PubMed data is already prepared.\n"
     ]
    },
    {
     "data": {
      "text/plain": "Generating train split: 0 examples [00:00, ? examples/s]",
      "application/vnd.jupyter.widget-view+json": {
       "version_major": 2,
       "version_minor": 0,
       "model_id": "4fd4c8b42194439d942c72940c093c59"
      }
     },
     "metadata": {},
     "output_type": "display_data"
    },
    {
     "name": "stdout",
     "output_type": "stream",
     "text": [
      "Dataset sigir2017 downloaded and prepared to /Users/wojciechkusa/.cache/huggingface/datasets/sigir2017/sigir2017_CD006612_bigbio_text/1.0.0/daf29aab6d84a87e179ad657f8285c8d31895224a59872f0bc0ccd8369637433. Subsequent calls will reuse this data.\n"
     ]
    },
    {
     "data": {
      "text/plain": "  0%|          | 0/1 [00:00<?, ?it/s]",
      "application/vnd.jupyter.widget-view+json": {
       "version_major": 2,
       "version_minor": 0,
       "model_id": "df352062473248e0a75fea86121b8f62"
      }
     },
     "metadata": {},
     "output_type": "display_data"
    },
    {
     "name": "stdout",
     "output_type": "stream",
     "text": [
      "Downloading and preparing dataset sigir2017/sigir2017_CD002073_bigbio_text to /Users/wojciechkusa/.cache/huggingface/datasets/sigir2017/sigir2017_CD002073_bigbio_text/1.0.0/daf29aab6d84a87e179ad657f8285c8d31895224a59872f0bc0ccd8369637433...\n",
      "PubMed data is already prepared.\n"
     ]
    },
    {
     "data": {
      "text/plain": "Generating train split: 0 examples [00:00, ? examples/s]",
      "application/vnd.jupyter.widget-view+json": {
       "version_major": 2,
       "version_minor": 0,
       "model_id": "6c6ee5f226ac46cb8cacbed76630a542"
      }
     },
     "metadata": {},
     "output_type": "display_data"
    },
    {
     "name": "stdout",
     "output_type": "stream",
     "text": [
      "Dataset sigir2017 downloaded and prepared to /Users/wojciechkusa/.cache/huggingface/datasets/sigir2017/sigir2017_CD002073_bigbio_text/1.0.0/daf29aab6d84a87e179ad657f8285c8d31895224a59872f0bc0ccd8369637433. Subsequent calls will reuse this data.\n"
     ]
    },
    {
     "data": {
      "text/plain": "  0%|          | 0/1 [00:00<?, ?it/s]",
      "application/vnd.jupyter.widget-view+json": {
       "version_major": 2,
       "version_minor": 0,
       "model_id": "77c27703508148238802c6663152baf5"
      }
     },
     "metadata": {},
     "output_type": "display_data"
    },
    {
     "name": "stdout",
     "output_type": "stream",
     "text": [
      "Downloading and preparing dataset sigir2017/sigir2017_CD008185_bigbio_text to /Users/wojciechkusa/.cache/huggingface/datasets/sigir2017/sigir2017_CD008185_bigbio_text/1.0.0/daf29aab6d84a87e179ad657f8285c8d31895224a59872f0bc0ccd8369637433...\n",
      "PubMed data is already prepared.\n"
     ]
    },
    {
     "data": {
      "text/plain": "Generating train split: 0 examples [00:00, ? examples/s]",
      "application/vnd.jupyter.widget-view+json": {
       "version_major": 2,
       "version_minor": 0,
       "model_id": "8afa068865e74ea682bfcb1e43ab161b"
      }
     },
     "metadata": {},
     "output_type": "display_data"
    },
    {
     "name": "stdout",
     "output_type": "stream",
     "text": [
      "Dataset sigir2017 downloaded and prepared to /Users/wojciechkusa/.cache/huggingface/datasets/sigir2017/sigir2017_CD008185_bigbio_text/1.0.0/daf29aab6d84a87e179ad657f8285c8d31895224a59872f0bc0ccd8369637433. Subsequent calls will reuse this data.\n"
     ]
    },
    {
     "data": {
      "text/plain": "  0%|          | 0/1 [00:00<?, ?it/s]",
      "application/vnd.jupyter.widget-view+json": {
       "version_major": 2,
       "version_minor": 0,
       "model_id": "e92557e6c4844e599009aca5f6457f36"
      }
     },
     "metadata": {},
     "output_type": "display_data"
    },
    {
     "name": "stdout",
     "output_type": "stream",
     "text": [
      "Downloading and preparing dataset sigir2017/sigir2017_CD006678_bigbio_text to /Users/wojciechkusa/.cache/huggingface/datasets/sigir2017/sigir2017_CD006678_bigbio_text/1.0.0/daf29aab6d84a87e179ad657f8285c8d31895224a59872f0bc0ccd8369637433...\n",
      "PubMed data is already prepared.\n"
     ]
    },
    {
     "data": {
      "text/plain": "Generating train split: 0 examples [00:00, ? examples/s]",
      "application/vnd.jupyter.widget-view+json": {
       "version_major": 2,
       "version_minor": 0,
       "model_id": "3e745fbf4763444eb2e65785528fd64d"
      }
     },
     "metadata": {},
     "output_type": "display_data"
    },
    {
     "name": "stdout",
     "output_type": "stream",
     "text": [
      "Dataset sigir2017 downloaded and prepared to /Users/wojciechkusa/.cache/huggingface/datasets/sigir2017/sigir2017_CD006678_bigbio_text/1.0.0/daf29aab6d84a87e179ad657f8285c8d31895224a59872f0bc0ccd8369637433. Subsequent calls will reuse this data.\n"
     ]
    },
    {
     "data": {
      "text/plain": "  0%|          | 0/1 [00:00<?, ?it/s]",
      "application/vnd.jupyter.widget-view+json": {
       "version_major": 2,
       "version_minor": 0,
       "model_id": "2333363e7db94033b2c16ef51e6550d0"
      }
     },
     "metadata": {},
     "output_type": "display_data"
    },
    {
     "name": "stdout",
     "output_type": "stream",
     "text": [
      "Downloading and preparing dataset sigir2017/sigir2017_CD007356_bigbio_text to /Users/wojciechkusa/.cache/huggingface/datasets/sigir2017/sigir2017_CD007356_bigbio_text/1.0.0/daf29aab6d84a87e179ad657f8285c8d31895224a59872f0bc0ccd8369637433...\n",
      "PubMed data is already prepared.\n"
     ]
    },
    {
     "data": {
      "text/plain": "Generating train split: 0 examples [00:00, ? examples/s]",
      "application/vnd.jupyter.widget-view+json": {
       "version_major": 2,
       "version_minor": 0,
       "model_id": "94f480c5134246b89d2a2c9db134c619"
      }
     },
     "metadata": {},
     "output_type": "display_data"
    },
    {
     "name": "stdout",
     "output_type": "stream",
     "text": [
      "Dataset sigir2017 downloaded and prepared to /Users/wojciechkusa/.cache/huggingface/datasets/sigir2017/sigir2017_CD007356_bigbio_text/1.0.0/daf29aab6d84a87e179ad657f8285c8d31895224a59872f0bc0ccd8369637433. Subsequent calls will reuse this data.\n"
     ]
    },
    {
     "data": {
      "text/plain": "  0%|          | 0/1 [00:00<?, ?it/s]",
      "application/vnd.jupyter.widget-view+json": {
       "version_major": 2,
       "version_minor": 0,
       "model_id": "5dce7f47952f4ec4adfec63c822a421a"
      }
     },
     "metadata": {},
     "output_type": "display_data"
    },
    {
     "name": "stdout",
     "output_type": "stream",
     "text": [
      "Downloading and preparing dataset sigir2017/sigir2017_CD001431_bigbio_text to /Users/wojciechkusa/.cache/huggingface/datasets/sigir2017/sigir2017_CD001431_bigbio_text/1.0.0/daf29aab6d84a87e179ad657f8285c8d31895224a59872f0bc0ccd8369637433...\n",
      "PubMed data is already prepared.\n"
     ]
    },
    {
     "data": {
      "text/plain": "Generating train split: 0 examples [00:00, ? examples/s]",
      "application/vnd.jupyter.widget-view+json": {
       "version_major": 2,
       "version_minor": 0,
       "model_id": "44f4dec2c41d4ce99b54b0b52eea4f3a"
      }
     },
     "metadata": {},
     "output_type": "display_data"
    },
    {
     "name": "stdout",
     "output_type": "stream",
     "text": [
      "Dataset sigir2017 downloaded and prepared to /Users/wojciechkusa/.cache/huggingface/datasets/sigir2017/sigir2017_CD001431_bigbio_text/1.0.0/daf29aab6d84a87e179ad657f8285c8d31895224a59872f0bc0ccd8369637433. Subsequent calls will reuse this data.\n"
     ]
    },
    {
     "data": {
      "text/plain": "  0%|          | 0/1 [00:00<?, ?it/s]",
      "application/vnd.jupyter.widget-view+json": {
       "version_major": 2,
       "version_minor": 0,
       "model_id": "5c212ff0752246ed97577835f8f3a4f6"
      }
     },
     "metadata": {},
     "output_type": "display_data"
    },
    {
     "name": "stdout",
     "output_type": "stream",
     "text": [
      "Downloading and preparing dataset sigir2017/sigir2017_CD004520_bigbio_text to /Users/wojciechkusa/.cache/huggingface/datasets/sigir2017/sigir2017_CD004520_bigbio_text/1.0.0/daf29aab6d84a87e179ad657f8285c8d31895224a59872f0bc0ccd8369637433...\n",
      "PubMed data is already prepared.\n"
     ]
    },
    {
     "data": {
      "text/plain": "Generating train split: 0 examples [00:00, ? examples/s]",
      "application/vnd.jupyter.widget-view+json": {
       "version_major": 2,
       "version_minor": 0,
       "model_id": "479b9befcad441bb94e988eaed8f6f6e"
      }
     },
     "metadata": {},
     "output_type": "display_data"
    },
    {
     "name": "stdout",
     "output_type": "stream",
     "text": [
      "Dataset sigir2017 downloaded and prepared to /Users/wojciechkusa/.cache/huggingface/datasets/sigir2017/sigir2017_CD004520_bigbio_text/1.0.0/daf29aab6d84a87e179ad657f8285c8d31895224a59872f0bc0ccd8369637433. Subsequent calls will reuse this data.\n"
     ]
    },
    {
     "data": {
      "text/plain": "  0%|          | 0/1 [00:00<?, ?it/s]",
      "application/vnd.jupyter.widget-view+json": {
       "version_major": 2,
       "version_minor": 0,
       "model_id": "48f4fe4469dd45749fd5a459b458d628"
      }
     },
     "metadata": {},
     "output_type": "display_data"
    },
    {
     "name": "stdout",
     "output_type": "stream",
     "text": [
      "Downloading and preparing dataset sigir2017/sigir2017_CD009831_bigbio_text to /Users/wojciechkusa/.cache/huggingface/datasets/sigir2017/sigir2017_CD009831_bigbio_text/1.0.0/daf29aab6d84a87e179ad657f8285c8d31895224a59872f0bc0ccd8369637433...\n",
      "PubMed data is already prepared.\n"
     ]
    },
    {
     "data": {
      "text/plain": "Generating train split: 0 examples [00:00, ? examples/s]",
      "application/vnd.jupyter.widget-view+json": {
       "version_major": 2,
       "version_minor": 0,
       "model_id": "b759894a25e4401e936678a2917d7f28"
      }
     },
     "metadata": {},
     "output_type": "display_data"
    },
    {
     "name": "stdout",
     "output_type": "stream",
     "text": [
      "Dataset sigir2017 downloaded and prepared to /Users/wojciechkusa/.cache/huggingface/datasets/sigir2017/sigir2017_CD009831_bigbio_text/1.0.0/daf29aab6d84a87e179ad657f8285c8d31895224a59872f0bc0ccd8369637433. Subsequent calls will reuse this data.\n"
     ]
    },
    {
     "data": {
      "text/plain": "  0%|          | 0/1 [00:00<?, ?it/s]",
      "application/vnd.jupyter.widget-view+json": {
       "version_major": 2,
       "version_minor": 0,
       "model_id": "363825e514804db185dde8a1809252d6"
      }
     },
     "metadata": {},
     "output_type": "display_data"
    },
    {
     "name": "stdout",
     "output_type": "stream",
     "text": [
      "Downloading and preparing dataset sigir2017/sigir2017_CD004376_bigbio_text to /Users/wojciechkusa/.cache/huggingface/datasets/sigir2017/sigir2017_CD004376_bigbio_text/1.0.0/daf29aab6d84a87e179ad657f8285c8d31895224a59872f0bc0ccd8369637433...\n",
      "PubMed data is already prepared.\n"
     ]
    },
    {
     "data": {
      "text/plain": "Generating train split: 0 examples [00:00, ? examples/s]",
      "application/vnd.jupyter.widget-view+json": {
       "version_major": 2,
       "version_minor": 0,
       "model_id": "1c873ad7d6ca47dba2cd44fe0187d818"
      }
     },
     "metadata": {},
     "output_type": "display_data"
    },
    {
     "name": "stdout",
     "output_type": "stream",
     "text": [
      "Dataset sigir2017 downloaded and prepared to /Users/wojciechkusa/.cache/huggingface/datasets/sigir2017/sigir2017_CD004376_bigbio_text/1.0.0/daf29aab6d84a87e179ad657f8285c8d31895224a59872f0bc0ccd8369637433. Subsequent calls will reuse this data.\n"
     ]
    },
    {
     "data": {
      "text/plain": "  0%|          | 0/1 [00:00<?, ?it/s]",
      "application/vnd.jupyter.widget-view+json": {
       "version_major": 2,
       "version_minor": 0,
       "model_id": "c7fe48be43974f898a1a95eda0e3b99a"
      }
     },
     "metadata": {},
     "output_type": "display_data"
    },
    {
     "name": "stdout",
     "output_type": "stream",
     "text": [
      "Downloading and preparing dataset sigir2017/sigir2017_CD002840_bigbio_text to /Users/wojciechkusa/.cache/huggingface/datasets/sigir2017/sigir2017_CD002840_bigbio_text/1.0.0/daf29aab6d84a87e179ad657f8285c8d31895224a59872f0bc0ccd8369637433...\n",
      "PubMed data is already prepared.\n"
     ]
    },
    {
     "data": {
      "text/plain": "Generating train split: 0 examples [00:00, ? examples/s]",
      "application/vnd.jupyter.widget-view+json": {
       "version_major": 2,
       "version_minor": 0,
       "model_id": "2215f0f8d4ba4aacb9fa08f411eac699"
      }
     },
     "metadata": {},
     "output_type": "display_data"
    },
    {
     "name": "stdout",
     "output_type": "stream",
     "text": [
      "Dataset sigir2017 downloaded and prepared to /Users/wojciechkusa/.cache/huggingface/datasets/sigir2017/sigir2017_CD002840_bigbio_text/1.0.0/daf29aab6d84a87e179ad657f8285c8d31895224a59872f0bc0ccd8369637433. Subsequent calls will reuse this data.\n"
     ]
    },
    {
     "data": {
      "text/plain": "  0%|          | 0/1 [00:00<?, ?it/s]",
      "application/vnd.jupyter.widget-view+json": {
       "version_major": 2,
       "version_minor": 0,
       "model_id": "68236d30a2ef4525bde5510af553c3ab"
      }
     },
     "metadata": {},
     "output_type": "display_data"
    },
    {
     "name": "stdout",
     "output_type": "stream",
     "text": [
      "Downloading and preparing dataset sigir2017/sigir2017_CD000384_bigbio_text to /Users/wojciechkusa/.cache/huggingface/datasets/sigir2017/sigir2017_CD000384_bigbio_text/1.0.0/daf29aab6d84a87e179ad657f8285c8d31895224a59872f0bc0ccd8369637433...\n",
      "PubMed data is already prepared.\n"
     ]
    },
    {
     "data": {
      "text/plain": "Generating train split: 0 examples [00:00, ? examples/s]",
      "application/vnd.jupyter.widget-view+json": {
       "version_major": 2,
       "version_minor": 0,
       "model_id": "bc5e4a5f07c349c9975da7293cd42766"
      }
     },
     "metadata": {},
     "output_type": "display_data"
    },
    {
     "name": "stdout",
     "output_type": "stream",
     "text": [
      "Dataset sigir2017 downloaded and prepared to /Users/wojciechkusa/.cache/huggingface/datasets/sigir2017/sigir2017_CD000384_bigbio_text/1.0.0/daf29aab6d84a87e179ad657f8285c8d31895224a59872f0bc0ccd8369637433. Subsequent calls will reuse this data.\n"
     ]
    },
    {
     "data": {
      "text/plain": "  0%|          | 0/1 [00:00<?, ?it/s]",
      "application/vnd.jupyter.widget-view+json": {
       "version_major": 2,
       "version_minor": 0,
       "model_id": "3dd01d2d1aef484c9961846dc02b846a"
      }
     },
     "metadata": {},
     "output_type": "display_data"
    },
    {
     "name": "stdout",
     "output_type": "stream",
     "text": [
      "Downloading and preparing dataset sigir2017/sigir2017_CD010912_bigbio_text to /Users/wojciechkusa/.cache/huggingface/datasets/sigir2017/sigir2017_CD010912_bigbio_text/1.0.0/daf29aab6d84a87e179ad657f8285c8d31895224a59872f0bc0ccd8369637433...\n",
      "PubMed data is already prepared.\n"
     ]
    },
    {
     "data": {
      "text/plain": "Generating train split: 0 examples [00:00, ? examples/s]",
      "application/vnd.jupyter.widget-view+json": {
       "version_major": 2,
       "version_minor": 0,
       "model_id": "3f5e65c3661949fe80f21100ebbc6545"
      }
     },
     "metadata": {},
     "output_type": "display_data"
    },
    {
     "name": "stdout",
     "output_type": "stream",
     "text": [
      "Dataset sigir2017 downloaded and prepared to /Users/wojciechkusa/.cache/huggingface/datasets/sigir2017/sigir2017_CD010912_bigbio_text/1.0.0/daf29aab6d84a87e179ad657f8285c8d31895224a59872f0bc0ccd8369637433. Subsequent calls will reuse this data.\n"
     ]
    },
    {
     "data": {
      "text/plain": "  0%|          | 0/1 [00:00<?, ?it/s]",
      "application/vnd.jupyter.widget-view+json": {
       "version_major": 2,
       "version_minor": 0,
       "model_id": "fede9206c79846d380805f38379a09ca"
      }
     },
     "metadata": {},
     "output_type": "display_data"
    },
    {
     "name": "stdout",
     "output_type": "stream",
     "text": [
      "Downloading and preparing dataset sigir2017/sigir2017_CD007719_bigbio_text to /Users/wojciechkusa/.cache/huggingface/datasets/sigir2017/sigir2017_CD007719_bigbio_text/1.0.0/daf29aab6d84a87e179ad657f8285c8d31895224a59872f0bc0ccd8369637433...\n",
      "PubMed data is already prepared.\n"
     ]
    },
    {
     "data": {
      "text/plain": "Generating train split: 0 examples [00:00, ? examples/s]",
      "application/vnd.jupyter.widget-view+json": {
       "version_major": 2,
       "version_minor": 0,
       "model_id": "61e38413c8e74a42a1b67d6ae0055c5f"
      }
     },
     "metadata": {},
     "output_type": "display_data"
    },
    {
     "name": "stdout",
     "output_type": "stream",
     "text": [
      "Dataset sigir2017 downloaded and prepared to /Users/wojciechkusa/.cache/huggingface/datasets/sigir2017/sigir2017_CD007719_bigbio_text/1.0.0/daf29aab6d84a87e179ad657f8285c8d31895224a59872f0bc0ccd8369637433. Subsequent calls will reuse this data.\n"
     ]
    },
    {
     "data": {
      "text/plain": "  0%|          | 0/1 [00:00<?, ?it/s]",
      "application/vnd.jupyter.widget-view+json": {
       "version_major": 2,
       "version_minor": 0,
       "model_id": "07830f04de3c4c64a97404c77c09f869"
      }
     },
     "metadata": {},
     "output_type": "display_data"
    },
    {
     "name": "stdout",
     "output_type": "stream",
     "text": [
      "Downloading and preparing dataset sigir2017/sigir2017_CD004396_bigbio_text to /Users/wojciechkusa/.cache/huggingface/datasets/sigir2017/sigir2017_CD004396_bigbio_text/1.0.0/daf29aab6d84a87e179ad657f8285c8d31895224a59872f0bc0ccd8369637433...\n",
      "PubMed data is already prepared.\n"
     ]
    },
    {
     "data": {
      "text/plain": "Generating train split: 0 examples [00:00, ? examples/s]",
      "application/vnd.jupyter.widget-view+json": {
       "version_major": 2,
       "version_minor": 0,
       "model_id": "b81b159f4f84407caf93983b3408ed62"
      }
     },
     "metadata": {},
     "output_type": "display_data"
    },
    {
     "name": "stdout",
     "output_type": "stream",
     "text": [
      "Dataset sigir2017 downloaded and prepared to /Users/wojciechkusa/.cache/huggingface/datasets/sigir2017/sigir2017_CD004396_bigbio_text/1.0.0/daf29aab6d84a87e179ad657f8285c8d31895224a59872f0bc0ccd8369637433. Subsequent calls will reuse this data.\n"
     ]
    },
    {
     "data": {
      "text/plain": "  0%|          | 0/1 [00:00<?, ?it/s]",
      "application/vnd.jupyter.widget-view+json": {
       "version_major": 2,
       "version_minor": 0,
       "model_id": "d79570fac40040acbd48992cf6aa06ad"
      }
     },
     "metadata": {},
     "output_type": "display_data"
    },
    {
     "name": "stdout",
     "output_type": "stream",
     "text": [
      "Downloading and preparing dataset sigir2017/sigir2017_CD006638_bigbio_text to /Users/wojciechkusa/.cache/huggingface/datasets/sigir2017/sigir2017_CD006638_bigbio_text/1.0.0/daf29aab6d84a87e179ad657f8285c8d31895224a59872f0bc0ccd8369637433...\n",
      "PubMed data is already prepared.\n"
     ]
    },
    {
     "data": {
      "text/plain": "Generating train split: 0 examples [00:00, ? examples/s]",
      "application/vnd.jupyter.widget-view+json": {
       "version_major": 2,
       "version_minor": 0,
       "model_id": "5976f6d1465a4c18ac0155111caf9470"
      }
     },
     "metadata": {},
     "output_type": "display_data"
    },
    {
     "name": "stdout",
     "output_type": "stream",
     "text": [
      "Dataset sigir2017 downloaded and prepared to /Users/wojciechkusa/.cache/huggingface/datasets/sigir2017/sigir2017_CD006638_bigbio_text/1.0.0/daf29aab6d84a87e179ad657f8285c8d31895224a59872f0bc0ccd8369637433. Subsequent calls will reuse this data.\n"
     ]
    },
    {
     "data": {
      "text/plain": "  0%|          | 0/1 [00:00<?, ?it/s]",
      "application/vnd.jupyter.widget-view+json": {
       "version_major": 2,
       "version_minor": 0,
       "model_id": "0e054c13f9594bc68e43b3a8ea6202d1"
      }
     },
     "metadata": {},
     "output_type": "display_data"
    },
    {
     "name": "stdout",
     "output_type": "stream",
     "text": [
      "Downloading and preparing dataset sigir2017/sigir2017_CD007525_bigbio_text to /Users/wojciechkusa/.cache/huggingface/datasets/sigir2017/sigir2017_CD007525_bigbio_text/1.0.0/daf29aab6d84a87e179ad657f8285c8d31895224a59872f0bc0ccd8369637433...\n",
      "PubMed data is already prepared.\n"
     ]
    },
    {
     "data": {
      "text/plain": "Generating train split: 0 examples [00:00, ? examples/s]",
      "application/vnd.jupyter.widget-view+json": {
       "version_major": 2,
       "version_minor": 0,
       "model_id": "f56f113c9ae24ec39e6cb62a66a815fe"
      }
     },
     "metadata": {},
     "output_type": "display_data"
    },
    {
     "name": "stdout",
     "output_type": "stream",
     "text": [
      "Dataset sigir2017 downloaded and prepared to /Users/wojciechkusa/.cache/huggingface/datasets/sigir2017/sigir2017_CD007525_bigbio_text/1.0.0/daf29aab6d84a87e179ad657f8285c8d31895224a59872f0bc0ccd8369637433. Subsequent calls will reuse this data.\n"
     ]
    },
    {
     "data": {
      "text/plain": "  0%|          | 0/1 [00:00<?, ?it/s]",
      "application/vnd.jupyter.widget-view+json": {
       "version_major": 2,
       "version_minor": 0,
       "model_id": "203ff5ea4bf94633bf90014914491241"
      }
     },
     "metadata": {},
     "output_type": "display_data"
    },
    {
     "name": "stdout",
     "output_type": "stream",
     "text": [
      "Downloading and preparing dataset sigir2017/sigir2017_CD010901_bigbio_text to /Users/wojciechkusa/.cache/huggingface/datasets/sigir2017/sigir2017_CD010901_bigbio_text/1.0.0/daf29aab6d84a87e179ad657f8285c8d31895224a59872f0bc0ccd8369637433...\n",
      "PubMed data is already prepared.\n"
     ]
    },
    {
     "data": {
      "text/plain": "Generating train split: 0 examples [00:00, ? examples/s]",
      "application/vnd.jupyter.widget-view+json": {
       "version_major": 2,
       "version_minor": 0,
       "model_id": "2d8874b6ad044ff2a70dcef114a012b4"
      }
     },
     "metadata": {},
     "output_type": "display_data"
    },
    {
     "name": "stdout",
     "output_type": "stream",
     "text": [
      "Dataset sigir2017 downloaded and prepared to /Users/wojciechkusa/.cache/huggingface/datasets/sigir2017/sigir2017_CD010901_bigbio_text/1.0.0/daf29aab6d84a87e179ad657f8285c8d31895224a59872f0bc0ccd8369637433. Subsequent calls will reuse this data.\n"
     ]
    },
    {
     "data": {
      "text/plain": "  0%|          | 0/1 [00:00<?, ?it/s]",
      "application/vnd.jupyter.widget-view+json": {
       "version_major": 2,
       "version_minor": 0,
       "model_id": "316cc79a7a9748da9c1c5fd451efd1d8"
      }
     },
     "metadata": {},
     "output_type": "display_data"
    },
    {
     "name": "stdout",
     "output_type": "stream",
     "text": [
      "Downloading and preparing dataset sigir2017/sigir2017_CD011447_bigbio_text to /Users/wojciechkusa/.cache/huggingface/datasets/sigir2017/sigir2017_CD011447_bigbio_text/1.0.0/daf29aab6d84a87e179ad657f8285c8d31895224a59872f0bc0ccd8369637433...\n",
      "PubMed data is already prepared.\n"
     ]
    },
    {
     "data": {
      "text/plain": "Generating train split: 0 examples [00:00, ? examples/s]",
      "application/vnd.jupyter.widget-view+json": {
       "version_major": 2,
       "version_minor": 0,
       "model_id": "a939f73338f2497db4947689547c0727"
      }
     },
     "metadata": {},
     "output_type": "display_data"
    },
    {
     "name": "stdout",
     "output_type": "stream",
     "text": [
      "Dataset sigir2017 downloaded and prepared to /Users/wojciechkusa/.cache/huggingface/datasets/sigir2017/sigir2017_CD011447_bigbio_text/1.0.0/daf29aab6d84a87e179ad657f8285c8d31895224a59872f0bc0ccd8369637433. Subsequent calls will reuse this data.\n"
     ]
    },
    {
     "data": {
      "text/plain": "  0%|          | 0/1 [00:00<?, ?it/s]",
      "application/vnd.jupyter.widget-view+json": {
       "version_major": 2,
       "version_minor": 0,
       "model_id": "c69a93848cc04bdd8db0f3dcab001f32"
      }
     },
     "metadata": {},
     "output_type": "display_data"
    },
    {
     "name": "stdout",
     "output_type": "stream",
     "text": [
      "Downloading and preparing dataset sigir2017/sigir2017_CD002898_bigbio_text to /Users/wojciechkusa/.cache/huggingface/datasets/sigir2017/sigir2017_CD002898_bigbio_text/1.0.0/daf29aab6d84a87e179ad657f8285c8d31895224a59872f0bc0ccd8369637433...\n",
      "PubMed data is already prepared.\n"
     ]
    },
    {
     "data": {
      "text/plain": "Generating train split: 0 examples [00:00, ? examples/s]",
      "application/vnd.jupyter.widget-view+json": {
       "version_major": 2,
       "version_minor": 0,
       "model_id": "92a9f108624c445ea1baffc62e9ea473"
      }
     },
     "metadata": {},
     "output_type": "display_data"
    },
    {
     "name": "stdout",
     "output_type": "stream",
     "text": [
      "Dataset sigir2017 downloaded and prepared to /Users/wojciechkusa/.cache/huggingface/datasets/sigir2017/sigir2017_CD002898_bigbio_text/1.0.0/daf29aab6d84a87e179ad657f8285c8d31895224a59872f0bc0ccd8369637433. Subsequent calls will reuse this data.\n"
     ]
    },
    {
     "data": {
      "text/plain": "  0%|          | 0/1 [00:00<?, ?it/s]",
      "application/vnd.jupyter.widget-view+json": {
       "version_major": 2,
       "version_minor": 0,
       "model_id": "a55654a9ebfb4cfb9882b7d5c417f3f7"
      }
     },
     "metadata": {},
     "output_type": "display_data"
    },
    {
     "name": "stdout",
     "output_type": "stream",
     "text": [
      "Downloading and preparing dataset sigir2017/sigir2017_CD012004_bigbio_text to /Users/wojciechkusa/.cache/huggingface/datasets/sigir2017/sigir2017_CD012004_bigbio_text/1.0.0/daf29aab6d84a87e179ad657f8285c8d31895224a59872f0bc0ccd8369637433...\n",
      "PubMed data is already prepared.\n"
     ]
    },
    {
     "data": {
      "text/plain": "Generating train split: 0 examples [00:00, ? examples/s]",
      "application/vnd.jupyter.widget-view+json": {
       "version_major": 2,
       "version_minor": 0,
       "model_id": "228bbb040a7743f5b0386e3278dfb011"
      }
     },
     "metadata": {},
     "output_type": "display_data"
    },
    {
     "name": "stdout",
     "output_type": "stream",
     "text": [
      "Dataset sigir2017 downloaded and prepared to /Users/wojciechkusa/.cache/huggingface/datasets/sigir2017/sigir2017_CD012004_bigbio_text/1.0.0/daf29aab6d84a87e179ad657f8285c8d31895224a59872f0bc0ccd8369637433. Subsequent calls will reuse this data.\n"
     ]
    },
    {
     "data": {
      "text/plain": "  0%|          | 0/1 [00:00<?, ?it/s]",
      "application/vnd.jupyter.widget-view+json": {
       "version_major": 2,
       "version_minor": 0,
       "model_id": "a1bfe7f2f1734deb9d71e2cae4015952"
      }
     },
     "metadata": {},
     "output_type": "display_data"
    },
    {
     "name": "stdout",
     "output_type": "stream",
     "text": [
      "Downloading and preparing dataset sigir2017/sigir2017_CD003344_bigbio_text to /Users/wojciechkusa/.cache/huggingface/datasets/sigir2017/sigir2017_CD003344_bigbio_text/1.0.0/daf29aab6d84a87e179ad657f8285c8d31895224a59872f0bc0ccd8369637433...\n",
      "PubMed data is already prepared.\n"
     ]
    },
    {
     "data": {
      "text/plain": "Generating train split: 0 examples [00:00, ? examples/s]",
      "application/vnd.jupyter.widget-view+json": {
       "version_major": 2,
       "version_minor": 0,
       "model_id": "01011129a33c45b0a2e306a6fe1bdd19"
      }
     },
     "metadata": {},
     "output_type": "display_data"
    },
    {
     "name": "stdout",
     "output_type": "stream",
     "text": [
      "Dataset sigir2017 downloaded and prepared to /Users/wojciechkusa/.cache/huggingface/datasets/sigir2017/sigir2017_CD003344_bigbio_text/1.0.0/daf29aab6d84a87e179ad657f8285c8d31895224a59872f0bc0ccd8369637433. Subsequent calls will reuse this data.\n"
     ]
    },
    {
     "data": {
      "text/plain": "  0%|          | 0/1 [00:00<?, ?it/s]",
      "application/vnd.jupyter.widget-view+json": {
       "version_major": 2,
       "version_minor": 0,
       "model_id": "950423a4def3437d9b4a5144425b327e"
      }
     },
     "metadata": {},
     "output_type": "display_data"
    },
    {
     "name": "stdout",
     "output_type": "stream",
     "text": [
      "Downloading and preparing dataset sigir2017/sigir2017_CD007115_bigbio_text to /Users/wojciechkusa/.cache/huggingface/datasets/sigir2017/sigir2017_CD007115_bigbio_text/1.0.0/daf29aab6d84a87e179ad657f8285c8d31895224a59872f0bc0ccd8369637433...\n",
      "PubMed data is already prepared.\n"
     ]
    },
    {
     "data": {
      "text/plain": "Generating train split: 0 examples [00:00, ? examples/s]",
      "application/vnd.jupyter.widget-view+json": {
       "version_major": 2,
       "version_minor": 0,
       "model_id": "e93abd67bebf45bd992b0a3ec55fc480"
      }
     },
     "metadata": {},
     "output_type": "display_data"
    },
    {
     "name": "stdout",
     "output_type": "stream",
     "text": [
      "Dataset sigir2017 downloaded and prepared to /Users/wojciechkusa/.cache/huggingface/datasets/sigir2017/sigir2017_CD007115_bigbio_text/1.0.0/daf29aab6d84a87e179ad657f8285c8d31895224a59872f0bc0ccd8369637433. Subsequent calls will reuse this data.\n"
     ]
    },
    {
     "data": {
      "text/plain": "  0%|          | 0/1 [00:00<?, ?it/s]",
      "application/vnd.jupyter.widget-view+json": {
       "version_major": 2,
       "version_minor": 0,
       "model_id": "1a9dd1583971403089dd2a18f4cee9a9"
      }
     },
     "metadata": {},
     "output_type": "display_data"
    },
    {
     "name": "stdout",
     "output_type": "stream",
     "text": [
      "Downloading and preparing dataset sigir2017/sigir2017_CD010709_bigbio_text to /Users/wojciechkusa/.cache/huggingface/datasets/sigir2017/sigir2017_CD010709_bigbio_text/1.0.0/daf29aab6d84a87e179ad657f8285c8d31895224a59872f0bc0ccd8369637433...\n",
      "PubMed data is already prepared.\n"
     ]
    },
    {
     "data": {
      "text/plain": "Generating train split: 0 examples [00:00, ? examples/s]",
      "application/vnd.jupyter.widget-view+json": {
       "version_major": 2,
       "version_minor": 0,
       "model_id": "e5f754f55f4f4ad686079ebc9ef21e95"
      }
     },
     "metadata": {},
     "output_type": "display_data"
    },
    {
     "name": "stdout",
     "output_type": "stream",
     "text": [
      "Dataset sigir2017 downloaded and prepared to /Users/wojciechkusa/.cache/huggingface/datasets/sigir2017/sigir2017_CD010709_bigbio_text/1.0.0/daf29aab6d84a87e179ad657f8285c8d31895224a59872f0bc0ccd8369637433. Subsequent calls will reuse this data.\n"
     ]
    },
    {
     "data": {
      "text/plain": "  0%|          | 0/1 [00:00<?, ?it/s]",
      "application/vnd.jupyter.widget-view+json": {
       "version_major": 2,
       "version_minor": 0,
       "model_id": "a00a353068fc4728b1d0065fe5b47f6a"
      }
     },
     "metadata": {},
     "output_type": "display_data"
    },
    {
     "name": "stdout",
     "output_type": "stream",
     "text": [
      "Downloading and preparing dataset sigir2017/sigir2017_CD008366_bigbio_text to /Users/wojciechkusa/.cache/huggingface/datasets/sigir2017/sigir2017_CD008366_bigbio_text/1.0.0/daf29aab6d84a87e179ad657f8285c8d31895224a59872f0bc0ccd8369637433...\n",
      "PubMed data is already prepared.\n"
     ]
    },
    {
     "data": {
      "text/plain": "Generating train split: 0 examples [00:00, ? examples/s]",
      "application/vnd.jupyter.widget-view+json": {
       "version_major": 2,
       "version_minor": 0,
       "model_id": "9fee68b9fe94438b89cc6cf748920646"
      }
     },
     "metadata": {},
     "output_type": "display_data"
    },
    {
     "name": "stdout",
     "output_type": "stream",
     "text": [
      "Dataset sigir2017 downloaded and prepared to /Users/wojciechkusa/.cache/huggingface/datasets/sigir2017/sigir2017_CD008366_bigbio_text/1.0.0/daf29aab6d84a87e179ad657f8285c8d31895224a59872f0bc0ccd8369637433. Subsequent calls will reuse this data.\n"
     ]
    },
    {
     "data": {
      "text/plain": "  0%|          | 0/1 [00:00<?, ?it/s]",
      "application/vnd.jupyter.widget-view+json": {
       "version_major": 2,
       "version_minor": 0,
       "model_id": "aa7049dc520c42f29019bf51508699d1"
      }
     },
     "metadata": {},
     "output_type": "display_data"
    },
    {
     "name": "stdout",
     "output_type": "stream",
     "text": [
      "Downloading and preparing dataset sigir2017/sigir2017_CD007716_bigbio_text to /Users/wojciechkusa/.cache/huggingface/datasets/sigir2017/sigir2017_CD007716_bigbio_text/1.0.0/daf29aab6d84a87e179ad657f8285c8d31895224a59872f0bc0ccd8369637433...\n",
      "PubMed data is already prepared.\n"
     ]
    },
    {
     "data": {
      "text/plain": "Generating train split: 0 examples [00:00, ? examples/s]",
      "application/vnd.jupyter.widget-view+json": {
       "version_major": 2,
       "version_minor": 0,
       "model_id": "e1b8bd87abde45318e2c602b0454d8d5"
      }
     },
     "metadata": {},
     "output_type": "display_data"
    },
    {
     "name": "stdout",
     "output_type": "stream",
     "text": [
      "Dataset sigir2017 downloaded and prepared to /Users/wojciechkusa/.cache/huggingface/datasets/sigir2017/sigir2017_CD007716_bigbio_text/1.0.0/daf29aab6d84a87e179ad657f8285c8d31895224a59872f0bc0ccd8369637433. Subsequent calls will reuse this data.\n"
     ]
    },
    {
     "data": {
      "text/plain": "  0%|          | 0/1 [00:00<?, ?it/s]",
      "application/vnd.jupyter.widget-view+json": {
       "version_major": 2,
       "version_minor": 0,
       "model_id": "02336e928bac4730b757d3ebae7995c1"
      }
     },
     "metadata": {},
     "output_type": "display_data"
    },
    {
     "name": "stdout",
     "output_type": "stream",
     "text": [
      "Downloading and preparing dataset sigir2017/sigir2017_CD002069_bigbio_text to /Users/wojciechkusa/.cache/huggingface/datasets/sigir2017/sigir2017_CD002069_bigbio_text/1.0.0/daf29aab6d84a87e179ad657f8285c8d31895224a59872f0bc0ccd8369637433...\n",
      "PubMed data is already prepared.\n"
     ]
    },
    {
     "data": {
      "text/plain": "Generating train split: 0 examples [00:00, ? examples/s]",
      "application/vnd.jupyter.widget-view+json": {
       "version_major": 2,
       "version_minor": 0,
       "model_id": "9ed7f002df3a4d1e9e88bfaec74641d3"
      }
     },
     "metadata": {},
     "output_type": "display_data"
    },
    {
     "name": "stdout",
     "output_type": "stream",
     "text": [
      "Dataset sigir2017 downloaded and prepared to /Users/wojciechkusa/.cache/huggingface/datasets/sigir2017/sigir2017_CD002069_bigbio_text/1.0.0/daf29aab6d84a87e179ad657f8285c8d31895224a59872f0bc0ccd8369637433. Subsequent calls will reuse this data.\n"
     ]
    },
    {
     "data": {
      "text/plain": "  0%|          | 0/1 [00:00<?, ?it/s]",
      "application/vnd.jupyter.widget-view+json": {
       "version_major": 2,
       "version_minor": 0,
       "model_id": "52f86a56af2045c3a246bb8593e20d30"
      }
     },
     "metadata": {},
     "output_type": "display_data"
    },
    {
     "name": "stdout",
     "output_type": "stream",
     "text": [
      "Downloading and preparing dataset sigir2017/sigir2017_CD003987_bigbio_text to /Users/wojciechkusa/.cache/huggingface/datasets/sigir2017/sigir2017_CD003987_bigbio_text/1.0.0/daf29aab6d84a87e179ad657f8285c8d31895224a59872f0bc0ccd8369637433...\n",
      "PubMed data is already prepared.\n"
     ]
    },
    {
     "data": {
      "text/plain": "Generating train split: 0 examples [00:00, ? examples/s]",
      "application/vnd.jupyter.widget-view+json": {
       "version_major": 2,
       "version_minor": 0,
       "model_id": "0d4dc5e1a6674b2481d307259e5aa702"
      }
     },
     "metadata": {},
     "output_type": "display_data"
    },
    {
     "name": "stdout",
     "output_type": "stream",
     "text": [
      "Dataset sigir2017 downloaded and prepared to /Users/wojciechkusa/.cache/huggingface/datasets/sigir2017/sigir2017_CD003987_bigbio_text/1.0.0/daf29aab6d84a87e179ad657f8285c8d31895224a59872f0bc0ccd8369637433. Subsequent calls will reuse this data.\n"
     ]
    },
    {
     "data": {
      "text/plain": "  0%|          | 0/1 [00:00<?, ?it/s]",
      "application/vnd.jupyter.widget-view+json": {
       "version_major": 2,
       "version_minor": 0,
       "model_id": "60583899d1e6471caea344ade4276a4d"
      }
     },
     "metadata": {},
     "output_type": "display_data"
    },
    {
     "name": "stdout",
     "output_type": "stream",
     "text": [
      "Downloading and preparing dataset sigir2017/sigir2017_CD009685_bigbio_text to /Users/wojciechkusa/.cache/huggingface/datasets/sigir2017/sigir2017_CD009685_bigbio_text/1.0.0/daf29aab6d84a87e179ad657f8285c8d31895224a59872f0bc0ccd8369637433...\n",
      "PubMed data is already prepared.\n"
     ]
    },
    {
     "data": {
      "text/plain": "Generating train split: 0 examples [00:00, ? examples/s]",
      "application/vnd.jupyter.widget-view+json": {
       "version_major": 2,
       "version_minor": 0,
       "model_id": "e44802ea7bb9482b91b49c9120a8a53b"
      }
     },
     "metadata": {},
     "output_type": "display_data"
    },
    {
     "name": "stdout",
     "output_type": "stream",
     "text": [
      "Dataset sigir2017 downloaded and prepared to /Users/wojciechkusa/.cache/huggingface/datasets/sigir2017/sigir2017_CD009685_bigbio_text/1.0.0/daf29aab6d84a87e179ad657f8285c8d31895224a59872f0bc0ccd8369637433. Subsequent calls will reuse this data.\n"
     ]
    },
    {
     "data": {
      "text/plain": "  0%|          | 0/1 [00:00<?, ?it/s]",
      "application/vnd.jupyter.widget-view+json": {
       "version_major": 2,
       "version_minor": 0,
       "model_id": "ce22e04de1fb474fa370bcbf3b98692b"
      }
     },
     "metadata": {},
     "output_type": "display_data"
    },
    {
     "name": "stdout",
     "output_type": "stream",
     "text": [
      "Downloading and preparing dataset sigir2017/sigir2017_CD009823_bigbio_text to /Users/wojciechkusa/.cache/huggingface/datasets/sigir2017/sigir2017_CD009823_bigbio_text/1.0.0/daf29aab6d84a87e179ad657f8285c8d31895224a59872f0bc0ccd8369637433...\n",
      "PubMed data is already prepared.\n"
     ]
    },
    {
     "data": {
      "text/plain": "Generating train split: 0 examples [00:00, ? examples/s]",
      "application/vnd.jupyter.widget-view+json": {
       "version_major": 2,
       "version_minor": 0,
       "model_id": "852a4ab7d9d844698b251ca11af44c74"
      }
     },
     "metadata": {},
     "output_type": "display_data"
    },
    {
     "name": "stdout",
     "output_type": "stream",
     "text": [
      "Dataset sigir2017 downloaded and prepared to /Users/wojciechkusa/.cache/huggingface/datasets/sigir2017/sigir2017_CD009823_bigbio_text/1.0.0/daf29aab6d84a87e179ad657f8285c8d31895224a59872f0bc0ccd8369637433. Subsequent calls will reuse this data.\n"
     ]
    },
    {
     "data": {
      "text/plain": "  0%|          | 0/1 [00:00<?, ?it/s]",
      "application/vnd.jupyter.widget-view+json": {
       "version_major": 2,
       "version_minor": 0,
       "model_id": "448af78b2527433ea8e6734a7389f193"
      }
     },
     "metadata": {},
     "output_type": "display_data"
    },
    {
     "name": "stdout",
     "output_type": "stream",
     "text": [
      "Downloading and preparing dataset sigir2017/sigir2017_CD001843_bigbio_text to /Users/wojciechkusa/.cache/huggingface/datasets/sigir2017/sigir2017_CD001843_bigbio_text/1.0.0/daf29aab6d84a87e179ad657f8285c8d31895224a59872f0bc0ccd8369637433...\n",
      "PubMed data is already prepared.\n"
     ]
    },
    {
     "data": {
      "text/plain": "Generating train split: 0 examples [00:00, ? examples/s]",
      "application/vnd.jupyter.widget-view+json": {
       "version_major": 2,
       "version_minor": 0,
       "model_id": "5af56e6b88804b448bbcf2d28865e6ee"
      }
     },
     "metadata": {},
     "output_type": "display_data"
    },
    {
     "name": "stdout",
     "output_type": "stream",
     "text": [
      "Dataset sigir2017 downloaded and prepared to /Users/wojciechkusa/.cache/huggingface/datasets/sigir2017/sigir2017_CD001843_bigbio_text/1.0.0/daf29aab6d84a87e179ad657f8285c8d31895224a59872f0bc0ccd8369637433. Subsequent calls will reuse this data.\n"
     ]
    },
    {
     "data": {
      "text/plain": "  0%|          | 0/1 [00:00<?, ?it/s]",
      "application/vnd.jupyter.widget-view+json": {
       "version_major": 2,
       "version_minor": 0,
       "model_id": "7543c2e47d7e4f608b3b45256e64a037"
      }
     },
     "metadata": {},
     "output_type": "display_data"
    },
    {
     "name": "stdout",
     "output_type": "stream",
     "text": [
      "Downloading and preparing dataset sigir2017/sigir2017_CD002201_bigbio_text to /Users/wojciechkusa/.cache/huggingface/datasets/sigir2017/sigir2017_CD002201_bigbio_text/1.0.0/daf29aab6d84a87e179ad657f8285c8d31895224a59872f0bc0ccd8369637433...\n",
      "PubMed data is already prepared.\n"
     ]
    },
    {
     "data": {
      "text/plain": "Generating train split: 0 examples [00:00, ? examples/s]",
      "application/vnd.jupyter.widget-view+json": {
       "version_major": 2,
       "version_minor": 0,
       "model_id": "59f4b8f6d1574b509098a98987a12027"
      }
     },
     "metadata": {},
     "output_type": "display_data"
    },
    {
     "name": "stdout",
     "output_type": "stream",
     "text": [
      "Dataset sigir2017 downloaded and prepared to /Users/wojciechkusa/.cache/huggingface/datasets/sigir2017/sigir2017_CD002201_bigbio_text/1.0.0/daf29aab6d84a87e179ad657f8285c8d31895224a59872f0bc0ccd8369637433. Subsequent calls will reuse this data.\n"
     ]
    },
    {
     "data": {
      "text/plain": "  0%|          | 0/1 [00:00<?, ?it/s]",
      "application/vnd.jupyter.widget-view+json": {
       "version_major": 2,
       "version_minor": 0,
       "model_id": "5c317827228a4801afcb75c32624ea1a"
      }
     },
     "metadata": {},
     "output_type": "display_data"
    },
    {
     "name": "stdout",
     "output_type": "stream",
     "text": [
      "Downloading and preparing dataset sigir2017/sigir2017_CD008969_bigbio_text to /Users/wojciechkusa/.cache/huggingface/datasets/sigir2017/sigir2017_CD008969_bigbio_text/1.0.0/daf29aab6d84a87e179ad657f8285c8d31895224a59872f0bc0ccd8369637433...\n",
      "PubMed data is already prepared.\n"
     ]
    },
    {
     "data": {
      "text/plain": "Generating train split: 0 examples [00:00, ? examples/s]",
      "application/vnd.jupyter.widget-view+json": {
       "version_major": 2,
       "version_minor": 0,
       "model_id": "9400b1ccd0b34c3a8899b482d9997bf4"
      }
     },
     "metadata": {},
     "output_type": "display_data"
    },
    {
     "name": "stdout",
     "output_type": "stream",
     "text": [
      "Dataset sigir2017 downloaded and prepared to /Users/wojciechkusa/.cache/huggingface/datasets/sigir2017/sigir2017_CD008969_bigbio_text/1.0.0/daf29aab6d84a87e179ad657f8285c8d31895224a59872f0bc0ccd8369637433. Subsequent calls will reuse this data.\n"
     ]
    },
    {
     "data": {
      "text/plain": "  0%|          | 0/1 [00:00<?, ?it/s]",
      "application/vnd.jupyter.widget-view+json": {
       "version_major": 2,
       "version_minor": 0,
       "model_id": "e96b5cfb53324126b22d174478725b05"
      }
     },
     "metadata": {},
     "output_type": "display_data"
    },
    {
     "name": "stdout",
     "output_type": "stream",
     "text": [
      "Downloading and preparing dataset sigir2017/sigir2017_CD011047_bigbio_text to /Users/wojciechkusa/.cache/huggingface/datasets/sigir2017/sigir2017_CD011047_bigbio_text/1.0.0/daf29aab6d84a87e179ad657f8285c8d31895224a59872f0bc0ccd8369637433...\n",
      "PubMed data is already prepared.\n"
     ]
    },
    {
     "data": {
      "text/plain": "Generating train split: 0 examples [00:00, ? examples/s]",
      "application/vnd.jupyter.widget-view+json": {
       "version_major": 2,
       "version_minor": 0,
       "model_id": "8690453c367441a4b20e21727a22a42b"
      }
     },
     "metadata": {},
     "output_type": "display_data"
    },
    {
     "name": "stdout",
     "output_type": "stream",
     "text": [
      "Dataset sigir2017 downloaded and prepared to /Users/wojciechkusa/.cache/huggingface/datasets/sigir2017/sigir2017_CD011047_bigbio_text/1.0.0/daf29aab6d84a87e179ad657f8285c8d31895224a59872f0bc0ccd8369637433. Subsequent calls will reuse this data.\n"
     ]
    },
    {
     "data": {
      "text/plain": "  0%|          | 0/1 [00:00<?, ?it/s]",
      "application/vnd.jupyter.widget-view+json": {
       "version_major": 2,
       "version_minor": 0,
       "model_id": "afae8240e40048d9ac216bea8c817db1"
      }
     },
     "metadata": {},
     "output_type": "display_data"
    },
    {
     "name": "stdout",
     "output_type": "stream",
     "text": [
      "Downloading and preparing dataset sigir2017/sigir2017_CD007122_bigbio_text to /Users/wojciechkusa/.cache/huggingface/datasets/sigir2017/sigir2017_CD007122_bigbio_text/1.0.0/daf29aab6d84a87e179ad657f8285c8d31895224a59872f0bc0ccd8369637433...\n",
      "PubMed data is already prepared.\n"
     ]
    },
    {
     "data": {
      "text/plain": "Generating train split: 0 examples [00:00, ? examples/s]",
      "application/vnd.jupyter.widget-view+json": {
       "version_major": 2,
       "version_minor": 0,
       "model_id": "762165f5901a4c75ade0dcc6cd9ba544"
      }
     },
     "metadata": {},
     "output_type": "display_data"
    },
    {
     "name": "stdout",
     "output_type": "stream",
     "text": [
      "Dataset sigir2017 downloaded and prepared to /Users/wojciechkusa/.cache/huggingface/datasets/sigir2017/sigir2017_CD007122_bigbio_text/1.0.0/daf29aab6d84a87e179ad657f8285c8d31895224a59872f0bc0ccd8369637433. Subsequent calls will reuse this data.\n"
     ]
    },
    {
     "data": {
      "text/plain": "  0%|          | 0/1 [00:00<?, ?it/s]",
      "application/vnd.jupyter.widget-view+json": {
       "version_major": 2,
       "version_minor": 0,
       "model_id": "6218d8e4e1ea4237bb88425d6fe90168"
      }
     },
     "metadata": {},
     "output_type": "display_data"
    },
    {
     "name": "stdout",
     "output_type": "stream",
     "text": [
      "Downloading and preparing dataset sigir2017/sigir2017_CD011281_bigbio_text to /Users/wojciechkusa/.cache/huggingface/datasets/sigir2017/sigir2017_CD011281_bigbio_text/1.0.0/daf29aab6d84a87e179ad657f8285c8d31895224a59872f0bc0ccd8369637433...\n",
      "PubMed data is already prepared.\n"
     ]
    },
    {
     "data": {
      "text/plain": "Generating train split: 0 examples [00:00, ? examples/s]",
      "application/vnd.jupyter.widget-view+json": {
       "version_major": 2,
       "version_minor": 0,
       "model_id": "4ab9af46e0234cc5a1e6f022f94820fb"
      }
     },
     "metadata": {},
     "output_type": "display_data"
    },
    {
     "name": "stdout",
     "output_type": "stream",
     "text": [
      "Dataset sigir2017 downloaded and prepared to /Users/wojciechkusa/.cache/huggingface/datasets/sigir2017/sigir2017_CD011281_bigbio_text/1.0.0/daf29aab6d84a87e179ad657f8285c8d31895224a59872f0bc0ccd8369637433. Subsequent calls will reuse this data.\n"
     ]
    },
    {
     "data": {
      "text/plain": "  0%|          | 0/1 [00:00<?, ?it/s]",
      "application/vnd.jupyter.widget-view+json": {
       "version_major": 2,
       "version_minor": 0,
       "model_id": "c72570b6feb542348e38b6aaade302bf"
      }
     },
     "metadata": {},
     "output_type": "display_data"
    },
    {
     "name": "stdout",
     "output_type": "stream",
     "text": [
      "Downloading and preparing dataset sigir2017/sigir2017_CD010533_bigbio_text to /Users/wojciechkusa/.cache/huggingface/datasets/sigir2017/sigir2017_CD010533_bigbio_text/1.0.0/daf29aab6d84a87e179ad657f8285c8d31895224a59872f0bc0ccd8369637433...\n",
      "PubMed data is already prepared.\n"
     ]
    },
    {
     "data": {
      "text/plain": "Generating train split: 0 examples [00:00, ? examples/s]",
      "application/vnd.jupyter.widget-view+json": {
       "version_major": 2,
       "version_minor": 0,
       "model_id": "2c801c349361414394b428c4e9d7a11f"
      }
     },
     "metadata": {},
     "output_type": "display_data"
    },
    {
     "name": "stdout",
     "output_type": "stream",
     "text": [
      "Dataset sigir2017 downloaded and prepared to /Users/wojciechkusa/.cache/huggingface/datasets/sigir2017/sigir2017_CD010533_bigbio_text/1.0.0/daf29aab6d84a87e179ad657f8285c8d31895224a59872f0bc0ccd8369637433. Subsequent calls will reuse this data.\n"
     ]
    },
    {
     "data": {
      "text/plain": "  0%|          | 0/1 [00:00<?, ?it/s]",
      "application/vnd.jupyter.widget-view+json": {
       "version_major": 2,
       "version_minor": 0,
       "model_id": "834c885edc484da696aa7f5566d52675"
      }
     },
     "metadata": {},
     "output_type": "display_data"
    },
    {
     "name": "stdout",
     "output_type": "stream",
     "text": [
      "Downloading and preparing dataset sigir2017/sigir2017_CD010534_bigbio_text to /Users/wojciechkusa/.cache/huggingface/datasets/sigir2017/sigir2017_CD010534_bigbio_text/1.0.0/daf29aab6d84a87e179ad657f8285c8d31895224a59872f0bc0ccd8369637433...\n",
      "PubMed data is already prepared.\n"
     ]
    },
    {
     "data": {
      "text/plain": "Generating train split: 0 examples [00:00, ? examples/s]",
      "application/vnd.jupyter.widget-view+json": {
       "version_major": 2,
       "version_minor": 0,
       "model_id": "92c46657e3f54d9480ac8d503c01359a"
      }
     },
     "metadata": {},
     "output_type": "display_data"
    },
    {
     "name": "stdout",
     "output_type": "stream",
     "text": [
      "Dataset sigir2017 downloaded and prepared to /Users/wojciechkusa/.cache/huggingface/datasets/sigir2017/sigir2017_CD010534_bigbio_text/1.0.0/daf29aab6d84a87e179ad657f8285c8d31895224a59872f0bc0ccd8369637433. Subsequent calls will reuse this data.\n"
     ]
    },
    {
     "data": {
      "text/plain": "  0%|          | 0/1 [00:00<?, ?it/s]",
      "application/vnd.jupyter.widget-view+json": {
       "version_major": 2,
       "version_minor": 0,
       "model_id": "cf8e8da9b9554d1485bced860a2410f3"
      }
     },
     "metadata": {},
     "output_type": "display_data"
    },
    {
     "name": "stdout",
     "output_type": "stream",
     "text": [
      "Downloading and preparing dataset sigir2017/sigir2017_CD007745_bigbio_text to /Users/wojciechkusa/.cache/huggingface/datasets/sigir2017/sigir2017_CD007745_bigbio_text/1.0.0/daf29aab6d84a87e179ad657f8285c8d31895224a59872f0bc0ccd8369637433...\n",
      "PubMed data is already prepared.\n"
     ]
    },
    {
     "data": {
      "text/plain": "Generating train split: 0 examples [00:00, ? examples/s]",
      "application/vnd.jupyter.widget-view+json": {
       "version_major": 2,
       "version_minor": 0,
       "model_id": "f67d324a719c4a018aa90acbd38820ed"
      }
     },
     "metadata": {},
     "output_type": "display_data"
    },
    {
     "name": "stdout",
     "output_type": "stream",
     "text": [
      "Dataset sigir2017 downloaded and prepared to /Users/wojciechkusa/.cache/huggingface/datasets/sigir2017/sigir2017_CD007745_bigbio_text/1.0.0/daf29aab6d84a87e179ad657f8285c8d31895224a59872f0bc0ccd8369637433. Subsequent calls will reuse this data.\n"
     ]
    },
    {
     "data": {
      "text/plain": "  0%|          | 0/1 [00:00<?, ?it/s]",
      "application/vnd.jupyter.widget-view+json": {
       "version_major": 2,
       "version_minor": 0,
       "model_id": "61b7b131561649d8af4f9f712b7f3088"
      }
     },
     "metadata": {},
     "output_type": "display_data"
    },
    {
     "name": "stdout",
     "output_type": "stream",
     "text": [
      "Downloading and preparing dataset sigir2017/sigir2017_CD001150_bigbio_text to /Users/wojciechkusa/.cache/huggingface/datasets/sigir2017/sigir2017_CD001150_bigbio_text/1.0.0/daf29aab6d84a87e179ad657f8285c8d31895224a59872f0bc0ccd8369637433...\n",
      "PubMed data is already prepared.\n"
     ]
    },
    {
     "data": {
      "text/plain": "Generating train split: 0 examples [00:00, ? examples/s]",
      "application/vnd.jupyter.widget-view+json": {
       "version_major": 2,
       "version_minor": 0,
       "model_id": "c45017452d1e4d6bb4c8938cfe73a7ec"
      }
     },
     "metadata": {},
     "output_type": "display_data"
    },
    {
     "name": "stdout",
     "output_type": "stream",
     "text": [
      "Dataset sigir2017 downloaded and prepared to /Users/wojciechkusa/.cache/huggingface/datasets/sigir2017/sigir2017_CD001150_bigbio_text/1.0.0/daf29aab6d84a87e179ad657f8285c8d31895224a59872f0bc0ccd8369637433. Subsequent calls will reuse this data.\n"
     ]
    },
    {
     "data": {
      "text/plain": "  0%|          | 0/1 [00:00<?, ?it/s]",
      "application/vnd.jupyter.widget-view+json": {
       "version_major": 2,
       "version_minor": 0,
       "model_id": "bab501eb475b4add8c461b634f99ba0a"
      }
     },
     "metadata": {},
     "output_type": "display_data"
    },
    {
     "name": "stdout",
     "output_type": "stream",
     "text": [
      "Downloading and preparing dataset sigir2017/sigir2017_CD010479_bigbio_text to /Users/wojciechkusa/.cache/huggingface/datasets/sigir2017/sigir2017_CD010479_bigbio_text/1.0.0/daf29aab6d84a87e179ad657f8285c8d31895224a59872f0bc0ccd8369637433...\n",
      "PubMed data is already prepared.\n"
     ]
    },
    {
     "data": {
      "text/plain": "Generating train split: 0 examples [00:00, ? examples/s]",
      "application/vnd.jupyter.widget-view+json": {
       "version_major": 2,
       "version_minor": 0,
       "model_id": "395dca9723bf44c69e89240ea132ccf3"
      }
     },
     "metadata": {},
     "output_type": "display_data"
    },
    {
     "name": "stdout",
     "output_type": "stream",
     "text": [
      "Dataset sigir2017 downloaded and prepared to /Users/wojciechkusa/.cache/huggingface/datasets/sigir2017/sigir2017_CD010479_bigbio_text/1.0.0/daf29aab6d84a87e179ad657f8285c8d31895224a59872f0bc0ccd8369637433. Subsequent calls will reuse this data.\n"
     ]
    },
    {
     "data": {
      "text/plain": "  0%|          | 0/1 [00:00<?, ?it/s]",
      "application/vnd.jupyter.widget-view+json": {
       "version_major": 2,
       "version_minor": 0,
       "model_id": "d5ac060bbd6d41a88c4106b26d7de7ef"
      }
     },
     "metadata": {},
     "output_type": "display_data"
    },
    {
     "name": "stdout",
     "output_type": "stream",
     "text": [
      "Downloading and preparing dataset sigir2017/sigir2017_CD008812_bigbio_text to /Users/wojciechkusa/.cache/huggingface/datasets/sigir2017/sigir2017_CD008812_bigbio_text/1.0.0/daf29aab6d84a87e179ad657f8285c8d31895224a59872f0bc0ccd8369637433...\n",
      "PubMed data is already prepared.\n"
     ]
    },
    {
     "data": {
      "text/plain": "Generating train split: 0 examples [00:00, ? examples/s]",
      "application/vnd.jupyter.widget-view+json": {
       "version_major": 2,
       "version_minor": 0,
       "model_id": "05ab7958717d4b0bb86fc2c098302c81"
      }
     },
     "metadata": {},
     "output_type": "display_data"
    },
    {
     "name": "stdout",
     "output_type": "stream",
     "text": [
      "Dataset sigir2017 downloaded and prepared to /Users/wojciechkusa/.cache/huggingface/datasets/sigir2017/sigir2017_CD008812_bigbio_text/1.0.0/daf29aab6d84a87e179ad657f8285c8d31895224a59872f0bc0ccd8369637433. Subsequent calls will reuse this data.\n"
     ]
    },
    {
     "data": {
      "text/plain": "  0%|          | 0/1 [00:00<?, ?it/s]",
      "application/vnd.jupyter.widget-view+json": {
       "version_major": 2,
       "version_minor": 0,
       "model_id": "83768f1e05b34854ad7a6d07292cfc2d"
      }
     },
     "metadata": {},
     "output_type": "display_data"
    },
    {
     "name": "stdout",
     "output_type": "stream",
     "text": [
      "Downloading and preparing dataset sigir2017/sigir2017_CD003855_bigbio_text to /Users/wojciechkusa/.cache/huggingface/datasets/sigir2017/sigir2017_CD003855_bigbio_text/1.0.0/daf29aab6d84a87e179ad657f8285c8d31895224a59872f0bc0ccd8369637433...\n",
      "PubMed data is already prepared.\n"
     ]
    },
    {
     "data": {
      "text/plain": "Generating train split: 0 examples [00:00, ? examples/s]",
      "application/vnd.jupyter.widget-view+json": {
       "version_major": 2,
       "version_minor": 0,
       "model_id": "278e30d052b84c89b54becb23423d4b8"
      }
     },
     "metadata": {},
     "output_type": "display_data"
    },
    {
     "name": "stdout",
     "output_type": "stream",
     "text": [
      "Dataset sigir2017 downloaded and prepared to /Users/wojciechkusa/.cache/huggingface/datasets/sigir2017/sigir2017_CD003855_bigbio_text/1.0.0/daf29aab6d84a87e179ad657f8285c8d31895224a59872f0bc0ccd8369637433. Subsequent calls will reuse this data.\n"
     ]
    },
    {
     "data": {
      "text/plain": "  0%|          | 0/1 [00:00<?, ?it/s]",
      "application/vnd.jupyter.widget-view+json": {
       "version_major": 2,
       "version_minor": 0,
       "model_id": "85f373072b994700a1ed73e551023a60"
      }
     },
     "metadata": {},
     "output_type": "display_data"
    },
    {
     "name": "stdout",
     "output_type": "stream",
     "text": [
      "Downloading and preparing dataset sigir2017/sigir2017_CD005397_bigbio_text to /Users/wojciechkusa/.cache/huggingface/datasets/sigir2017/sigir2017_CD005397_bigbio_text/1.0.0/daf29aab6d84a87e179ad657f8285c8d31895224a59872f0bc0ccd8369637433...\n",
      "PubMed data is already prepared.\n"
     ]
    },
    {
     "data": {
      "text/plain": "Generating train split: 0 examples [00:00, ? examples/s]",
      "application/vnd.jupyter.widget-view+json": {
       "version_major": 2,
       "version_minor": 0,
       "model_id": "50c81b8bca644e18805813c3419e14ef"
      }
     },
     "metadata": {},
     "output_type": "display_data"
    },
    {
     "name": "stdout",
     "output_type": "stream",
     "text": [
      "Dataset sigir2017 downloaded and prepared to /Users/wojciechkusa/.cache/huggingface/datasets/sigir2017/sigir2017_CD005397_bigbio_text/1.0.0/daf29aab6d84a87e179ad657f8285c8d31895224a59872f0bc0ccd8369637433. Subsequent calls will reuse this data.\n"
     ]
    },
    {
     "data": {
      "text/plain": "  0%|          | 0/1 [00:00<?, ?it/s]",
      "application/vnd.jupyter.widget-view+json": {
       "version_major": 2,
       "version_minor": 0,
       "model_id": "9fb8e3e5964e43b6908ad3b3147376b1"
      }
     },
     "metadata": {},
     "output_type": "display_data"
    },
    {
     "name": "stdout",
     "output_type": "stream",
     "text": [
      "Downloading and preparing dataset sigir2017/sigir2017_CD010226_bigbio_text to /Users/wojciechkusa/.cache/huggingface/datasets/sigir2017/sigir2017_CD010226_bigbio_text/1.0.0/daf29aab6d84a87e179ad657f8285c8d31895224a59872f0bc0ccd8369637433...\n",
      "PubMed data is already prepared.\n"
     ]
    },
    {
     "data": {
      "text/plain": "Generating train split: 0 examples [00:00, ? examples/s]",
      "application/vnd.jupyter.widget-view+json": {
       "version_major": 2,
       "version_minor": 0,
       "model_id": "bad3877cc77a4f39a21a0e7b232bcd1b"
      }
     },
     "metadata": {},
     "output_type": "display_data"
    },
    {
     "name": "stdout",
     "output_type": "stream",
     "text": [
      "Dataset sigir2017 downloaded and prepared to /Users/wojciechkusa/.cache/huggingface/datasets/sigir2017/sigir2017_CD010226_bigbio_text/1.0.0/daf29aab6d84a87e179ad657f8285c8d31895224a59872f0bc0ccd8369637433. Subsequent calls will reuse this data.\n"
     ]
    },
    {
     "data": {
      "text/plain": "  0%|          | 0/1 [00:00<?, ?it/s]",
      "application/vnd.jupyter.widget-view+json": {
       "version_major": 2,
       "version_minor": 0,
       "model_id": "edc1ac4b9ce34166887d466ab09be9d0"
      }
     },
     "metadata": {},
     "output_type": "display_data"
    },
    {
     "name": "stdout",
     "output_type": "stream",
     "text": [
      "Downloading and preparing dataset sigir2017/sigir2017_CD003067_bigbio_text to /Users/wojciechkusa/.cache/huggingface/datasets/sigir2017/sigir2017_CD003067_bigbio_text/1.0.0/daf29aab6d84a87e179ad657f8285c8d31895224a59872f0bc0ccd8369637433...\n",
      "PubMed data is already prepared.\n"
     ]
    },
    {
     "data": {
      "text/plain": "Generating train split: 0 examples [00:00, ? examples/s]",
      "application/vnd.jupyter.widget-view+json": {
       "version_major": 2,
       "version_minor": 0,
       "model_id": "dd23315704734473ac88e5b32795fc31"
      }
     },
     "metadata": {},
     "output_type": "display_data"
    },
    {
     "name": "stdout",
     "output_type": "stream",
     "text": [
      "Dataset sigir2017 downloaded and prepared to /Users/wojciechkusa/.cache/huggingface/datasets/sigir2017/sigir2017_CD003067_bigbio_text/1.0.0/daf29aab6d84a87e179ad657f8285c8d31895224a59872f0bc0ccd8369637433. Subsequent calls will reuse this data.\n"
     ]
    },
    {
     "data": {
      "text/plain": "  0%|          | 0/1 [00:00<?, ?it/s]",
      "application/vnd.jupyter.widget-view+json": {
       "version_major": 2,
       "version_minor": 0,
       "model_id": "d902bc61b187479e9869e5e42a773ba4"
      }
     },
     "metadata": {},
     "output_type": "display_data"
    },
    {
     "name": "stdout",
     "output_type": "stream",
     "text": [
      "Downloading and preparing dataset sigir2017/sigir2017_CD008020_bigbio_text to /Users/wojciechkusa/.cache/huggingface/datasets/sigir2017/sigir2017_CD008020_bigbio_text/1.0.0/daf29aab6d84a87e179ad657f8285c8d31895224a59872f0bc0ccd8369637433...\n",
      "PubMed data is already prepared.\n"
     ]
    },
    {
     "data": {
      "text/plain": "Generating train split: 0 examples [00:00, ? examples/s]",
      "application/vnd.jupyter.widget-view+json": {
       "version_major": 2,
       "version_minor": 0,
       "model_id": "10015c78bfe7486d8ba764c4d09944d4"
      }
     },
     "metadata": {},
     "output_type": "display_data"
    },
    {
     "name": "stdout",
     "output_type": "stream",
     "text": [
      "Dataset sigir2017 downloaded and prepared to /Users/wojciechkusa/.cache/huggingface/datasets/sigir2017/sigir2017_CD008020_bigbio_text/1.0.0/daf29aab6d84a87e179ad657f8285c8d31895224a59872f0bc0ccd8369637433. Subsequent calls will reuse this data.\n"
     ]
    },
    {
     "data": {
      "text/plain": "  0%|          | 0/1 [00:00<?, ?it/s]",
      "application/vnd.jupyter.widget-view+json": {
       "version_major": 2,
       "version_minor": 0,
       "model_id": "04e828b46e384bf3bbefc39d7aa4aeac"
      }
     },
     "metadata": {},
     "output_type": "display_data"
    },
    {
     "name": "stdout",
     "output_type": "stream",
     "text": [
      "Downloading and preparing dataset sigir2017/sigir2017_CD002115_bigbio_text to /Users/wojciechkusa/.cache/huggingface/datasets/sigir2017/sigir2017_CD002115_bigbio_text/1.0.0/daf29aab6d84a87e179ad657f8285c8d31895224a59872f0bc0ccd8369637433...\n",
      "PubMed data is already prepared.\n"
     ]
    },
    {
     "data": {
      "text/plain": "Generating train split: 0 examples [00:00, ? examples/s]",
      "application/vnd.jupyter.widget-view+json": {
       "version_major": 2,
       "version_minor": 0,
       "model_id": "a6f1fb4669b64d44af271ce6e0b56306"
      }
     },
     "metadata": {},
     "output_type": "display_data"
    },
    {
     "name": "stdout",
     "output_type": "stream",
     "text": [
      "Dataset sigir2017 downloaded and prepared to /Users/wojciechkusa/.cache/huggingface/datasets/sigir2017/sigir2017_CD002115_bigbio_text/1.0.0/daf29aab6d84a87e179ad657f8285c8d31895224a59872f0bc0ccd8369637433. Subsequent calls will reuse this data.\n"
     ]
    },
    {
     "data": {
      "text/plain": "  0%|          | 0/1 [00:00<?, ?it/s]",
      "application/vnd.jupyter.widget-view+json": {
       "version_major": 2,
       "version_minor": 0,
       "model_id": "07fca472e57f42ddbe28fe613bc4fb55"
      }
     },
     "metadata": {},
     "output_type": "display_data"
    },
    {
     "name": "stdout",
     "output_type": "stream",
     "text": [
      "Downloading and preparing dataset sigir2017/sigir2017_CD000014_bigbio_text to /Users/wojciechkusa/.cache/huggingface/datasets/sigir2017/sigir2017_CD000014_bigbio_text/1.0.0/daf29aab6d84a87e179ad657f8285c8d31895224a59872f0bc0ccd8369637433...\n",
      "PubMed data is already prepared.\n"
     ]
    },
    {
     "data": {
      "text/plain": "Generating train split: 0 examples [00:00, ? examples/s]",
      "application/vnd.jupyter.widget-view+json": {
       "version_major": 2,
       "version_minor": 0,
       "model_id": "5cebec0c99d240ca8d33c8bd752787ae"
      }
     },
     "metadata": {},
     "output_type": "display_data"
    },
    {
     "name": "stdout",
     "output_type": "stream",
     "text": [
      "Dataset sigir2017 downloaded and prepared to /Users/wojciechkusa/.cache/huggingface/datasets/sigir2017/sigir2017_CD000014_bigbio_text/1.0.0/daf29aab6d84a87e179ad657f8285c8d31895224a59872f0bc0ccd8369637433. Subsequent calls will reuse this data.\n"
     ]
    },
    {
     "data": {
      "text/plain": "  0%|          | 0/1 [00:00<?, ?it/s]",
      "application/vnd.jupyter.widget-view+json": {
       "version_major": 2,
       "version_minor": 0,
       "model_id": "ea381fb903a04cfeab4b0daf3f00eea5"
      }
     },
     "metadata": {},
     "output_type": "display_data"
    },
    {
     "name": "stdout",
     "output_type": "stream",
     "text": [
      "Downloading and preparing dataset sigir2017/sigir2017_CD007699_bigbio_text to /Users/wojciechkusa/.cache/huggingface/datasets/sigir2017/sigir2017_CD007699_bigbio_text/1.0.0/daf29aab6d84a87e179ad657f8285c8d31895224a59872f0bc0ccd8369637433...\n",
      "PubMed data is already prepared.\n"
     ]
    },
    {
     "data": {
      "text/plain": "Generating train split: 0 examples [00:00, ? examples/s]",
      "application/vnd.jupyter.widget-view+json": {
       "version_major": 2,
       "version_minor": 0,
       "model_id": "1f7e685b9a734a9b986016babc6ac3a2"
      }
     },
     "metadata": {},
     "output_type": "display_data"
    },
    {
     "name": "stdout",
     "output_type": "stream",
     "text": [
      "Dataset sigir2017 downloaded and prepared to /Users/wojciechkusa/.cache/huggingface/datasets/sigir2017/sigir2017_CD007699_bigbio_text/1.0.0/daf29aab6d84a87e179ad657f8285c8d31895224a59872f0bc0ccd8369637433. Subsequent calls will reuse this data.\n"
     ]
    },
    {
     "data": {
      "text/plain": "  0%|          | 0/1 [00:00<?, ?it/s]",
      "application/vnd.jupyter.widget-view+json": {
       "version_major": 2,
       "version_minor": 0,
       "model_id": "fa8b47812b304a95bc6fd23d78845a39"
      }
     },
     "metadata": {},
     "output_type": "display_data"
    },
    {
     "name": "stdout",
     "output_type": "stream",
     "text": [
      "Downloading and preparing dataset sigir2017/sigir2017_CD006546_bigbio_text to /Users/wojciechkusa/.cache/huggingface/datasets/sigir2017/sigir2017_CD006546_bigbio_text/1.0.0/daf29aab6d84a87e179ad657f8285c8d31895224a59872f0bc0ccd8369637433...\n",
      "PubMed data is already prepared.\n"
     ]
    },
    {
     "data": {
      "text/plain": "Generating train split: 0 examples [00:00, ? examples/s]",
      "application/vnd.jupyter.widget-view+json": {
       "version_major": 2,
       "version_minor": 0,
       "model_id": "aa0305e6a5ff40f1a4428b53438025ef"
      }
     },
     "metadata": {},
     "output_type": "display_data"
    },
    {
     "name": "stdout",
     "output_type": "stream",
     "text": [
      "Dataset sigir2017 downloaded and prepared to /Users/wojciechkusa/.cache/huggingface/datasets/sigir2017/sigir2017_CD006546_bigbio_text/1.0.0/daf29aab6d84a87e179ad657f8285c8d31895224a59872f0bc0ccd8369637433. Subsequent calls will reuse this data.\n"
     ]
    },
    {
     "data": {
      "text/plain": "  0%|          | 0/1 [00:00<?, ?it/s]",
      "application/vnd.jupyter.widget-view+json": {
       "version_major": 2,
       "version_minor": 0,
       "model_id": "b2d9284c1f5343ae81e3993989a06658"
      }
     },
     "metadata": {},
     "output_type": "display_data"
    },
    {
     "name": "stdout",
     "output_type": "stream",
     "text": [
      "Downloading and preparing dataset sigir2017/sigir2017_CD008426_bigbio_text to /Users/wojciechkusa/.cache/huggingface/datasets/sigir2017/sigir2017_CD008426_bigbio_text/1.0.0/daf29aab6d84a87e179ad657f8285c8d31895224a59872f0bc0ccd8369637433...\n",
      "PubMed data is already prepared.\n"
     ]
    },
    {
     "data": {
      "text/plain": "Generating train split: 0 examples [00:00, ? examples/s]",
      "application/vnd.jupyter.widget-view+json": {
       "version_major": 2,
       "version_minor": 0,
       "model_id": "0b3805e77f2648289cf8716c5cbe7f96"
      }
     },
     "metadata": {},
     "output_type": "display_data"
    },
    {
     "name": "stdout",
     "output_type": "stream",
     "text": [
      "Dataset sigir2017 downloaded and prepared to /Users/wojciechkusa/.cache/huggingface/datasets/sigir2017/sigir2017_CD008426_bigbio_text/1.0.0/daf29aab6d84a87e179ad657f8285c8d31895224a59872f0bc0ccd8369637433. Subsequent calls will reuse this data.\n"
     ]
    },
    {
     "data": {
      "text/plain": "  0%|          | 0/1 [00:00<?, ?it/s]",
      "application/vnd.jupyter.widget-view+json": {
       "version_major": 2,
       "version_minor": 0,
       "model_id": "550df3ac20df463b8bd1412984255283"
      }
     },
     "metadata": {},
     "output_type": "display_data"
    },
    {
     "name": "stdout",
     "output_type": "stream",
     "text": [
      "Downloading and preparing dataset sigir2017/sigir2017_CD006745_bigbio_text to /Users/wojciechkusa/.cache/huggingface/datasets/sigir2017/sigir2017_CD006745_bigbio_text/1.0.0/daf29aab6d84a87e179ad657f8285c8d31895224a59872f0bc0ccd8369637433...\n",
      "PubMed data is already prepared.\n"
     ]
    },
    {
     "data": {
      "text/plain": "Generating train split: 0 examples [00:00, ? examples/s]",
      "application/vnd.jupyter.widget-view+json": {
       "version_major": 2,
       "version_minor": 0,
       "model_id": "3771005a563a4958922867848bcd4531"
      }
     },
     "metadata": {},
     "output_type": "display_data"
    },
    {
     "name": "stdout",
     "output_type": "stream",
     "text": [
      "Dataset sigir2017 downloaded and prepared to /Users/wojciechkusa/.cache/huggingface/datasets/sigir2017/sigir2017_CD006745_bigbio_text/1.0.0/daf29aab6d84a87e179ad657f8285c8d31895224a59872f0bc0ccd8369637433. Subsequent calls will reuse this data.\n"
     ]
    },
    {
     "data": {
      "text/plain": "  0%|          | 0/1 [00:00<?, ?it/s]",
      "application/vnd.jupyter.widget-view+json": {
       "version_major": 2,
       "version_minor": 0,
       "model_id": "d434e8b25fde448585642431fd477b96"
      }
     },
     "metadata": {},
     "output_type": "display_data"
    },
    {
     "name": "stdout",
     "output_type": "stream",
     "text": [
      "Downloading and preparing dataset sigir2017/sigir2017_CD006342_bigbio_text to /Users/wojciechkusa/.cache/huggingface/datasets/sigir2017/sigir2017_CD006342_bigbio_text/1.0.0/daf29aab6d84a87e179ad657f8285c8d31895224a59872f0bc0ccd8369637433...\n",
      "PubMed data is already prepared.\n"
     ]
    },
    {
     "data": {
      "text/plain": "Generating train split: 0 examples [00:00, ? examples/s]",
      "application/vnd.jupyter.widget-view+json": {
       "version_major": 2,
       "version_minor": 0,
       "model_id": "9aad02d0ae0f4d36b45c3a59eb6283c5"
      }
     },
     "metadata": {},
     "output_type": "display_data"
    },
    {
     "name": "stdout",
     "output_type": "stream",
     "text": [
      "Dataset sigir2017 downloaded and prepared to /Users/wojciechkusa/.cache/huggingface/datasets/sigir2017/sigir2017_CD006342_bigbio_text/1.0.0/daf29aab6d84a87e179ad657f8285c8d31895224a59872f0bc0ccd8369637433. Subsequent calls will reuse this data.\n"
     ]
    },
    {
     "data": {
      "text/plain": "  0%|          | 0/1 [00:00<?, ?it/s]",
      "application/vnd.jupyter.widget-view+json": {
       "version_major": 2,
       "version_minor": 0,
       "model_id": "004d0f946ed94a92be54048c7829c7b3"
      }
     },
     "metadata": {},
     "output_type": "display_data"
    },
    {
     "name": "stdout",
     "output_type": "stream",
     "text": [
      "Downloading and preparing dataset sigir2017/sigir2017_CD008213_bigbio_text to /Users/wojciechkusa/.cache/huggingface/datasets/sigir2017/sigir2017_CD008213_bigbio_text/1.0.0/daf29aab6d84a87e179ad657f8285c8d31895224a59872f0bc0ccd8369637433...\n",
      "PubMed data is already prepared.\n"
     ]
    },
    {
     "data": {
      "text/plain": "Generating train split: 0 examples [00:00, ? examples/s]",
      "application/vnd.jupyter.widget-view+json": {
       "version_major": 2,
       "version_minor": 0,
       "model_id": "d97ecfb409ed46019bbfe96f5f94d1dc"
      }
     },
     "metadata": {},
     "output_type": "display_data"
    },
    {
     "name": "stdout",
     "output_type": "stream",
     "text": [
      "Dataset sigir2017 downloaded and prepared to /Users/wojciechkusa/.cache/huggingface/datasets/sigir2017/sigir2017_CD008213_bigbio_text/1.0.0/daf29aab6d84a87e179ad657f8285c8d31895224a59872f0bc0ccd8369637433. Subsequent calls will reuse this data.\n"
     ]
    },
    {
     "data": {
      "text/plain": "  0%|          | 0/1 [00:00<?, ?it/s]",
      "application/vnd.jupyter.widget-view+json": {
       "version_major": 2,
       "version_minor": 0,
       "model_id": "7a3146c5749c4876a00ea86c8a244f30"
      }
     },
     "metadata": {},
     "output_type": "display_data"
    },
    {
     "name": "stdout",
     "output_type": "stream",
     "text": [
      "Downloading and preparing dataset sigir2017/sigir2017_CD004288_bigbio_text to /Users/wojciechkusa/.cache/huggingface/datasets/sigir2017/sigir2017_CD004288_bigbio_text/1.0.0/daf29aab6d84a87e179ad657f8285c8d31895224a59872f0bc0ccd8369637433...\n",
      "PubMed data is already prepared.\n"
     ]
    },
    {
     "data": {
      "text/plain": "Generating train split: 0 examples [00:00, ? examples/s]",
      "application/vnd.jupyter.widget-view+json": {
       "version_major": 2,
       "version_minor": 0,
       "model_id": "13e909a804c0433b80b8dccb5b021183"
      }
     },
     "metadata": {},
     "output_type": "display_data"
    },
    {
     "name": "stdout",
     "output_type": "stream",
     "text": [
      "Dataset sigir2017 downloaded and prepared to /Users/wojciechkusa/.cache/huggingface/datasets/sigir2017/sigir2017_CD004288_bigbio_text/1.0.0/daf29aab6d84a87e179ad657f8285c8d31895224a59872f0bc0ccd8369637433. Subsequent calls will reuse this data.\n"
     ]
    },
    {
     "data": {
      "text/plain": "  0%|          | 0/1 [00:00<?, ?it/s]",
      "application/vnd.jupyter.widget-view+json": {
       "version_major": 2,
       "version_minor": 0,
       "model_id": "18b8b0989cdd414cb0a971fcd41f27da"
      }
     },
     "metadata": {},
     "output_type": "display_data"
    },
    {
     "name": "stdout",
     "output_type": "stream",
     "text": [
      "Downloading and preparing dataset sigir2017/sigir2017_CD004875_bigbio_text to /Users/wojciechkusa/.cache/huggingface/datasets/sigir2017/sigir2017_CD004875_bigbio_text/1.0.0/daf29aab6d84a87e179ad657f8285c8d31895224a59872f0bc0ccd8369637433...\n",
      "PubMed data is already prepared.\n"
     ]
    },
    {
     "data": {
      "text/plain": "Generating train split: 0 examples [00:00, ? examples/s]",
      "application/vnd.jupyter.widget-view+json": {
       "version_major": 2,
       "version_minor": 0,
       "model_id": "341c4eb8493a4bbf8d5f22b6e1cf07bd"
      }
     },
     "metadata": {},
     "output_type": "display_data"
    },
    {
     "name": "stdout",
     "output_type": "stream",
     "text": [
      "Dataset sigir2017 downloaded and prepared to /Users/wojciechkusa/.cache/huggingface/datasets/sigir2017/sigir2017_CD004875_bigbio_text/1.0.0/daf29aab6d84a87e179ad657f8285c8d31895224a59872f0bc0ccd8369637433. Subsequent calls will reuse this data.\n"
     ]
    },
    {
     "data": {
      "text/plain": "  0%|          | 0/1 [00:00<?, ?it/s]",
      "application/vnd.jupyter.widget-view+json": {
       "version_major": 2,
       "version_minor": 0,
       "model_id": "19cdcf54a85548fcb007b4c62399d9fd"
      }
     },
     "metadata": {},
     "output_type": "display_data"
    },
    {
     "name": "stdout",
     "output_type": "stream",
     "text": [
      "Downloading and preparing dataset sigir2017/sigir2017_CD010447_bigbio_text to /Users/wojciechkusa/.cache/huggingface/datasets/sigir2017/sigir2017_CD010447_bigbio_text/1.0.0/daf29aab6d84a87e179ad657f8285c8d31895224a59872f0bc0ccd8369637433...\n",
      "PubMed data is already prepared.\n"
     ]
    },
    {
     "data": {
      "text/plain": "Generating train split: 0 examples [00:00, ? examples/s]",
      "application/vnd.jupyter.widget-view+json": {
       "version_major": 2,
       "version_minor": 0,
       "model_id": "3f419a262a604c03b1964ed28630e044"
      }
     },
     "metadata": {},
     "output_type": "display_data"
    },
    {
     "name": "stdout",
     "output_type": "stream",
     "text": [
      "Dataset sigir2017 downloaded and prepared to /Users/wojciechkusa/.cache/huggingface/datasets/sigir2017/sigir2017_CD010447_bigbio_text/1.0.0/daf29aab6d84a87e179ad657f8285c8d31895224a59872f0bc0ccd8369637433. Subsequent calls will reuse this data.\n"
     ]
    },
    {
     "data": {
      "text/plain": "  0%|          | 0/1 [00:00<?, ?it/s]",
      "application/vnd.jupyter.widget-view+json": {
       "version_major": 2,
       "version_minor": 0,
       "model_id": "a404c2814f274b22802c5d07e33d7dc0"
      }
     },
     "metadata": {},
     "output_type": "display_data"
    },
    {
     "name": "stdout",
     "output_type": "stream",
     "text": [
      "Downloading and preparing dataset sigir2017/sigir2017_CD010845_bigbio_text to /Users/wojciechkusa/.cache/huggingface/datasets/sigir2017/sigir2017_CD010845_bigbio_text/1.0.0/daf29aab6d84a87e179ad657f8285c8d31895224a59872f0bc0ccd8369637433...\n",
      "PubMed data is already prepared.\n"
     ]
    },
    {
     "data": {
      "text/plain": "Generating train split: 0 examples [00:00, ? examples/s]",
      "application/vnd.jupyter.widget-view+json": {
       "version_major": 2,
       "version_minor": 0,
       "model_id": "4ba36853689142f69e9d91af5c985e74"
      }
     },
     "metadata": {},
     "output_type": "display_data"
    },
    {
     "name": "stdout",
     "output_type": "stream",
     "text": [
      "Dataset sigir2017 downloaded and prepared to /Users/wojciechkusa/.cache/huggingface/datasets/sigir2017/sigir2017_CD010845_bigbio_text/1.0.0/daf29aab6d84a87e179ad657f8285c8d31895224a59872f0bc0ccd8369637433. Subsequent calls will reuse this data.\n"
     ]
    },
    {
     "data": {
      "text/plain": "  0%|          | 0/1 [00:00<?, ?it/s]",
      "application/vnd.jupyter.widget-view+json": {
       "version_major": 2,
       "version_minor": 0,
       "model_id": "dffb715a2558467db5f50f507d45ca53"
      }
     },
     "metadata": {},
     "output_type": "display_data"
    },
    {
     "name": "stdout",
     "output_type": "stream",
     "text": [
      "Downloading and preparing dataset sigir2017/sigir2017_CD009530_bigbio_text to /Users/wojciechkusa/.cache/huggingface/datasets/sigir2017/sigir2017_CD009530_bigbio_text/1.0.0/daf29aab6d84a87e179ad657f8285c8d31895224a59872f0bc0ccd8369637433...\n",
      "PubMed data is already prepared.\n"
     ]
    },
    {
     "data": {
      "text/plain": "Generating train split: 0 examples [00:00, ? examples/s]",
      "application/vnd.jupyter.widget-view+json": {
       "version_major": 2,
       "version_minor": 0,
       "model_id": "2e50f61cf62c4df4a5aef30706937976"
      }
     },
     "metadata": {},
     "output_type": "display_data"
    },
    {
     "name": "stdout",
     "output_type": "stream",
     "text": [
      "Dataset sigir2017 downloaded and prepared to /Users/wojciechkusa/.cache/huggingface/datasets/sigir2017/sigir2017_CD009530_bigbio_text/1.0.0/daf29aab6d84a87e179ad657f8285c8d31895224a59872f0bc0ccd8369637433. Subsequent calls will reuse this data.\n"
     ]
    },
    {
     "data": {
      "text/plain": "  0%|          | 0/1 [00:00<?, ?it/s]",
      "application/vnd.jupyter.widget-view+json": {
       "version_major": 2,
       "version_minor": 0,
       "model_id": "a25ceb34625f4be68e2145a32311788a"
      }
     },
     "metadata": {},
     "output_type": "display_data"
    },
    {
     "name": "stdout",
     "output_type": "stream",
     "text": [
      "Downloading and preparing dataset sigir2017/sigir2017_CD009537_bigbio_text to /Users/wojciechkusa/.cache/huggingface/datasets/sigir2017/sigir2017_CD009537_bigbio_text/1.0.0/daf29aab6d84a87e179ad657f8285c8d31895224a59872f0bc0ccd8369637433...\n",
      "PubMed data is already prepared.\n"
     ]
    },
    {
     "data": {
      "text/plain": "Generating train split: 0 examples [00:00, ? examples/s]",
      "application/vnd.jupyter.widget-view+json": {
       "version_major": 2,
       "version_minor": 0,
       "model_id": "5b8f8e9e48af429fb1c36a54224147a4"
      }
     },
     "metadata": {},
     "output_type": "display_data"
    },
    {
     "name": "stdout",
     "output_type": "stream",
     "text": [
      "Dataset sigir2017 downloaded and prepared to /Users/wojciechkusa/.cache/huggingface/datasets/sigir2017/sigir2017_CD009537_bigbio_text/1.0.0/daf29aab6d84a87e179ad657f8285c8d31895224a59872f0bc0ccd8369637433. Subsequent calls will reuse this data.\n"
     ]
    },
    {
     "data": {
      "text/plain": "  0%|          | 0/1 [00:00<?, ?it/s]",
      "application/vnd.jupyter.widget-view+json": {
       "version_major": 2,
       "version_minor": 0,
       "model_id": "fe271271d6da4f7c9d5db712ad91c846"
      }
     },
     "metadata": {},
     "output_type": "display_data"
    },
    {
     "name": "stdout",
     "output_type": "stream",
     "text": [
      "Downloading and preparing dataset sigir2017/sigir2017_CD002143_bigbio_text to /Users/wojciechkusa/.cache/huggingface/datasets/sigir2017/sigir2017_CD002143_bigbio_text/1.0.0/daf29aab6d84a87e179ad657f8285c8d31895224a59872f0bc0ccd8369637433...\n",
      "PubMed data is already prepared.\n"
     ]
    },
    {
     "data": {
      "text/plain": "Generating train split: 0 examples [00:00, ? examples/s]",
      "application/vnd.jupyter.widget-view+json": {
       "version_major": 2,
       "version_minor": 0,
       "model_id": "8939e572c7574e45bca11461163e8010"
      }
     },
     "metadata": {},
     "output_type": "display_data"
    },
    {
     "name": "stdout",
     "output_type": "stream",
     "text": [
      "Dataset sigir2017 downloaded and prepared to /Users/wojciechkusa/.cache/huggingface/datasets/sigir2017/sigir2017_CD002143_bigbio_text/1.0.0/daf29aab6d84a87e179ad657f8285c8d31895224a59872f0bc0ccd8369637433. Subsequent calls will reuse this data.\n"
     ]
    },
    {
     "data": {
      "text/plain": "  0%|          | 0/1 [00:00<?, ?it/s]",
      "application/vnd.jupyter.widget-view+json": {
       "version_major": 2,
       "version_minor": 0,
       "model_id": "81da7edf5f33446abe916ea558736896"
      }
     },
     "metadata": {},
     "output_type": "display_data"
    },
    {
     "name": "stdout",
     "output_type": "stream",
     "text": [
      "Downloading and preparing dataset sigir2017/sigir2017_CD010425_bigbio_text to /Users/wojciechkusa/.cache/huggingface/datasets/sigir2017/sigir2017_CD010425_bigbio_text/1.0.0/daf29aab6d84a87e179ad657f8285c8d31895224a59872f0bc0ccd8369637433...\n",
      "PubMed data is already prepared.\n"
     ]
    },
    {
     "data": {
      "text/plain": "Generating train split: 0 examples [00:00, ? examples/s]",
      "application/vnd.jupyter.widget-view+json": {
       "version_major": 2,
       "version_minor": 0,
       "model_id": "7216ed5f68174fae8b94e8e878c95625"
      }
     },
     "metadata": {},
     "output_type": "display_data"
    },
    {
     "name": "stdout",
     "output_type": "stream",
     "text": [
      "Dataset sigir2017 downloaded and prepared to /Users/wojciechkusa/.cache/huggingface/datasets/sigir2017/sigir2017_CD010425_bigbio_text/1.0.0/daf29aab6d84a87e179ad657f8285c8d31895224a59872f0bc0ccd8369637433. Subsequent calls will reuse this data.\n"
     ]
    },
    {
     "data": {
      "text/plain": "  0%|          | 0/1 [00:00<?, ?it/s]",
      "application/vnd.jupyter.widget-view+json": {
       "version_major": 2,
       "version_minor": 0,
       "model_id": "af068c316fe34a40b919da75c0635e64"
      }
     },
     "metadata": {},
     "output_type": "display_data"
    },
    {
     "name": "stdout",
     "output_type": "stream",
     "text": [
      "Downloading and preparing dataset sigir2017/sigir2017_CD011145_bigbio_text to /Users/wojciechkusa/.cache/huggingface/datasets/sigir2017/sigir2017_CD011145_bigbio_text/1.0.0/daf29aab6d84a87e179ad657f8285c8d31895224a59872f0bc0ccd8369637433...\n",
      "PubMed data is already prepared.\n"
     ]
    },
    {
     "data": {
      "text/plain": "Generating train split: 0 examples [00:00, ? examples/s]",
      "application/vnd.jupyter.widget-view+json": {
       "version_major": 2,
       "version_minor": 0,
       "model_id": "2cb01b5f0f52417e8ffd0c904b3716d5"
      }
     },
     "metadata": {},
     "output_type": "display_data"
    },
    {
     "name": "stdout",
     "output_type": "stream",
     "text": [
      "Dataset sigir2017 downloaded and prepared to /Users/wojciechkusa/.cache/huggingface/datasets/sigir2017/sigir2017_CD011145_bigbio_text/1.0.0/daf29aab6d84a87e179ad657f8285c8d31895224a59872f0bc0ccd8369637433. Subsequent calls will reuse this data.\n"
     ]
    },
    {
     "data": {
      "text/plain": "  0%|          | 0/1 [00:00<?, ?it/s]",
      "application/vnd.jupyter.widget-view+json": {
       "version_major": 2,
       "version_minor": 0,
       "model_id": "dd4d57d7189b42788a592d80f025a5ee"
      }
     },
     "metadata": {},
     "output_type": "display_data"
    },
    {
     "name": "stdout",
     "output_type": "stream",
     "text": [
      "Downloading and preparing dataset tar2019/tar2019_CD012567_bigbio_text to /Users/wojciechkusa/.cache/huggingface/datasets/tar2019/tar2019_CD012567_bigbio_text/1.0.0/e496a70e932ee68736b74e6b8ae98055f0e1a02de48b5561cbd1b981c0ec0a3a...\n",
      "PubMed data is already prepared.\n"
     ]
    },
    {
     "data": {
      "text/plain": "Generating train split: 0 examples [00:00, ? examples/s]",
      "application/vnd.jupyter.widget-view+json": {
       "version_major": 2,
       "version_minor": 0,
       "model_id": "ab8b0c7fa3e940abbf548239666687d6"
      }
     },
     "metadata": {},
     "output_type": "display_data"
    },
    {
     "name": "stdout",
     "output_type": "stream",
     "text": [
      "Dataset tar2019 downloaded and prepared to /Users/wojciechkusa/.cache/huggingface/datasets/tar2019/tar2019_CD012567_bigbio_text/1.0.0/e496a70e932ee68736b74e6b8ae98055f0e1a02de48b5561cbd1b981c0ec0a3a. Subsequent calls will reuse this data.\n"
     ]
    },
    {
     "data": {
      "text/plain": "  0%|          | 0/1 [00:00<?, ?it/s]",
      "application/vnd.jupyter.widget-view+json": {
       "version_major": 2,
       "version_minor": 0,
       "model_id": "1e08ad391f904e7fad61e3714db94f8b"
      }
     },
     "metadata": {},
     "output_type": "display_data"
    },
    {
     "name": "stdout",
     "output_type": "stream",
     "text": [
      "Downloading and preparing dataset tar2019/tar2019_CD008081_bigbio_text to /Users/wojciechkusa/.cache/huggingface/datasets/tar2019/tar2019_CD008081_bigbio_text/1.0.0/e496a70e932ee68736b74e6b8ae98055f0e1a02de48b5561cbd1b981c0ec0a3a...\n",
      "PubMed data is already prepared.\n"
     ]
    },
    {
     "data": {
      "text/plain": "Generating train split: 0 examples [00:00, ? examples/s]",
      "application/vnd.jupyter.widget-view+json": {
       "version_major": 2,
       "version_minor": 0,
       "model_id": "5f58e77721ff49c4b8310a9e0657fa02"
      }
     },
     "metadata": {},
     "output_type": "display_data"
    },
    {
     "name": "stdout",
     "output_type": "stream",
     "text": [
      "Dataset tar2019 downloaded and prepared to /Users/wojciechkusa/.cache/huggingface/datasets/tar2019/tar2019_CD008081_bigbio_text/1.0.0/e496a70e932ee68736b74e6b8ae98055f0e1a02de48b5561cbd1b981c0ec0a3a. Subsequent calls will reuse this data.\n"
     ]
    },
    {
     "data": {
      "text/plain": "  0%|          | 0/1 [00:00<?, ?it/s]",
      "application/vnd.jupyter.widget-view+json": {
       "version_major": 2,
       "version_minor": 0,
       "model_id": "7b2669c712b34ffaa78221a030bc83f6"
      }
     },
     "metadata": {},
     "output_type": "display_data"
    },
    {
     "name": "stdout",
     "output_type": "stream",
     "text": [
      "Downloading and preparing dataset tar2019/tar2019_CD010653_bigbio_text to /Users/wojciechkusa/.cache/huggingface/datasets/tar2019/tar2019_CD010653_bigbio_text/1.0.0/e496a70e932ee68736b74e6b8ae98055f0e1a02de48b5561cbd1b981c0ec0a3a...\n",
      "PubMed data is already prepared.\n"
     ]
    },
    {
     "data": {
      "text/plain": "Generating train split: 0 examples [00:00, ? examples/s]",
      "application/vnd.jupyter.widget-view+json": {
       "version_major": 2,
       "version_minor": 0,
       "model_id": "86c19762439d46b4acf1ebe20e0c7e53"
      }
     },
     "metadata": {},
     "output_type": "display_data"
    },
    {
     "name": "stdout",
     "output_type": "stream",
     "text": [
      "Dataset tar2019 downloaded and prepared to /Users/wojciechkusa/.cache/huggingface/datasets/tar2019/tar2019_CD010653_bigbio_text/1.0.0/e496a70e932ee68736b74e6b8ae98055f0e1a02de48b5561cbd1b981c0ec0a3a. Subsequent calls will reuse this data.\n"
     ]
    },
    {
     "data": {
      "text/plain": "  0%|          | 0/1 [00:00<?, ?it/s]",
      "application/vnd.jupyter.widget-view+json": {
       "version_major": 2,
       "version_minor": 0,
       "model_id": "07cf76b76d49490f89c9a16544afc4f8"
      }
     },
     "metadata": {},
     "output_type": "display_data"
    },
    {
     "name": "stdout",
     "output_type": "stream",
     "text": [
      "Downloading and preparing dataset tar2019/tar2019_CD010239_bigbio_text to /Users/wojciechkusa/.cache/huggingface/datasets/tar2019/tar2019_CD010239_bigbio_text/1.0.0/e496a70e932ee68736b74e6b8ae98055f0e1a02de48b5561cbd1b981c0ec0a3a...\n",
      "PubMed data is already prepared.\n"
     ]
    },
    {
     "data": {
      "text/plain": "Generating train split: 0 examples [00:00, ? examples/s]",
      "application/vnd.jupyter.widget-view+json": {
       "version_major": 2,
       "version_minor": 0,
       "model_id": "6a0a48ad1f924bad8d061fe3fd203c89"
      }
     },
     "metadata": {},
     "output_type": "display_data"
    },
    {
     "name": "stdout",
     "output_type": "stream",
     "text": [
      "Dataset tar2019 downloaded and prepared to /Users/wojciechkusa/.cache/huggingface/datasets/tar2019/tar2019_CD010239_bigbio_text/1.0.0/e496a70e932ee68736b74e6b8ae98055f0e1a02de48b5561cbd1b981c0ec0a3a. Subsequent calls will reuse this data.\n"
     ]
    },
    {
     "data": {
      "text/plain": "  0%|          | 0/1 [00:00<?, ?it/s]",
      "application/vnd.jupyter.widget-view+json": {
       "version_major": 2,
       "version_minor": 0,
       "model_id": "cd9781d319f94ec3801f5739763ee78f"
      }
     },
     "metadata": {},
     "output_type": "display_data"
    },
    {
     "name": "stdout",
     "output_type": "stream",
     "text": [
      "Downloading and preparing dataset tar2019/tar2019_CD011549_bigbio_text to /Users/wojciechkusa/.cache/huggingface/datasets/tar2019/tar2019_CD011549_bigbio_text/1.0.0/e496a70e932ee68736b74e6b8ae98055f0e1a02de48b5561cbd1b981c0ec0a3a...\n",
      "PubMed data is already prepared.\n"
     ]
    },
    {
     "data": {
      "text/plain": "Generating train split: 0 examples [00:00, ? examples/s]",
      "application/vnd.jupyter.widget-view+json": {
       "version_major": 2,
       "version_minor": 0,
       "model_id": "dc968bb08a3c4f9383d54bc2759e87c9"
      }
     },
     "metadata": {},
     "output_type": "display_data"
    },
    {
     "name": "stderr",
     "output_type": "stream",
     "text": [
      "/Users/wojciechkusa/opt/miniconda3/envs/systematic-review-datasets/lib/python3.10/site-packages/datasets/download/streaming_download_manager.py:789: DtypeWarning: Columns (2,3,4,7,9,10,11,40,46,49,50,51,53,54,56,57,60,61) have mixed types. Specify dtype option on import or set low_memory=False.\n",
      "  return pd.read_csv(xopen(filepath_or_buffer, \"rb\", use_auth_token=use_auth_token), **kwargs)\n"
     ]
    },
    {
     "name": "stdout",
     "output_type": "stream",
     "text": [
      "Dataset tar2019 downloaded and prepared to /Users/wojciechkusa/.cache/huggingface/datasets/tar2019/tar2019_CD011549_bigbio_text/1.0.0/e496a70e932ee68736b74e6b8ae98055f0e1a02de48b5561cbd1b981c0ec0a3a. Subsequent calls will reuse this data.\n"
     ]
    },
    {
     "data": {
      "text/plain": "  0%|          | 0/1 [00:00<?, ?it/s]",
      "application/vnd.jupyter.widget-view+json": {
       "version_major": 2,
       "version_minor": 0,
       "model_id": "b1923fa7795d4cd9b8365ddf0250280b"
      }
     },
     "metadata": {},
     "output_type": "display_data"
    },
    {
     "name": "stdout",
     "output_type": "stream",
     "text": [
      "Downloading and preparing dataset tar2019/tar2019_CD001261_bigbio_text to /Users/wojciechkusa/.cache/huggingface/datasets/tar2019/tar2019_CD001261_bigbio_text/1.0.0/e496a70e932ee68736b74e6b8ae98055f0e1a02de48b5561cbd1b981c0ec0a3a...\n",
      "PubMed data is already prepared.\n"
     ]
    },
    {
     "data": {
      "text/plain": "Generating train split: 0 examples [00:00, ? examples/s]",
      "application/vnd.jupyter.widget-view+json": {
       "version_major": 2,
       "version_minor": 0,
       "model_id": "85ea42dc84cb4c26bc67e537d01a22f8"
      }
     },
     "metadata": {},
     "output_type": "display_data"
    },
    {
     "name": "stdout",
     "output_type": "stream",
     "text": [
      "Dataset tar2019 downloaded and prepared to /Users/wojciechkusa/.cache/huggingface/datasets/tar2019/tar2019_CD001261_bigbio_text/1.0.0/e496a70e932ee68736b74e6b8ae98055f0e1a02de48b5561cbd1b981c0ec0a3a. Subsequent calls will reuse this data.\n"
     ]
    },
    {
     "data": {
      "text/plain": "  0%|          | 0/1 [00:00<?, ?it/s]",
      "application/vnd.jupyter.widget-view+json": {
       "version_major": 2,
       "version_minor": 0,
       "model_id": "fc28370777a54e059e2c64cf1d83064a"
      }
     },
     "metadata": {},
     "output_type": "display_data"
    },
    {
     "name": "stdout",
     "output_type": "stream",
     "text": [
      "Downloading and preparing dataset tar2019/tar2019_CD009925_bigbio_text to /Users/wojciechkusa/.cache/huggingface/datasets/tar2019/tar2019_CD009925_bigbio_text/1.0.0/e496a70e932ee68736b74e6b8ae98055f0e1a02de48b5561cbd1b981c0ec0a3a...\n"
     ]
    }
   ],
   "source": [
    "data = CSMeDCochrane.load_dataset(base_path=\"../csmed/datasets/csmed_cochrane/\")"
   ],
   "metadata": {
    "collapsed": false,
    "is_executing": true,
    "ExecuteTime": {
     "start_time": "2024-01-17T13:15:16.384565Z"
    }
   },
   "id": "da3c6ab6201aa38c"
  },
  {
   "cell_type": "code",
   "execution_count": 16,
   "outputs": [],
   "source": [
    "import os"
   ],
   "metadata": {
    "collapsed": false,
    "ExecuteTime": {
     "end_time": "2024-01-17T13:09:34.925164Z",
     "start_time": "2024-01-17T13:09:34.920503Z"
    }
   },
   "id": "918c62a8b001e05c"
  },
  {
   "cell_type": "code",
   "execution_count": 38,
   "outputs": [
    {
     "data": {
      "text/plain": "['csmed',\n '.DS_Store',\n 'configure.py',\n 'LICENSE',\n 'requirements.txt',\n 'dev-requirements.txt',\n 'config',\n 'CITATION.cff',\n 'README.md',\n 'setup.py',\n '.gitignore',\n 'scripts',\n 'visualisation',\n 'CSMeD.egg-info',\n '.git',\n 'data',\n 'vis-requirements.txt',\n 'notebooks',\n 'reports',\n '.idea']"
     },
     "execution_count": 38,
     "metadata": {},
     "output_type": "execute_result"
    }
   ],
   "source": [
    "os.listdir(\"/Users/wojciechkusa/projects/00-data/systematic-review-datasets/notebooks/../csmed/datasets/csmed_cochrane/../../../\")"
   ],
   "metadata": {
    "collapsed": false,
    "ExecuteTime": {
     "end_time": "2024-01-17T13:13:16.252885Z",
     "start_time": "2024-01-17T13:13:16.246968Z"
    }
   },
   "id": "a90fbb1c18339975"
  },
  {
   "cell_type": "code",
   "execution_count": null,
   "outputs": [],
   "source": [],
   "metadata": {
    "collapsed": false
   },
   "id": "4fcf99b9e94a28f5"
  }
 ],
 "metadata": {
  "kernelspec": {
   "display_name": "Python 3",
   "language": "python",
   "name": "python3"
  },
  "language_info": {
   "codemirror_mode": {
    "name": "ipython",
    "version": 2
   },
   "file_extension": ".py",
   "mimetype": "text/x-python",
   "name": "python",
   "nbconvert_exporter": "python",
   "pygments_lexer": "ipython2",
   "version": "2.7.6"
  }
 },
 "nbformat": 4,
 "nbformat_minor": 5
}
